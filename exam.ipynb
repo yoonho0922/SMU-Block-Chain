{
 "cells": [
  {
   "cell_type": "markdown",
   "metadata": {},
   "source": [
    "# 201910812 안윤호"
   ]
  },
  {
   "cell_type": "code",
   "execution_count": 118,
   "metadata": {},
   "outputs": [
    {
     "name": "stdout",
     "output_type": "stream",
     "text": [
      "Overwriting ../src/CusOrder.sol\n"
     ]
    }
   ],
   "source": [
    "%%writefile ../src/CusOrder.sol\n",
    "pragma solidity ^0.6.0;\n",
    "\n",
    "contract Customer {\n",
    "    uint id;\n",
    "    string name;\n",
    "    string ph;\n",
    "    string home;\n",
    "    \n",
    "    mapping(address => uint256) public balanceOf;\n",
    "    mapping(string => address) playersAddr;\n",
    "    \n",
    "    function addCustomer(uint _id, string memory _name, string memory _ph, string memory _home)  public payable {\n",
    "        id=_id;\n",
    "        name=_name;\n",
    "        ph=_ph;\n",
    "        home=_home;\n",
    "    }\n",
    "    \n",
    "    function getHomeAddress() public view returns(string memory) {\n",
    "        return home;\n",
    "    }\n",
    "    \n",
    "    function getId() view public returns(uint) {\n",
    "        return id;\n",
    "    }\n",
    "}\n",
    "\n",
    "\n",
    "contract Order {\n",
    "    \n",
    "    mapping(uint=>Customer) customerById;\n",
    "    \n",
    "    struct OrderStruct{\n",
    "        uint id;\n",
    "        string p;\n",
    "        uint n;\n",
    "        uint amount;\n",
    "        \n",
    "        uint time;\n",
    "        string status;\n",
    "        string shipping;\n",
    "    }\n",
    "    uint orderLen = 0;\n",
    "    uint totalAmount = 0;\n",
    "    \n",
    "    mapping(address=>OrderStruct) orderMap;\n",
    "    mapping(uint=>address) addressById;\n",
    "    mapping(address=>string) homeByAddr;\n",
    "    \n",
    "    address payable owner;\n",
    "    constructor() public {\n",
    "        owner = msg.sender;\n",
    "    }\n",
    "    \n",
    "    \n",
    "    function placeOrder(uint _id, string memory _p, uint _n, uint _amount) public payable{\n",
    "        \n",
    "        string memory  home = getHomeAddress();\n",
    "        OrderStruct memory o=OrderStruct(_id, _p, _n, _amount, now, \"Orderd\", home);\n",
    "        \n",
    "        orderMap[tx.origin] = o;\n",
    "        addressById[_id] = tx.origin;\n",
    "        orderLen += 1;\n",
    "        totalAmount += _amount;\n",
    "    }\n",
    "    \n",
    "    function addCustomer(uint _id, string memory _name, string memory _ph, string memory _home) public payable{\n",
    "        Customer cus = new Customer();\n",
    "        cus.addCustomer(_id, _name, _ph, _home);\n",
    "        \n",
    "        customerById[_id]=cus;\n",
    "        homeByAddr[tx.origin] = _home;\n",
    "    }\n",
    "    \n",
    "\n",
    "    function getHomeAddress() public view returns(string memory){\n",
    "        string memory home = homeByAddr[tx.origin];\n",
    "        return home;\n",
    "    }\n",
    "    \n",
    "    function getStatus() public view returns(string memory){\n",
    "        return orderMap[tx.origin].status;\n",
    "    }\n",
    "    \n",
    "    function updateStatus(uint _id, string memory _s) public isOwner {\n",
    "        orderMap[addressById[_id]].status = _s;\n",
    "    }\n",
    "    \n",
    "    function getOrderItem() public view returns(uint, string memory, string memory, string memory){\n",
    "        return (orderMap[tx.origin].id, orderMap[tx.origin].p, orderMap[tx.origin].status, orderMap[tx.origin].shipping);\n",
    "    }\n",
    "    \n",
    "    function getOrderById(uint _id)  public view returns(uint, string memory, string memory, string memory){\n",
    "        OrderStruct memory o = orderMap[addressById[_id]];\n",
    "        return (o.id, o.p, o.status, o.shipping);\n",
    "    }\n",
    "    \n",
    "    function getNOrder() public view returns(uint){\n",
    "        return orderLen;\n",
    "    }\n",
    "    \n",
    "    function getTotalOrderAmount() public view returns(uint){\n",
    "        return totalAmount;\n",
    "    }\n",
    "    \n",
    "    function queryBalance()  view public returns(uint){\n",
    "        return address(this).balance;\n",
    "    }\n",
    "    \n",
    "    modifier isOwner{\n",
    "        require(msg.sender == owner);\n",
    "        _;\n",
    "    }\n",
    "\n",
    "}"
   ]
  },
  {
   "cell_type": "code",
   "execution_count": 119,
   "metadata": {},
   "outputs": [],
   "source": [
    "!solc ../src/CusOrder.sol --combined-json abi > ..\\src\\CusOrderABI.json"
   ]
  },
  {
   "cell_type": "code",
   "execution_count": 120,
   "metadata": {},
   "outputs": [],
   "source": [
    "!solc ../src/CusOrder.sol --combined-json bin > ..\\src\\CusOrderBIN.json"
   ]
  },
  {
   "cell_type": "markdown",
   "metadata": {},
   "source": [
    "## 배포"
   ]
  },
  {
   "cell_type": "code",
   "execution_count": 121,
   "metadata": {},
   "outputs": [
    {
     "name": "stdout",
     "output_type": "stream",
     "text": [
      "Overwriting ../src/CusOrderDeploy.js\n"
     ]
    }
   ],
   "source": [
    "%%writefile ../src/CusOrderDeploy.js\n",
    "var Web3=require('web3');\n",
    "var _abiJson = require('./CusOrderABI.json');\n",
    "var _binJson = require('./CusOrderBIN.json');\n",
    "\n",
    "var web3;\n",
    "web3 = new Web3(new Web3.providers.HttpProvider(\"http://localhost:8345\"));\n",
    "\n",
    "\n",
    "contractName=Object.keys(_abiJson.contracts); \n",
    "_abiArray=JSON.parse(_abiJson.contracts[contractName[1]].abi);\n",
    "_bin=_binJson.contracts[contractName[1]].bin;\n",
    "\n",
    "async function deploy() {\n",
    "    const accounts = await web3.eth.getAccounts();\n",
    "\n",
    "    //gas check\n",
    "    new web3.eth.Contract(_abiArray).deploy({data: _bin}).estimateGas(function(err, gas) {\n",
    "        if(!err) console.log(\">> gas: \"+ gas);\n",
    "    });\n",
    "    \n",
    "    var deployed = await new web3.eth.Contract(_abiArray)\n",
    "        .deploy({data: _bin})\n",
    "        .send({from: accounts[0], gas: 1662136, gasPrice: '1000000000'}, function(err, transactionHash) {\n",
    "                if(!err) console.log(\"hash: \" + transactionHash); \n",
    "        })\n",
    "    console.log(\"---> The contract deployed to: \" + deployed.options.address)\n",
    "}\n",
    "deploy()"
   ]
  },
  {
   "cell_type": "code",
   "execution_count": 122,
   "metadata": {},
   "outputs": [
    {
     "name": "stdout",
     "output_type": "stream",
     "text": [
      ">> gas: 1660432\n",
      "hash: 0x17f87f48b85b5712bd607d76d2f479ed2f7356a61263261bf742ebaf2a4f6721\n",
      "---> The contract deployed to: 0x3DAD82caa77A687fc05AefD924056924B0905Eda\n"
     ]
    }
   ],
   "source": [
    "!node ../src/CusOrderDeploy.js"
   ]
  },
  {
   "cell_type": "markdown",
   "metadata": {},
   "source": [
    "## 사용"
   ]
  },
  {
   "cell_type": "markdown",
   "metadata": {},
   "source": [
    "# 문제3의 답"
   ]
  },
  {
   "cell_type": "code",
   "execution_count": 76,
   "metadata": {},
   "outputs": [
    {
     "name": "stdout",
     "output_type": "stream",
     "text": [
      "Overwriting ../src/CusOrderUse.js\n"
     ]
    }
   ],
   "source": [
    "%%writefile ../src/CusOrderUse.js\n",
    "var Web3=require('web3');\n",
    "var _abiJson = require('./CusOrderABI.json');\n",
    "var _binJson = require('./CusOrderBIN.json');\n",
    "\n",
    "\n",
    "var web3;\n",
    "var web3 = new Web3(new Web3.providers.WebsocketProvider(\"ws://localhost:8345\"));\n",
    "contractName=Object.keys(_abiJson.contracts); \n",
    "_bin=_binJson.contracts[contractName[1]].bin;\n",
    "_abiArray=JSON.parse(_abiJson.contracts[contractName[1]].abi);\n",
    "\n",
    "var _order = new web3.eth.Contract(_abiArray, '0x7F1a224C26BA3856442300Edd79D8236bAB6dd10');\n",
    "\n",
    "async function doIt() {\n",
    "    const accounts = await web3.eth.getAccounts();\n",
    "    const balance0 = await web3.eth.getBalance(accounts[0]);\n",
    "    const balance1 = await web3.eth.getBalance(accounts[1]);\n",
    "    const balance2 = await web3.eth.getBalance(accounts[2]);\n",
    "    \n",
    "    console.log(`account0: ${accounts[0]}, balance: ${balance0}`)\n",
    "    console.log(`account1: ${accounts[0]}, balance: ${balance1}`)\n",
    "    console.log(`account2: ${accounts[0]}, balance: ${balance2}\\n`)\n",
    "    \n",
    "    new web3.eth.Contract(_abiArray).deploy({data: _bin}).estimateGas(function(err, gas) {\n",
    "        if(!err) console.log(\"gas: \"+ gas);\n",
    "    });\n",
    "    \n",
    "    // wait and exit\n",
    "    setTimeout(function() {\n",
    "      process.exit(1);\n",
    "    }, 1000);\n",
    "}\n",
    "\n",
    "doIt()"
   ]
  },
  {
   "cell_type": "code",
   "execution_count": 77,
   "metadata": {},
   "outputs": [
    {
     "name": "stdout",
     "output_type": "stream",
     "text": [
      "account0: 0x1CEc51b65ef4A8b0124581587FC9F846FC2DAF83, balance: 100000000000000000000\n",
      "account1: 0x1CEc51b65ef4A8b0124581587FC9F846FC2DAF83, balance: 100000000000000000000\n",
      "account2: 0x1CEc51b65ef4A8b0124581587FC9F846FC2DAF83, balance: 100000000000000000000\n",
      "\n",
      "gas: 1662136\n"
     ]
    }
   ],
   "source": [
    "!node ../src/CusOrderUse.js"
   ]
  },
  {
   "cell_type": "markdown",
   "metadata": {},
   "source": [
    "# 문제4의 답"
   ]
  },
  {
   "cell_type": "code",
   "execution_count": 127,
   "metadata": {},
   "outputs": [
    {
     "name": "stdout",
     "output_type": "stream",
     "text": [
      "Overwriting ../src/CusOrderUse.js\n"
     ]
    }
   ],
   "source": [
    "%%writefile ../src/CusOrderUse.js\n",
    "var Web3=require('web3');\n",
    "var _abiJson = require('./CusOrderABI.json');\n",
    "var _binJson = require('./CusOrderBIN.json');\n",
    "\n",
    "\n",
    "var web3;\n",
    "var web3 = new Web3(new Web3.providers.WebsocketProvider(\"ws://localhost:8345\"));\n",
    "contractName=Object.keys(_abiJson.contracts); \n",
    "_bin=_binJson.contracts[contractName[1]].bin;\n",
    "_abiArray=JSON.parse(_abiJson.contracts[contractName[1]].abi);\n",
    "\n",
    "var _order = new web3.eth.Contract(_abiArray, '0x3DAD82caa77A687fc05AefD924056924B0905Eda');\n",
    "\n",
    "async function doIt() {\n",
    "    const accounts = await web3.eth.getAccounts();\n",
    "    \n",
    "    \n",
    "    await _order.methods.addCustomer(111, \"kim\", \"010-2017-1111\", \"111 hongji-dong jongro-gu seoul\")\n",
    "    .send({from: accounts[0], gas: 300000})\n",
    "    \n",
    "    await _order.methods.addCustomer(112, \"lee\", \"010-2017-1112\", \"112 hongji-dong jongro-gu seoul\")\n",
    "    .send({from: accounts[1], gas: 300000})\n",
    "    \n",
    "    await _order.methods.addCustomer(113, \"lim\", \"010-2017-1113\", \"113 hongji-dong jongro-gu seoul\")\n",
    "    .send({from: accounts[2], gas: 300000})\n",
    "    \n",
    "    var home = await _order.methods.getHomeAddress.call({from: accounts[1]})\n",
    "    console.log(home)\n",
    "    \n",
    "    // wait and exit\n",
    "    setTimeout(function() {\n",
    "      process.exit(1);\n",
    "    }, 5000);\n",
    "}\n",
    "\n",
    "doIt()"
   ]
  },
  {
   "cell_type": "markdown",
   "metadata": {},
   "source": [
    "# 문제5 풀지 못함"
   ]
  },
  {
   "cell_type": "code",
   "execution_count": 128,
   "metadata": {},
   "outputs": [
    {
     "name": "stdout",
     "output_type": "stream",
     "text": [
      "{\n",
      "  call: [Function: bound _executeMethod] {\n",
      "    request: [Function: bound _executeMethod]\n",
      "  },\n",
      "  send: [Function: bound _executeMethod] {\n",
      "    request: [Function: bound _executeMethod]\n",
      "  },\n",
      "  encodeABI: [Function: bound _encodeMethodABI],\n",
      "  estimateGas: [Function: bound _executeMethod],\n",
      "  arguments: [],\n",
      "  _method: {\n",
      "    inputs: [],\n",
      "    name: 'getHomeAddress',\n",
      "    outputs: [ [Object] ],\n",
      "    stateMutability: 'view',\n",
      "    type: 'function',\n",
      "    constant: true,\n",
      "    payable: undefined,\n",
      "    signature: '0x478e8461'\n",
      "  },\n",
      "  _parent: Contract {\n",
      "    currentProvider: [Getter/Setter],\n",
      "    _requestManager: RequestManager {\n",
      "      provider: [WebsocketProvider],\n",
      "      providers: [Object],\n",
      "      subscriptions: {}\n",
      "    },\n",
      "    givenProvider: null,\n",
      "    providers: {\n",
      "      WebsocketProvider: [Function: WebsocketProvider],\n",
      "      HttpProvider: [Function: HttpProvider],\n",
      "      IpcProvider: [Function: IpcProvider]\n",
      "    },\n",
      "    _provider: WebsocketProvider {\n",
      "      responseCallbacks: {},\n",
      "      notificationCallbacks: [Array],\n",
      "      _customTimeout: undefined,\n",
      "      connection: [W3CWebSocket],\n",
      "      connected: [Getter],\n",
      "      lastChunk: null\n",
      "    },\n",
      "    setProvider: [Function (anonymous)],\n",
      "    BatchRequest: [Function: bound Batch],\n",
      "    extend: [Function: ex] {\n",
      "      formatters: [Object],\n",
      "      utils: [Object],\n",
      "      Method: [Function: Method]\n",
      "    },\n",
      "    clearSubscriptions: [Function (anonymous)],\n",
      "    options: { address: [Getter/Setter], jsonInterface: [Getter/Setter] },\n",
      "    handleRevert: [Getter/Setter],\n",
      "    defaultCommon: [Getter/Setter],\n",
      "    defaultHardfork: [Getter/Setter],\n",
      "    defaultChain: [Getter/Setter],\n",
      "    transactionPollingTimeout: [Getter/Setter],\n",
      "    transactionConfirmationBlocks: [Getter/Setter],\n",
      "    transactionBlockTimeout: [Getter/Setter],\n",
      "    defaultAccount: [Getter/Setter],\n",
      "    defaultBlock: [Getter/Setter],\n",
      "    methods: {\n",
      "      addCustomer: [Function: bound _createTxObject],\n",
      "      '0x06773726': [Function: bound _createTxObject],\n",
      "      'addCustomer(uint256,string,string,string)': [Function: bound _createTxObject],\n",
      "      getHomeAddress: [Function: bound _createTxObject],\n",
      "      '0x478e8461': [Function: bound _createTxObject],\n",
      "      'getHomeAddress()': [Function: bound _createTxObject],\n",
      "      getNOrder: [Function: bound _createTxObject],\n",
      "      '0x9de02731': [Function: bound _createTxObject],\n",
      "      'getNOrder()': [Function: bound _createTxObject],\n",
      "      getOrderById: [Function: bound _createTxObject],\n",
      "      '0x42b50a7a': [Function: bound _createTxObject],\n",
      "      'getOrderById(uint256)': [Function: bound _createTxObject],\n",
      "      getOrderItem: [Function: bound _createTxObject],\n",
      "      '0x924b21db': [Function: bound _createTxObject],\n",
      "      'getOrderItem()': [Function: bound _createTxObject],\n",
      "      getStatus: [Function: bound _createTxObject],\n",
      "      '0x4e69d560': [Function: bound _createTxObject],\n",
      "      'getStatus()': [Function: bound _createTxObject],\n",
      "      getTotalOrderAmount: [Function: bound _createTxObject],\n",
      "      '0xb9f16309': [Function: bound _createTxObject],\n",
      "      'getTotalOrderAmount()': [Function: bound _createTxObject],\n",
      "      placeOrder: [Function: bound _createTxObject],\n",
      "      '0xc956785e': [Function: bound _createTxObject],\n",
      "      'placeOrder(uint256,string,uint256,uint256)': [Function: bound _createTxObject],\n",
      "      queryBalance: [Function: bound _createTxObject],\n",
      "      '0x36f40c61': [Function: bound _createTxObject],\n",
      "      'queryBalance()': [Function: bound _createTxObject],\n",
      "      updateStatus: [Function: bound _createTxObject],\n",
      "      '0xd1b34dd8': [Function: bound _createTxObject],\n",
      "      'updateStatus(uint256,string)': [Function: bound _createTxObject]\n",
      "    },\n",
      "    events: { allEvents: [Function: bound ] },\n",
      "    _address: '0x3DAD82caa77A687fc05AefD924056924B0905Eda',\n",
      "    _jsonInterface: [\n",
      "      [Object], [Object],\n",
      "      [Object], [Object],\n",
      "      [Object], [Object],\n",
      "      [Object], [Object],\n",
      "      [Object], [Object],\n",
      "      [Object]\n",
      "    ]\n",
      "  },\n",
      "  _ethAccounts: <ref *1> Accounts {\n",
      "    currentProvider: [Getter/Setter],\n",
      "    _requestManager: RequestManager {\n",
      "      provider: [WebsocketProvider],\n",
      "      providers: [Object],\n",
      "      subscriptions: {}\n",
      "    },\n",
      "    givenProvider: null,\n",
      "    providers: {\n",
      "      WebsocketProvider: [Function: WebsocketProvider],\n",
      "      HttpProvider: [Function: HttpProvider],\n",
      "      IpcProvider: [Function: IpcProvider]\n",
      "    },\n",
      "    _provider: WebsocketProvider {\n",
      "      responseCallbacks: {},\n",
      "      notificationCallbacks: [Array],\n",
      "      _customTimeout: undefined,\n",
      "      connection: [W3CWebSocket],\n",
      "      connected: [Getter],\n",
      "      lastChunk: null\n",
      "    },\n",
      "    setProvider: [Function (anonymous)],\n",
      "    _ethereumCall: {\n",
      "      getNetworkId: [Function],\n",
      "      getChainId: [Function],\n",
      "      getGasPrice: [Function],\n",
      "      getTransactionCount: [Function]\n",
      "    },\n",
      "    wallet: Wallet {\n",
      "      _accounts: [Circular *1],\n",
      "      length: 0,\n",
      "      defaultKeyName: 'web3js_wallet'\n",
      "    }\n",
      "  }\n",
      "}\n"
     ]
    }
   ],
   "source": [
    "!node ../src/CusOrderUse.js"
   ]
  },
  {
   "cell_type": "code",
   "execution_count": null,
   "metadata": {},
   "outputs": [],
   "source": []
  }
 ],
 "metadata": {
  "kernelspec": {
   "display_name": "Python 3",
   "language": "python",
   "name": "python3"
  },
  "language_info": {
   "codemirror_mode": {
    "name": "ipython",
    "version": 3
   },
   "file_extension": ".py",
   "mimetype": "text/x-python",
   "name": "python",
   "nbconvert_exporter": "python",
   "pygments_lexer": "ipython3",
   "version": "3.6.6"
  }
 },
 "nbformat": 4,
 "nbformat_minor": 4
}
