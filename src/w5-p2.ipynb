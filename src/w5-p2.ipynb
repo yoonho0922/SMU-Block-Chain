{
 "cells": [
  {
   "cell_type": "code",
   "execution_count": 8,
   "metadata": {},
   "outputs": [
    {
     "name": "stdout",
     "output_type": "stream",
     "text": [
      "true\n"
     ]
    }
   ],
   "source": [
    "!geth --exec admin.addPeer('enode://47ecaa02aa530ccdaf7d39731ac9b351f6e0870ef5cfeee1a3a4edfb74185fa12f132a780015ef7301101986fb051d9cda789a8f831d871596605bfc4a2e0231@218.148.204.70:38445') attach http://localhost:8445"
   ]
  },
  {
   "cell_type": "markdown",
   "metadata": {},
   "source": [
    "송금전 잔액"
   ]
  },
  {
   "cell_type": "code",
   "execution_count": 10,
   "metadata": {},
   "outputs": [
    {
     "name": "stdout",
     "output_type": "stream",
     "text": [
      "990000010999999990000\n"
     ]
    }
   ],
   "source": [
    "!geth --exec eth.getBalance(eth.coinbase) attach http://localhost:8445"
   ]
  },
  {
   "cell_type": "code",
   "execution_count": 11,
   "metadata": {},
   "outputs": [
    {
     "name": "stdout",
     "output_type": "stream",
     "text": [
      "4999978999900010000\n"
     ]
    }
   ],
   "source": [
    "!geth --exec eth.getBalance(eth.accounts[1]) attach http://localhost:8445"
   ]
  },
  {
   "cell_type": "code",
   "execution_count": null,
   "metadata": {},
   "outputs": [],
   "source": [
    "eth.sendTransaction({from: eth.accounts[1], to: \"0x216b3540837b945748d6bd3dcd4303c872883361\", value:10000000000000})\n",
    "\"0x2c8aa30cfe831052b8294755a474ccd42feccd67fb64476046e248c49069baae\""
   ]
  }
 ],
 "metadata": {
  "kernelspec": {
   "display_name": "Python 3",
   "language": "python",
   "name": "python3"
  },
  "language_info": {
   "codemirror_mode": {
    "name": "ipython",
    "version": 3
   },
   "file_extension": ".py",
   "mimetype": "text/x-python",
   "name": "python",
   "nbconvert_exporter": "python",
   "pygments_lexer": "ipython3",
   "version": "3.6.6"
  }
 },
 "nbformat": 4,
 "nbformat_minor": 4
}
