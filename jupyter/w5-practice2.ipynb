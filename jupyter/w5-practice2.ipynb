{
 "cells": [
  {
   "cell_type": "markdown",
   "metadata": {},
   "source": [
    "## 연습문제 2\n",
    "\n",
    "친구에게  주소를 구하고, 그 주소로 송금해 보자. 송금이 되지 않으면 왜 안되는지 이유를 알아보자.\n",
    "\n",
    "안되면 친구의 주소를 만들고 전송한다.\n",
    "\n",
    "잔고의 증가분을 출력하세요.\n",
    "\n",
    "소요된 gas비용 출력하세요."
   ]
  },
  {
   "cell_type": "code",
   "execution_count": 16,
   "metadata": {},
   "outputs": [
    {
     "name": "stdout",
     "output_type": "stream",
     "text": [
      "Overwriting src/w5-practice2\n"
     ]
    }
   ],
   "source": [
    "%%writefile src/w5-practice2\n",
    "\n",
    "miner.setEtherbase(eth.accounts[0])\n",
    "\n",
    "personal.unlockAccount(eth.accounts[1], \"1111\")\n",
    "\n",
    "eth.sendTransaction({\n",
    "    from: eth.accounts[1],\n",
    "    to: eth.accounts[2],\n",
    "    value: 10000000000\n",
    "})"
   ]
  },
  {
   "cell_type": "markdown",
   "metadata": {},
   "source": [
    "### 송금전 잔액"
   ]
  },
  {
   "cell_type": "code",
   "execution_count": 25,
   "metadata": {},
   "outputs": [
    {
     "name": "stdout",
     "output_type": "stream",
     "text": [
      "999999902182999990000\n",
      "25000087786900010000\n",
      "15000000030100000000\n"
     ]
    }
   ],
   "source": [
    "!geth --exec eth.getBalance(eth.accounts[0]) attach http://localhost:8445\n",
    "!geth --exec eth.getBalance(eth.accounts[1]) attach http://localhost:8445\n",
    "!geth --exec eth.getBalance(eth.accounts[2]) attach http://localhost:8445"
   ]
  },
  {
   "cell_type": "markdown",
   "metadata": {},
   "source": [
    "### accounts[1] 에서 accounts[2]로 송금"
   ]
  },
  {
   "cell_type": "code",
   "execution_count": 17,
   "metadata": {},
   "outputs": [
    {
     "name": "stdout",
     "output_type": "stream",
     "text": [
      "989999881182999990000\n",
      "25000108796900010000\n",
      "15000000020100000000\n",
      "\"0x2a85ddb5aa267dee9d2acfb4effbeb5609ee8650f91ee8018b577511f2779742\"\n"
     ]
    }
   ],
   "source": [
    "!geth --exec \"loadScript('src/w5-practice2')\" attach http://localhost:8445"
   ]
  },
  {
   "cell_type": "markdown",
   "metadata": {},
   "source": [
    "### 마이닝"
   ]
  },
  {
   "cell_type": "code",
   "execution_count": 28,
   "metadata": {},
   "outputs": [
    {
     "name": "stdout",
     "output_type": "stream",
     "text": [
      "{\n",
      "  pending: 0,\n",
      "  queued: 0\n",
      "}\n",
      "null\n",
      "{\n",
      "  pending: 0,\n",
      "  queued: 0\n",
      "}\n"
     ]
    }
   ],
   "source": [
    "#!geth --exec eth.pendingTransactions attach http://localhost:8445\n",
    "!geth --exec txpool.status attach http://localhost:8445\n",
    "!geth --exec miner.start();admin.sleepBlocks(1);miner.stop(); attach http://localhost:8445\n",
    "!geth --exec txpool.status attach http://localhost:8445"
   ]
  },
  {
   "cell_type": "markdown",
   "metadata": {},
   "source": [
    "### 송금 후 잔액"
   ]
  },
  {
   "cell_type": "code",
   "execution_count": 21,
   "metadata": {},
   "outputs": [
    {
     "name": "stdout",
     "output_type": "stream",
     "text": [
      "999999902182999990000\n",
      "25000087786900010000\n",
      "15000000030100000000\n"
     ]
    }
   ],
   "source": [
    "!geth --exec eth.getBalance(eth.accounts[0]) attach http://localhost:8445\n",
    "!geth --exec eth.getBalance(eth.accounts[1]) attach http://localhost:8445\n",
    "!geth --exec eth.getBalance(eth.accounts[2]) attach http://localhost:8445"
   ]
  }
 ],
 "metadata": {
  "kernelspec": {
   "display_name": "Python 3",
   "language": "python",
   "name": "python3"
  },
  "language_info": {
   "codemirror_mode": {
    "name": "ipython",
    "version": 3
   },
   "file_extension": ".py",
   "mimetype": "text/x-python",
   "name": "python",
   "nbconvert_exporter": "python",
   "pygments_lexer": "ipython3",
   "version": "3.6.6"
  }
 },
 "nbformat": 4,
 "nbformat_minor": 4
}
