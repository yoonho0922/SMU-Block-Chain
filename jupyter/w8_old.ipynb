{
 "cells": [
  {
   "cell_type": "markdown",
   "metadata": {},
   "source": [
    "## 웹서버로 연결하기"
   ]
  },
  {
   "cell_type": "code",
   "execution_count": 4,
   "metadata": {},
   "outputs": [
    {
     "name": "stdout",
     "output_type": "stream",
     "text": [
      "Overwriting scripts/simpleCoinbase.html\n"
     ]
    }
   ],
   "source": [
    "%%writefile scripts/simpleCoinbase.html\n",
    "<!doctype>\n",
    "<html>\n",
    "<head>\n",
    "<script src=\"https://cdn.jsdelivr.net/npm/web3@1.2.5/dist/web3.min.js\"></script>\n",
    "<!-- script src=\"https://cdn.jsdelivr.net/npm/web3@0.20.5/dist/web3.min.js\"></script -->\n",
    "<script type=\"text/javascript\">\n",
    "    var web3 = new Web3(new Web3.providers.HttpProvider(\"http://localhost:8345\"));\n",
    "\n",
    "    function displayCoinbase() {\n",
    "        \n",
    "        document.getElementById('web3ver').innerText = 'web3 version 1.2.X';\n",
    "        web3.eth.getCoinbase(function(err, coinbase){\n",
    "            document.getElementById('web3coinbase').innerText = 'coinbase: ' + coinbase;\n",
    "        })\n",
    "    }\n",
    "</script>\n",
    "</head>\n",
    "<body>\n",
    "    <h1>Hello</h1>\n",
    "    <button type=\"button\" onClick=\"displayCoinbase();\">Display Coinbase</button>\n",
    "    <div></div>\n",
    "    <div id=\"web3ver\"></div>\n",
    "    <div id=\"web3coinbase\"></div>\n",
    "</body>\n",
    "</html>"
   ]
  },
  {
   "cell_type": "markdown",
   "metadata": {},
   "source": [
    "### 파이썬 서버 실행\n",
    "python -m http.server 8045  \n",
    "localhost:8045/scripts"
   ]
  },
  {
   "cell_type": "markdown",
   "metadata": {},
   "source": [
    "### sayHello 배포 및 사용"
   ]
  },
  {
   "cell_type": "code",
   "execution_count": 15,
   "metadata": {},
   "outputs": [
    {
     "name": "stdout",
     "output_type": "stream",
     "text": [
      "accounts: 0xcAda86CB06708c212978dFf4B8B2bDc0871e29B8\n",
      "null 0x7d97eafa111fafa5f5d045d05172078fa7867da6e3789ff0e012eada5f04f32b\n",
      "0x7aD8B1E0da91Fcf367f714D18CaD84379A106a9a\n"
     ]
    }
   ],
   "source": [
    "!node src/HelloDeploy.js"
   ]
  },
  {
   "cell_type": "code",
   "execution_count": 16,
   "metadata": {},
   "outputs": [
    {
     "name": "stdout",
     "output_type": "stream",
     "text": [
      "Overwriting scripts/hello.html\n"
     ]
    }
   ],
   "source": [
    "%%writefile scripts/hello.html\n",
    "<!doctype>\n",
    "<html>\n",
    "<head>\n",
    "<script src=\"https://cdn.jsdelivr.net/npm/web3@1.2.5/dist/web3.min.js\"></script>\n",
    "<script type=\"text/javascript\">\n",
    "\n",
    "    var web3 = new Web3(new Web3.providers.HttpProvider(\"http://localhost:8345\"));\n",
    "\n",
    "    function displayHello() {\n",
    "\n",
    "        document.getElementById('web3ver').innerText = 'web3 version 1.2.x';\n",
    "        web3.eth.getCoinbase().then(function(coin) {\n",
    "            document.getElementById('web3coinbase').innerText = 'coinbase: ' + coin;\n",
    "            });\n",
    "        \n",
    "        var shelloContract = new web3.eth.Contract([{\"constant\":true,\"inputs\":[],\"name\":\"sayHello\",\"outputs\":[{\"name\":\"\",\"type\":\"string\"}],\"payable\":false,\"stateMutability\":\"pure\",\"type\":\"function\"}],\n",
    "                                      \"0x7aD8B1E0da91Fcf367f714D18CaD84379A106a9a\");\n",
    "        \n",
    "        shelloContract.methods.sayHello().call().then(function(str) {\n",
    "            document.getElementById('sayhello').innerText = \"The message from blockchain: \" + str;\n",
    "        });\n",
    "        \n",
    "    }\n",
    "</script>\n",
    "</head>\n",
    "<body>\n",
    "    <h1>Hello</h1>\n",
    "    <button type=\"button\" onClick=\"displayHello();\">Display Hello</button>\n",
    "    <div></div>\n",
    "    <div id=\"sayhello\"></div>\n",
    "    <div id=\"web3ver\"></div>\n",
    "    <div id=\"web3coinbase\"></div>\n",
    "</body>\n",
    "</html>"
   ]
  },
  {
   "cell_type": "markdown",
   "metadata": {},
   "source": [
    "## greeter"
   ]
  },
  {
   "cell_type": "markdown",
   "metadata": {},
   "source": [
    "### 1. 컨트랙 개발"
   ]
  },
  {
   "cell_type": "code",
   "execution_count": 2,
   "metadata": {},
   "outputs": [
    {
     "name": "stdout",
     "output_type": "stream",
     "text": [
      "Writing src/greeter.sol\n"
     ]
    }
   ],
   "source": [
    "%%writefile src/greeter.sol\n",
    "pragma solidity ^0.6.0;\n",
    "\n",
    "contract Greeter {\n",
    "    string greeting;\n",
    "    constructor() public {\n",
    "        greeting='Hello';\n",
    "    }\n",
    "    function setGreeting(string memory _greeting) public {\n",
    "        greeting = _greeting;\n",
    "    }\n",
    "    function greet() view public returns (string memory) {\n",
    "        return greeting;\n",
    "    }\n",
    "}"
   ]
  },
  {
   "cell_type": "markdown",
   "metadata": {},
   "source": [
    "### 2. 컴파일"
   ]
  },
  {
   "cell_type": "code",
   "execution_count": 3,
   "metadata": {
    "scrolled": true
   },
   "outputs": [
    {
     "name": "stdout",
     "output_type": "stream",
     "text": [
      "\n",
      "======= src/greeter.sol:Greeter =======\n",
      "Contract JSON ABI\n",
      "[{\"inputs\":[],\"stateMutability\":\"nonpayable\",\"type\":\"constructor\"},{\"inputs\":[],\"name\":\"greet\",\"outputs\":[{\"internalType\":\"string\",\"name\":\"\",\"type\":\"string\"}],\"stateMutability\":\"view\",\"type\":\"function\"},{\"inputs\":[{\"internalType\":\"string\",\"name\":\"_greeting\",\"type\":\"string\"}],\"name\":\"setGreeting\",\"outputs\":[],\"stateMutability\":\"nonpayable\",\"type\":\"function\"}]\n"
     ]
    }
   ],
   "source": [
    "!solc --abi src/greeter.sol"
   ]
  },
  {
   "cell_type": "code",
   "execution_count": 4,
   "metadata": {},
   "outputs": [
    {
     "name": "stdout",
     "output_type": "stream",
     "text": [
      "\n",
      "======= src/greeter.sol:Greeter =======\n",
      "Binary:\n",
      "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\n"
     ]
    }
   ],
   "source": [
    "!solc --bin src/greeter.sol"
   ]
  },
  {
   "cell_type": "markdown",
   "metadata": {},
   "source": [
    "### 3. 배포 web3"
   ]
  },
  {
   "cell_type": "code",
   "execution_count": 5,
   "metadata": {},
   "outputs": [
    {
     "name": "stdout",
     "output_type": "stream",
     "text": [
      "Writing src/greeterDeploy.js\n"
     ]
    }
   ],
   "source": [
    "%%writefile src/greeterDeploy.js\n",
    "\n",
    "var Web3=require('web3');\n",
    "var web3;\n",
    "\n",
    "if (typeof web3 !== 'undefined') {\n",
    "    web3 = new Web3(web3.currentProvider);\n",
    "} else {\n",
    "    web3 = new Web3(new Web3.providers.HttpProvider(\"http://localhost:8345\"));\n",
    "}\n",
    "\n",
    "var _abiArray=[{\"constant\":false,\"inputs\":[{\"name\":\"_greeting\",\"type\":\"string\"}],\"name\":\"setGreeting\",\"outputs\":[],\"payable\":false,\"stateMutability\":\"nonpayable\",\"type\":\"function\"},{\"constant\":true,\"inputs\":[],\"name\":\"greet\",\"outputs\":[{\"name\":\"\",\"type\":\"string\"}],\"payable\":false,\"stateMutability\":\"view\",\"type\":\"function\"},{\"inputs\":[],\"payable\":false,\"stateMutability\":\"nonpayable\",\"type\":\"constructor\"}];\n",
    "var _bin=\"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\";\n",
    "var _contract = new web3.eth.Contract(_abiArray);\n",
    "//unlock the account with a password provided\n",
    "//web3.personal.unlockAccount(web3.eth.accounts[0],'password');\n",
    "_contract\n",
    "    .deploy({data:\"0x\"+_bin})\n",
    "    .send({from: \"0x2e9669337d8a86c70A984Ff5Bd307E05808909ED\", gas: 364124, gasPrice: '1000000000'})\n",
    "    .then(function(newContractInstance){\n",
    "        console.log(newContractInstance.options.address) // instance with the new contract address\n",
    "    });"
   ]
  },
  {
   "cell_type": "code",
   "execution_count": 6,
   "metadata": {},
   "outputs": [
    {
     "name": "stdout",
     "output_type": "stream",
     "text": [
      "0x231834C584f54922a85AC69FdE9E2260eD8fDa59\n"
     ]
    }
   ],
   "source": [
    "!node src/greeterDeploy.js"
   ]
  },
  {
   "cell_type": "markdown",
   "metadata": {},
   "source": [
    "### 4. 사용"
   ]
  },
  {
   "cell_type": "code",
   "execution_count": 14,
   "metadata": {},
   "outputs": [
    {
     "name": "stdout",
     "output_type": "stream",
     "text": [
      "Overwriting src/greeterUse.js\n"
     ]
    }
   ],
   "source": [
    "%%writefile src/greeterUse.js\n",
    "var Web3=require('web3');\n",
    "var web3 = new Web3(new Web3.providers.HttpProvider(\"http://localhost:8345\"));\n",
    "var _abiArray=[{\"constant\":false,\"inputs\":[{\"name\":\"_greeting\",\"type\":\"string\"}],\"name\":\"setGreeting\",\"outputs\":[],\"payable\":false,\"stateMutability\":\"nonpayable\",\"type\":\"function\"},{\"constant\":true,\"inputs\":[],\"name\":\"greet\",\"outputs\":[{\"name\":\"\",\"type\":\"string\"}],\"payable\":false,\"stateMutability\":\"view\",\"type\":\"function\"},{\"inputs\":[],\"payable\":false,\"stateMutability\":\"nonpayable\",\"type\":\"constructor\"}];\n",
    "var greeter = new web3.eth.Contract(_abiArray,\"0x231834C584f54922a85AC69FdE9E2260eD8fDa59\");\n",
    "greeter.methods.greet().call().then(function(value) {console.log(value);});\n",
    "greeter.methods.setGreeting(\"Hello SMU\").send({from:\"0x2f0d9a855f2D4f8C71461FD60EF88Ff07F3762df\",gas:100000});\n",
    "greeter.methods.greet().call().then(function(value) {console.log(value);});"
   ]
  },
  {
   "cell_type": "code",
   "execution_count": 16,
   "metadata": {},
   "outputs": [
    {
     "name": "stdout",
     "output_type": "stream",
     "text": [
      "Hello SMU\n",
      "Hello SMU\n"
     ]
    }
   ],
   "source": [
    "!node src/greeterUse.js"
   ]
  },
  {
   "cell_type": "markdown",
   "metadata": {},
   "source": [
    "## Counter (계수기)"
   ]
  },
  {
   "cell_type": "markdown",
   "metadata": {},
   "source": [
    "### 1. 컨트랙 개발"
   ]
  },
  {
   "cell_type": "code",
   "execution_count": 17,
   "metadata": {},
   "outputs": [
    {
     "name": "stdout",
     "output_type": "stream",
     "text": [
      "Writing src/Counter.sol\n"
     ]
    }
   ],
   "source": [
    "%%writefile src/Counter.sol\n",
    "pragma solidity ^0.6.0;\n",
    "\n",
    "contract Counter {\n",
    "    uint256 counter = 0;\n",
    "    function add() public {\n",
    "        counter++;\n",
    "    }\n",
    "    function subtract() public {\n",
    "        counter--;\n",
    "    }\n",
    "    function getCounter() public view returns (uint256) {\n",
    "        return counter;\n",
    "    }\n",
    "}"
   ]
  },
  {
   "cell_type": "markdown",
   "metadata": {},
   "source": [
    "### 2. 컴파일"
   ]
  },
  {
   "cell_type": "code",
   "execution_count": 18,
   "metadata": {},
   "outputs": [
    {
     "name": "stdout",
     "output_type": "stream",
     "text": [
      "\n",
      "======= src/Counter.sol:Counter =======\n",
      "Gas estimation:\n",
      "construction:\n",
      "   5099 + 42200 = 47299\n",
      "external:\n",
      "   add():\t20959\n",
      "   getCounter():\t1035\n",
      "   subtract():\t20984\n",
      "Binary:\n",
      "60806040526000805534801561001457600080fd5b5060d3806100236000396000f3fe6080604052348015600f57600080fd5b5060043610603c5760003560e01c80634f2be91f1460415780636deebae31460495780638ada066e146051575b600080fd5b6047606d565b005b604f6080565b005b60576094565b6040518082815260200191505060405180910390f35b6000808154809291906001019190505550565b600080815480929190600190039190505550565b6000805490509056fea264697066735822122080d9d70ff6516aec61cfd97f52f17805751623584c3b022dc487fbfbf3efacde64736f6c63430006040033\n",
      "Contract JSON ABI\n",
      "[{\"inputs\":[],\"name\":\"add\",\"outputs\":[],\"stateMutability\":\"nonpayable\",\"type\":\"function\"},{\"inputs\":[],\"name\":\"getCounter\",\"outputs\":[{\"internalType\":\"uint256\",\"name\":\"\",\"type\":\"uint256\"}],\"stateMutability\":\"view\",\"type\":\"function\"},{\"inputs\":[],\"name\":\"subtract\",\"outputs\":[],\"stateMutability\":\"nonpayable\",\"type\":\"function\"}]\n"
     ]
    }
   ],
   "source": [
    "!solc --abi --bin --gas src/Counter.sol"
   ]
  },
  {
   "cell_type": "markdown",
   "metadata": {},
   "source": [
    "### 3. 배포"
   ]
  },
  {
   "cell_type": "code",
   "execution_count": 19,
   "metadata": {},
   "outputs": [
    {
     "name": "stdout",
     "output_type": "stream",
     "text": [
      "Writing src/counterDeploy.js\n"
     ]
    }
   ],
   "source": [
    "%%writefile src/counterDeploy.js\n",
    "\n",
    "var Web3=require('web3');\n",
    "var web3;\n",
    "if (typeof web3 !== 'undefined') {\n",
    "    web3 = new Web3(web3.currentProvider);\n",
    "} else {\n",
    "    web3 = new Web3(new Web3.providers.HttpProvider(\"http://localhost:8345\"));\n",
    "}\n",
    "\n",
    "//solc 0.6.1\n",
    "var _abiArray=[{\"inputs\":[],\"name\":\"add\",\"outputs\":[],\"stateMutability\":\"nonpayable\",\"type\":\"function\"},{\"inputs\":[],\"name\":\"getCounter\",\"outputs\":[{\"internalType\":\"uint256\",\"name\":\"\",\"type\":\"uint256\"}],\"stateMutability\":\"view\",\"type\":\"function\"},{\"inputs\":[],\"name\":\"subtract\",\"outputs\":[],\"stateMutability\":\"nonpayable\",\"type\":\"function\"}];\n",
    "var _bin=\"60806040526000805534801561001457600080fd5b5060d3806100236000396000f3fe6080604052348015600f57600080fd5b5060043610603c5760003560e01c80634f2be91f1460415780636deebae31460495780638ada066e146051575b600080fd5b6047606d565b005b604f6080565b005b60576094565b6040518082815260200191505060405180910390f35b6000808154809291906001019190505550565b600080815480929190600190039190505550565b6000805490509056fea2646970667358221220a19d7e0374295c3c6dd75807d6b2bb20a12deb6f736a4ad98c0065f0d9d4bf5764736f6c63430006010033\";\n",
    "var _contract = new web3.eth.Contract(_abiArray);\n",
    "//unlock the account with a password provided\n",
    "//web3.personal.unlockAccount(web3.eth.accounts[0],'password');\n",
    "_contract\n",
    "    .deploy({data:\"0x\"+_bin})\n",
    "    .send({from: \"0x2e9669337d8a86c70A984Ff5Bd307E05808909ED\", gas: 364124, gasPrice: '1000000000'})\n",
    "    .then(function(newContractInstance){\n",
    "        console.log(newContractInstance.options.address) // instance with the new contract address\n",
    "    });"
   ]
  },
  {
   "cell_type": "code",
   "execution_count": 20,
   "metadata": {},
   "outputs": [
    {
     "name": "stdout",
     "output_type": "stream",
     "text": [
      "0xF6865ceE745d8Bd8EEbB202C5Ae40757c4e6ADBa\n"
     ]
    }
   ],
   "source": [
    "!node src/counterDeploy.js"
   ]
  },
  {
   "cell_type": "markdown",
   "metadata": {},
   "source": [
    "### 4. 사용"
   ]
  },
  {
   "cell_type": "code",
   "execution_count": 29,
   "metadata": {},
   "outputs": [
    {
     "name": "stdout",
     "output_type": "stream",
     "text": [
      "Overwriting src/counterUse.js\n"
     ]
    }
   ],
   "source": [
    "%%writefile src/counterUse.js\n",
    "var Web3=require('web3');\n",
    "var web3 = new Web3(new Web3.providers.HttpProvider(\"http://localhost:8345\"));\n",
    "\n",
    "var abi =[{\"constant\":false,\"inputs\":[],\"name\":\"add\",\"outputs\":[],\"payable\":false,\"stateMutability\":\"nonpayable\",\"type\":\"function\"},{\"constant\":false,\"inputs\":[],\"name\":\"subtract\",\"outputs\":[],\"payable\":false,\"stateMutability\":\"nonpayable\",\"type\":\"function\"},{\"constant\":true,\"inputs\":[],\"name\":\"getCounter\",\"outputs\":[{\"name\":\"\",\"type\":\"uint256\"}],\"payable\":false,\"stateMutability\":\"view\",\"type\":\"function\"}];\n",
    "var addr = \"0xF6865ceE745d8Bd8EEbB202C5Ae40757c4e6ADBa\";\n",
    "var counter = new web3.eth.Contract(abi,addr);\n",
    "\n",
    "counter.methods.getCounter().call().then(function(str) {console.log(str);});\n",
    "//counter.methods.subtract().send({from:\"0x2e9669337d8a86c70A984Ff5Bd307E05808909ED\",gas:100000});\n",
    "//counter.methods.add().send({from:\"0x2e9669337d8a86c70A984Ff5Bd307E05808909ED\",gas:100000});\n",
    "counter.methods.getCounter().call().then(function(str) {console.log(str);});"
   ]
  },
  {
   "cell_type": "code",
   "execution_count": 31,
   "metadata": {},
   "outputs": [
    {
     "name": "stdout",
     "output_type": "stream",
     "text": [
      "3\n",
      "3\n"
     ]
    }
   ],
   "source": [
    "!node src/counterUse.js"
   ]
  },
  {
   "cell_type": "markdown",
   "metadata": {},
   "source": [
    "## Timer"
   ]
  },
  {
   "cell_type": "markdown",
   "metadata": {},
   "source": [
    "### 1. 컨트랙 개발"
   ]
  },
  {
   "cell_type": "code",
   "execution_count": 33,
   "metadata": {},
   "outputs": [
    {
     "name": "stdout",
     "output_type": "stream",
     "text": [
      "Writing src/Timer.sol\n"
     ]
    }
   ],
   "source": [
    "%%writefile src/Timer.sol\n",
    "pragma solidity ^0.6.0;\n",
    "contract Timer {\n",
    "    uint256 startTime;\n",
    "    function start() public {\n",
    "        startTime=now;\n",
    "    }\n",
    "    function timePassed() public view returns(uint256) {\n",
    "        return now-startTime;\n",
    "    }\n",
    "    function getNow() view public returns(uint) {\n",
    "        return now;\n",
    "    }\n",
    "}"
   ]
  },
  {
   "cell_type": "markdown",
   "metadata": {},
   "source": [
    "### 2. 컴파일\n",
    "컴파일 결과를 js파일로 저장"
   ]
  },
  {
   "cell_type": "code",
   "execution_count": 161,
   "metadata": {},
   "outputs": [],
   "source": [
    "!echo \"exports._compiled=`solc --optimize --combined-json abi,bin,interface src/Timer.sol`\" > src/Timer.js"
   ]
  },
  {
   "cell_type": "code",
   "execution_count": 74,
   "metadata": {},
   "outputs": [
    {
     "name": "stdout",
     "output_type": "stream",
     "text": [
      "{\"contracts\":{\"src/Timer.sol:Timer\":{\"abi\":\"[{\\\"inputs\\\":[],\\\"name\\\":\\\"getNow\\\",\\\"outputs\\\":[{\\\"internalType\\\":\\\"uint256\\\",\\\"name\\\":\\\"\\\",\\\"type\\\":\\\"uint256\\\"}],\\\"stateMutability\\\":\\\"view\\\",\\\"type\\\":\\\"function\\\"},{\\\"inputs\\\":[],\\\"name\\\":\\\"start\\\",\\\"outputs\\\":[],\\\"stateMutability\\\":\\\"nonpayable\\\",\\\"type\\\":\\\"function\\\"},{\\\"inputs\\\":[],\\\"name\\\":\\\"timePassed\\\",\\\"outputs\\\":[{\\\"internalType\\\":\\\"uint256\\\",\\\"name\\\":\\\"\\\",\\\"type\\\":\\\"uint256\\\"}],\\\"stateMutability\\\":\\\"view\\\",\\\"type\\\":\\\"function\\\"}]\",\"bin\":\"608060405234801561001057600080fd5b5060af8061001f6000396000f3fe6080604052348015600f57600080fd5b5060043610603c5760003560e01c8063b4454253146041578063bbe4fd50146059578063be9a655514605f575b600080fd5b60476067565b60408051918252519081900360200190f35b6047606f565b60656073565b005b600054420390565b4290565b4260005556fea26469706673582212208ffdfc5779131d9063dfa6180e084b2bed8f67a1151dd3b34494a2b8117b813964736f6c63430006040033\"}},\"version\":\"0.6.4+commit.1dca32f3.Windows.msvc\"}\n"
     ]
    }
   ],
   "source": [
    "!solc --optimize --combined-json abi,bin,interface src/Timer.sol"
   ]
  },
  {
   "cell_type": "code",
   "execution_count": 188,
   "metadata": {},
   "outputs": [
    {
     "name": "stdout",
     "output_type": "stream",
     "text": [
      "Overwriting src/Timer.js\n"
     ]
    }
   ],
   "source": [
    "%%writefile src/Timer.js\n",
    "\n",
    "exports._compiled={\"contracts\":{\"src/Timer.sol:Timer\":{\"abi\":\"[{\\\"inputs\\\":[],\\\"name\\\":\\\"getNow\\\",\\\"outputs\\\":[{\\\"internalType\\\":\\\"uint256\\\",\\\"name\\\":\\\"\\\",\\\"type\\\":\\\"uint256\\\"}],\\\"stateMutability\\\":\\\"view\\\",\\\"type\\\":\\\"function\\\"},{\\\"inputs\\\":[],\\\"name\\\":\\\"start\\\",\\\"outputs\\\":[],\\\"stateMutability\\\":\\\"nonpayable\\\",\\\"type\\\":\\\"function\\\"},{\\\"inputs\\\":[],\\\"name\\\":\\\"timePassed\\\",\\\"outputs\\\":[{\\\"internalType\\\":\\\"uint256\\\",\\\"name\\\":\\\"\\\",\\\"type\\\":\\\"uint256\\\"}],\\\"stateMutability\\\":\\\"view\\\",\\\"type\\\":\\\"function\\\"}]\",\"bin\":\"608060405234801561001057600080fd5b5060af8061001f6000396000f3fe6080604052348015600f57600080fd5b5060043610603c5760003560e01c8063b4454253146041578063bbe4fd50146059578063be9a655514605f575b600080fd5b60476067565b60408051918252519081900360200190f35b6047606f565b60656073565b005b600054420390565b4290565b4260005556fea26469706673582212208ffdfc5779131d9063dfa6180e084b2bed8f67a1151dd3b34494a2b8117b813964736f6c63430006040033\"}},\"version\":\"0.6.4+commit.1dca32f3.Windows.msvc\"}"
   ]
  },
  {
   "cell_type": "code",
   "execution_count": 189,
   "metadata": {},
   "outputs": [
    {
     "name": "stdout",
     "output_type": "stream",
     "text": [
      "\n",
      "exports._compiled={\"contracts\":{\"src/Timer.sol:Timer\":{\"abi\":\"[{\\\"inputs\\\":[],\\\"name\\\":\\\"getNow\\\",\\\"outputs\\\":[{\\\"internalType\\\":\\\"uint256\\\",\\\"name\\\":\\\"\\\",\\\"type\\\":\\\"uint256\\\"}],\\\"stateMutability\\\":\\\"view\\\",\\\"type\\\":\\\"function\\\"},{\\\"inputs\\\":[],\\\"name\\\":\\\"start\\\",\\\"outputs\\\":[],\\\"stateMutability\\\":\\\"nonpayable\\\",\\\"type\\\":\\\"function\\\"},{\\\"inputs\\\":[],\\\"name\\\":\\\"timePassed\\\",\\\"outputs\\\":[{\\\"internalType\\\":\\\"uint256\\\",\\\"name\\\":\\\"\\\",\\\"type\\\":\\\"uint256\\\"}],\\\"stateMutability\\\":\\\"view\\\",\\\"type\\\":\\\"function\\\"}]\",\"bin\":\"608060405234801561001057600080fd5b5060af8061001f6000396000f3fe6080604052348015600f57600080fd5b5060043610603c5760003560e01c8063b4454253146041578063bbe4fd50146059578063be9a655514605f575b600080fd5b60476067565b60408051918252519081900360200190f35b6047606f565b60656073565b005b600054420390565b4290565b4260005556fea26469706673582212208ffdfc5779131d9063dfa6180e084b2bed8f67a1151dd3b34494a2b8117b813964736f6c63430006040033\"}},\"version\":\"0.6.4+commit.1dca32f3.Windows.msvc\"}\n"
     ]
    }
   ],
   "source": [
    "!type src\\Timer.js"
   ]
  },
  {
   "cell_type": "markdown",
   "metadata": {},
   "source": [
    "### require 테스트"
   ]
  },
  {
   "cell_type": "code",
   "execution_count": 77,
   "metadata": {},
   "outputs": [
    {
     "name": "stdout",
     "output_type": "stream",
     "text": [
      "Writing src/TimerImportTest.js\n"
     ]
    }
   ],
   "source": [
    "%%writefile src/TimerImportTest.js\n",
    "const my = require('./Timer');   //importing a javascript file\n",
    "console.log(\"- compiled results: \" +my);\n",
    "console.log(\"- ABI: \"+my._compiled.contracts['src/Timer.sol:Timer'].abi);\n",
    "console.log(\"- Bytecode: \"+my._compiled.contracts['src/Timer.sol:Timer'].bin);"
   ]
  },
  {
   "cell_type": "code",
   "execution_count": 79,
   "metadata": {},
   "outputs": [
    {
     "name": "stdout",
     "output_type": "stream",
     "text": [
      "- compiled results: [object Object]\n",
      "- ABI: [{\"inputs\":[],\"name\":\"getNow\",\"outputs\":[{\"internalType\":\"uint256\",\"name\":\"\",\"type\":\"uint256\"}],\"stateMutability\":\"view\",\"type\":\"function\"},{\"inputs\":[],\"name\":\"start\",\"outputs\":[],\"stateMutability\":\"nonpayable\",\"type\":\"function\"},{\"inputs\":[],\"name\":\"timePassed\",\"outputs\":[{\"internalType\":\"uint256\",\"name\":\"\",\"type\":\"uint256\"}],\"stateMutability\":\"view\",\"type\":\"function\"}]\n",
      "- Bytecode: 608060405234801561001057600080fd5b5060af8061001f6000396000f3fe6080604052348015600f57600080fd5b5060043610603c5760003560e01c8063b4454253146041578063bbe4fd50146059578063be9a655514605f575b600080fd5b60476067565b60408051918252519081900360200190f35b6047606f565b60656073565b005b600054420390565b4290565b4260005556fea26469706673582212208ffdfc5779131d9063dfa6180e084b2bed8f67a1151dd3b34494a2b8117b813964736f6c63430006040033\n"
     ]
    }
   ],
   "source": [
    "!node src\\TimerImportTest.js"
   ]
  },
  {
   "cell_type": "markdown",
   "metadata": {},
   "source": [
    "### 3. 배포"
   ]
  },
  {
   "cell_type": "markdown",
   "metadata": {},
   "source": [
    "geth로 배포"
   ]
  },
  {
   "cell_type": "markdown",
   "metadata": {},
   "source": [
    "!echo \"var _compiled=`solc --optimize --combined-json abi,bin,interface src/Timer.sol`\" > src/TimerGeth.js"
   ]
  },
  {
   "cell_type": "code",
   "execution_count": 86,
   "metadata": {},
   "outputs": [
    {
     "name": "stdout",
     "output_type": "stream",
     "text": [
      "\"var _compiled=`solc --optimize --combined-json abi,bin,interface src/Timer.sol`\" \n"
     ]
    }
   ],
   "source": [
    "!type src\\TimerGeth.js"
   ]
  },
  {
   "cell_type": "code",
   "execution_count": 87,
   "metadata": {},
   "outputs": [
    {
     "name": "stdout",
     "output_type": "stream",
     "text": [
      "{\"contracts\":{\"src/Timer.sol:Timer\":{\"abi\":\"[{\\\"inputs\\\":[],\\\"name\\\":\\\"getNow\\\",\\\"outputs\\\":[{\\\"internalType\\\":\\\"uint256\\\",\\\"name\\\":\\\"\\\",\\\"type\\\":\\\"uint256\\\"}],\\\"stateMutability\\\":\\\"view\\\",\\\"type\\\":\\\"function\\\"},{\\\"inputs\\\":[],\\\"name\\\":\\\"start\\\",\\\"outputs\\\":[],\\\"stateMutability\\\":\\\"nonpayable\\\",\\\"type\\\":\\\"function\\\"},{\\\"inputs\\\":[],\\\"name\\\":\\\"timePassed\\\",\\\"outputs\\\":[{\\\"internalType\\\":\\\"uint256\\\",\\\"name\\\":\\\"\\\",\\\"type\\\":\\\"uint256\\\"}],\\\"stateMutability\\\":\\\"view\\\",\\\"type\\\":\\\"function\\\"}]\",\"bin\":\"608060405234801561001057600080fd5b5060af8061001f6000396000f3fe6080604052348015600f57600080fd5b5060043610603c5760003560e01c8063b4454253146041578063bbe4fd50146059578063be9a655514605f575b600080fd5b60476067565b60408051918252519081900360200190f35b6047606f565b60656073565b005b600054420390565b4290565b4260005556fea26469706673582212208ffdfc5779131d9063dfa6180e084b2bed8f67a1151dd3b34494a2b8117b813964736f6c63430006040033\"}},\"version\":\"0.6.4+commit.1dca32f3.Windows.msvc\"}\n"
     ]
    }
   ],
   "source": [
    "!solc --optimize --combined-json abi,bin,interface src/Timer.sol"
   ]
  },
  {
   "cell_type": "code",
   "execution_count": 186,
   "metadata": {},
   "outputs": [
    {
     "name": "stdout",
     "output_type": "stream",
     "text": [
      "Overwriting src/TimerGeth.js\n"
     ]
    }
   ],
   "source": [
    "%%writefile src/TimerGeth.js\n",
    "var _compiled={\"contracts\":{\"src/Timer.sol:Timer\":{\"abi\":\"[{\\\"inputs\\\":[],\\\"name\\\":\\\"getNow\\\",\\\"outputs\\\":[{\\\"internalType\\\":\\\"uint256\\\",\\\"name\\\":\\\"\\\",\\\"type\\\":\\\"uint256\\\"}],\\\"stateMutability\\\":\\\"view\\\",\\\"type\\\":\\\"function\\\"},{\\\"inputs\\\":[],\\\"name\\\":\\\"start\\\",\\\"outputs\\\":[],\\\"stateMutability\\\":\\\"nonpayable\\\",\\\"type\\\":\\\"function\\\"},{\\\"inputs\\\":[],\\\"name\\\":\\\"timePassed\\\",\\\"outputs\\\":[{\\\"internalType\\\":\\\"uint256\\\",\\\"name\\\":\\\"\\\",\\\"type\\\":\\\"uint256\\\"}],\\\"stateMutability\\\":\\\"view\\\",\\\"type\\\":\\\"function\\\"}]\",\"bin\":\"608060405234801561001057600080fd5b5060af8061001f6000396000f3fe6080604052348015600f57600080fd5b5060043610603c5760003560e01c8063b4454253146041578063bbe4fd50146059578063be9a655514605f575b600080fd5b60476067565b60408051918252519081900360200190f35b6047606f565b60656073565b005b600054420390565b4290565b4260005556fea26469706673582212208ffdfc5779131d9063dfa6180e084b2bed8f67a1151dd3b34494a2b8117b813964736f6c63430006040033\"}},\"version\":\"0.6.4+commit.1dca32f3.Windows.msvc\"}"
   ]
  },
  {
   "cell_type": "code",
   "execution_count": 112,
   "metadata": {},
   "outputs": [
    {
     "name": "stdout",
     "output_type": "stream",
     "text": [
      "Overwriting src/TimerDeployGeth.js\n"
     ]
    }
   ],
   "source": [
    "%%writefile src/TimerDeployGeth.js\n",
    "var primary = eth.accounts[1];\n",
    "console.log(\"primary ac: \",primary);\n",
    "console.log(\"balance: \",eth.getBalance(primary));\n",
    "loadScript('src/TimerGeth.js')\n",
    "\n",
    "contractName=Object.keys(_compiled.contracts)\n",
    "\n",
    "_abi=JSON.parse(_compiled.contracts[contractName[0]].abi)\n",
    "_code=_compiled.contracts[contractName[0]].bin\n",
    "_class=eth.contract(_abi);\n",
    "\n",
    "console.log('bin code: ', _code)\n"
   ]
  },
  {
   "cell_type": "code",
   "execution_count": 111,
   "metadata": {},
   "outputs": [
    {
     "name": "stdout",
     "output_type": "stream",
     "text": [
      "primary ac:  0x9a47178d41d82a945199ea26f25318b44b3c1071\n",
      "balance:  25000087786900010000\n",
      "bin code:  608060405234801561001057600080fd5b5060af8061001f6000396000f3fe6080604052348015600f57600080fd5b5060043610603c5760003560e01c8063b4454253146041578063bbe4fd50146059578063be9a655514605f575b600080fd5b60476067565b60408051918252519081900360200190f35b6047606f565b60656073565b005b600054420390565b4290565b4260005556fea26469706673582212208ffdfc5779131d9063dfa6180e084b2bed8f67a1151dd3b34494a2b8117b813964736f6c63430006040033\n",
      "GoError: Error while compiling or running script: Error: invalid address at web3.js:3930:11(47)\n",
      "\tat native\n",
      "\tat <eval>:1:12(1)\n",
      "\n"
     ]
    }
   ],
   "source": [
    "!geth --exec \"loadScript('src/TimerDeployGeth.js')\" attach http://localhost:8445"
   ]
  },
  {
   "cell_type": "code",
   "execution_count": 99,
   "metadata": {},
   "outputs": [
    {
     "name": "stdout",
     "output_type": "stream",
     "text": [
      "null\n"
     ]
    }
   ],
   "source": [
    "\n",
    "!geth --exec \"eth.getTransactionReceipt('0x973734a68171e19143e2d5b2040378c9ea10e8aa77e674880d928b6d013c6f47')\" attach http://localhost:8345"
   ]
  },
  {
   "cell_type": "markdown",
   "metadata": {},
   "source": [
    "### node로 배포"
   ]
  },
  {
   "cell_type": "code",
   "execution_count": 121,
   "metadata": {},
   "outputs": [
    {
     "name": "stdout",
     "output_type": "stream",
     "text": [
      "Overwriting src/TimerDeployAbiBinFromFile.js\n"
     ]
    }
   ],
   "source": [
    "%%writefile src/TimerDeployAbiBinFromFile.js\n",
    "var Web3=require('web3');\n",
    "var my = require('./Timer');  //cotaining abi,bin\n",
    "\n",
    "var web3;\n",
    "if (typeof web3 !== 'undefined') {\n",
    "    web3 = new Web3(web3.currentProvider);\n",
    "} else {\n",
    "    web3 = new Web3(new Web3.providers.HttpProvider(\"http://localhost:8345\"));\n",
    "}\n",
    "\n",
    "\n",
    "//abi from Timer.js\n",
    "var _abiArray=JSON.parse(my._compiled.contracts['src/Timer.sol:Timer'].abi);   //JSON parsing needed!!\n",
    "console.log(\"- ABI: \"+my._compiled.contracts['src/Timer.sol:Timer'].abi);\n",
    "\n",
    "//bin from Timer.js\n",
    "var _bin=my._compiled.contracts['src/Timer.sol:Timer'].bin;\n",
    "console.log(\"- Bytecode: \"+my._compiled.contracts['src/Timer.sol:Timer'].bin);\n",
    "\n",
    "var _contract = new web3.eth.Contract(_abiArray);\n",
    "//unlock the account with a password provided\n",
    "//web3.personal.unlockAccount(web3.eth.accounts[0],'password');\n",
    "\n",
    "_contract\n",
    "    .deploy({data:\"0x\"+_bin})\n",
    "    .send({from: \"0x2e9669337d8a86c70A984Ff5Bd307E05808909ED\", gas: 364124, gasPrice: '1000000000'})\n",
    "    .then(function(newContractInstance){\n",
    "        console.log(\"- Contract Address: \"+newContractInstance.options.address) // instance with the new contract address\n",
    "    });"
   ]
  },
  {
   "cell_type": "code",
   "execution_count": 122,
   "metadata": {},
   "outputs": [
    {
     "name": "stdout",
     "output_type": "stream",
     "text": [
      "- ABI: [{\"inputs\":[],\"name\":\"getNow\",\"outputs\":[{\"internalType\":\"uint256\",\"name\":\"\",\"type\":\"uint256\"}],\"stateMutability\":\"view\",\"type\":\"function\"},{\"inputs\":[],\"name\":\"start\",\"outputs\":[],\"stateMutability\":\"nonpayable\",\"type\":\"function\"},{\"inputs\":[],\"name\":\"timePassed\",\"outputs\":[{\"internalType\":\"uint256\",\"name\":\"\",\"type\":\"uint256\"}],\"stateMutability\":\"view\",\"type\":\"function\"}]\n",
      "- Bytecode: 608060405234801561001057600080fd5b5060af8061001f6000396000f3fe6080604052348015600f57600080fd5b5060043610603c5760003560e01c8063b4454253146041578063bbe4fd50146059578063be9a655514605f575b600080fd5b60476067565b60408051918252519081900360200190f35b6047606f565b60656073565b005b600054420390565b4290565b4260005556fea26469706673582212208ffdfc5779131d9063dfa6180e084b2bed8f67a1151dd3b34494a2b8117b813964736f6c63430006040033\n",
      "- Contract Address: 0xCFfBbe3cE7F7B5ADC77F4bc15b47b98A47BE9bd3\n"
     ]
    }
   ],
   "source": [
    "!node src/TimerDeployAbiBinFromFile.js"
   ]
  },
  {
   "cell_type": "markdown",
   "metadata": {},
   "source": [
    "## 4. 사용"
   ]
  },
  {
   "cell_type": "code",
   "execution_count": 199,
   "metadata": {},
   "outputs": [
    {
     "name": "stdout",
     "output_type": "stream",
     "text": [
      "Overwriting src/timerUse.js\n"
     ]
    }
   ],
   "source": [
    "%%writefile src/timerUse.js\n",
    "var Web3=require('web3');\n",
    "var my = require('./Timer');  //cotaining abi,bin\n",
    "var web3 = new Web3(new Web3.providers.HttpProvider(\"http://localhost:8345\"));\n",
    "\n",
    "//abi from Timer.js\n",
    "var _abiArray=JSON.parse(my._compiled.contracts['src/Timer.sol:Timer'].abi);   //JSON parsing needed!!\n",
    "//console.log(\"- ABI: \"+my._compiled.contracts['src/Timer.sol:Timer'].abi);\n",
    "\n",
    "var timer = new web3.eth.Contract(_abiArray,\"0xCFfBbe3cE7F7B5ADC77F4bc15b47b98A47BE9bd3\");\n",
    "\n",
    "//timer.methods.start().send({from:\"0x2e9669337d8a86c70A984Ff5Bd307E05808909ED\",gas:100000});\n",
    "timer.methods.getNow().call().then(function(value) {console.log(\"now: \" + value);});\n",
    "\n",
    "timer.methods.timePassed().call().then(function(value) {console.log(\"passed: \" + value);});"
   ]
  },
  {
   "cell_type": "code",
   "execution_count": 203,
   "metadata": {},
   "outputs": [
    {
     "name": "stdout",
     "output_type": "stream",
     "text": [
      "now: 1619349883\n",
      "passed: 0\n"
     ]
    }
   ],
   "source": [
    "!node src/timerUse.js"
   ]
  },
  {
   "cell_type": "code",
   "execution_count": null,
   "metadata": {},
   "outputs": [],
   "source": []
  }
 ],
 "metadata": {
  "kernelspec": {
   "display_name": "Python 3",
   "language": "python",
   "name": "python3"
  },
  "language_info": {
   "codemirror_mode": {
    "name": "ipython",
    "version": 3
   },
   "file_extension": ".py",
   "mimetype": "text/x-python",
   "name": "python",
   "nbconvert_exporter": "python",
   "pygments_lexer": "ipython3",
   "version": "3.6.6"
  }
 },
 "nbformat": 4,
 "nbformat_minor": 4
}
