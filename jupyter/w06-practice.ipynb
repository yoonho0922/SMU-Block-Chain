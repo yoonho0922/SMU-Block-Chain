{
 "cells": [
  {
   "cell_type": "markdown",
   "metadata": {},
   "source": [
    "## 문제 1\n",
    "* ganache-cli를 백그라운드로 띄우고, node에서 연결하여, coinbase주소를 출력하세요.\n",
    "\n",
    "* 위 문제를 geth를 띄우고 실행해보세요. geth에서의 coinbase를 출력하세요.\n",
    "\n",
    "* ganache-cli의 coinbase에서 geth의 coinbase로 1 ether를 송금해 보세요. 송금 성공이면 잔고변화를 출력하고, 실패이면 그 이유를 간단히 설명하세요."
   ]
  },
  {
   "cell_type": "code",
   "execution_count": 58,
   "metadata": {
    "scrolled": true
   },
   "outputs": [
    {
     "name": "stdout",
     "output_type": "stream",
     "text": [
      "Overwriting src/w6-ex01.js\n"
     ]
    }
   ],
   "source": [
    "%%writefile src/w6-ex01.js\n",
    "const Web3 = require('web3');\n",
    "const web3 = new Web3('http://localhost:8345');\n",
    "\n",
    "web3.eth.getCoinbase((err,res) => { console.log(\"coinbase: \" + res); } );\n",
    "\n",
    "const coinbase = \"0xc70d29f8efb8342193f67b51fdbfb92fb8fdd03a\"\n",
    "const hqaccount = \"0x8a1cccfe08c0abe30c24d485ac290f84534ef1c9\"\n",
    "web3.eth.getBalance(coinbase, (err,res) => { console.log(\"balance: \" + res); } );\n",
    "web3.eth.sendTransaction({from:coinbase, to:hqaccount, value:1000000000000000000});\n",
    "web3.eth.getBalance(coinbase, (err,res) => { console.log(\"balance: \" + res); } );"
   ]
  },
  {
   "cell_type": "code",
   "execution_count": 59,
   "metadata": {
    "scrolled": true
   },
   "outputs": [
    {
     "name": "stdout",
     "output_type": "stream",
     "text": [
      "coinbase: 0xc70d29f8efb8342193f67b51fdbfb92fb8fdd03a\n",
      "balance: 95998320000000000000\n",
      "balance: 95998320000000000000\n"
     ]
    }
   ],
   "source": [
    "!node src/w6-ex01.js"
   ]
  },
  {
   "cell_type": "markdown",
   "metadata": {},
   "source": [
    "geth에 있는 enode와 peer가 되지 않아서 송금이 불가능하다."
   ]
  },
  {
   "cell_type": "markdown",
   "metadata": {},
   "source": [
    "## 문제 2\n",
    "\n",
    "* ganache-cli에 연결하고, 현재 coinbase의 잔고를 ether로 출력하세요.\n",
    "\n",
    "* 현재 거래소 환전가격을 구해서 한화로 계산하여 얼마인지 출력하세요. 환전가격은 거래소 가격을 읽어서 프로그램에 코딩한다."
   ]
  },
  {
   "cell_type": "code",
   "execution_count": 39,
   "metadata": {},
   "outputs": [
    {
     "name": "stdout",
     "output_type": "stream",
     "text": [
      "Overwriting src/w6-ex02.js\n"
     ]
    }
   ],
   "source": [
    "%%writefile src/w6-ex02.js\n",
    "const Web3 = require('web3');\n",
    "const web3 = new Web3('http://localhost:8345');\n",
    "web3.eth.getCoinbase((err,res) => {\n",
    "    web3.eth.getBalance(res, (err, res) =>{\n",
    "        const coinbase = web3.utils.fromWei(res, \"ether\");\n",
    "        console.log(\"coinbase:\" + coinbase + \" ether\")\n",
    "        \n",
    "        console.log(\"KRW: \" + coinbase * 2614000);\n",
    "    });\n",
    "} );"
   ]
  },
  {
   "cell_type": "code",
   "execution_count": 40,
   "metadata": {},
   "outputs": [
    {
     "name": "stdout",
     "output_type": "stream",
     "text": [
      "coinbase:100 ether\n",
      "KRW: 261400000\n"
     ]
    }
   ],
   "source": [
    "!node src/w6-ex02.js"
   ]
  }
 ],
 "metadata": {
  "kernelspec": {
   "display_name": "Python 3",
   "language": "python",
   "name": "python3"
  },
  "language_info": {
   "codemirror_mode": {
    "name": "ipython",
    "version": 3
   },
   "file_extension": ".py",
   "mimetype": "text/x-python",
   "name": "python",
   "nbconvert_exporter": "python",
   "pygments_lexer": "ipython3",
   "version": "3.6.6"
  }
 },
 "nbformat": 4,
 "nbformat_minor": 4
}
