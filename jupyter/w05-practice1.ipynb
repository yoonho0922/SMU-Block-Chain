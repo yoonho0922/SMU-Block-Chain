{
 "cells": [
  {
   "cell_type": "markdown",
   "metadata": {},
   "source": [
    "## 연습문제 1\n",
    "\n",
    "다음 4건의 데이터에 대해 Merkle Root 값을 계산하고 출력하세요.\n",
    "\n",
    "중간 노드의 AB, CD의 해시도 출력하세요.\n",
    "\n",
    "* txA = 'Hello'\n",
    "\n",
    "* txB = 'How are you?'\n",
    "\n",
    "* txC = 'This is Thursday'\n",
    "\n",
    "* txD = 'Happy new Year'"
   ]
  },
  {
   "cell_type": "code",
   "execution_count": 1,
   "metadata": {},
   "outputs": [],
   "source": [
    "import hashlib\n",
    "\n",
    "nonce=1\n",
    "txA = 'Hello'\n",
    "txB = 'How are you?'\n",
    "txC = 'This is Thursday'\n",
    "txD = 'Happy new Year'"
   ]
  },
  {
   "cell_type": "code",
   "execution_count": 2,
   "metadata": {},
   "outputs": [],
   "source": [
    "hashA=hashlib.sha256(txA.encode())\n",
    "hashB=hashlib.sha256(txB.encode())\n",
    "hashC=hashlib.sha256(txC.encode())\n",
    "hashD=hashlib.sha256(txD.encode())"
   ]
  },
  {
   "cell_type": "code",
   "execution_count": 3,
   "metadata": {},
   "outputs": [],
   "source": [
    "hashAswap=\"\".join(reversed([hashA.hexdigest()[i:i+2] for i in range(0, hashA.digest_size*2, 2)]))\n",
    "hashBswap=\"\".join(reversed([hashB.hexdigest()[i:i+2] for i in range(0, hashB.digest_size*2, 2)]))\n",
    "hashCswap=\"\".join(reversed([hashC.hexdigest()[i:i+2] for i in range(0, hashC.digest_size*2, 2)]))\n",
    "hashDswap=\"\".join(reversed([hashD.hexdigest()[i:i+2] for i in range(0, hashD.digest_size*2, 2)]))"
   ]
  },
  {
   "cell_type": "code",
   "execution_count": 4,
   "metadata": {
    "scrolled": true
   },
   "outputs": [
    {
     "name": "stdout",
     "output_type": "stream",
     "text": [
      "hashAB:  a7dca36b1e6fe56e1d7bc34fe56ceea8ab64f47a55e929b712fab58885dcdc37\n",
      "hashCD:  15524f5c1b536c2fe0f717fd8b1bbede37f94654fae6f47c20521ce476c8e0b2\n"
     ]
    }
   ],
   "source": [
    "hashAB = hashAswap + hashBswap\n",
    "hashAB = hashlib.sha256(hashAB.encode())\n",
    "\n",
    "hashCD = hashCswap + hashDswap\n",
    "hashCD = hashlib.sha256(hashCD.encode())\n",
    "\n",
    "print(\"hashAB: \", hashAB.hexdigest())\n",
    "print(\"hashCD: \", hashCD.hexdigest())"
   ]
  },
  {
   "cell_type": "code",
   "execution_count": 5,
   "metadata": {},
   "outputs": [],
   "source": [
    "## AB와 CD를 합성 ##\n",
    "hashABswap=\"\".join(reversed([hashAB.hexdigest()[i:i+2] for i in range(0, hashAB.digest_size*2, 2)]))\n",
    "hashCDswap=\"\".join(reversed([hashCD.hexdigest()[i:i+2] for i in range(0, hashCD.digest_size*2, 2)]))"
   ]
  },
  {
   "cell_type": "code",
   "execution_count": 6,
   "metadata": {},
   "outputs": [
    {
     "name": "stdout",
     "output_type": "stream",
     "text": [
      "hashABCD:  00aa61af726d4cd0d5a5e0d2e3e3280552acb6d587c15413a713b7a96275cefc\n"
     ]
    }
   ],
   "source": [
    "hashABCD = hashABswap + hashCDswap\n",
    "hashABCD = hashlib.sha256(hashABCD.encode())\n",
    "\n",
    "print(\"hashABCD: \", hashABCD.hexdigest())"
   ]
  },
  {
   "cell_type": "code",
   "execution_count": null,
   "metadata": {},
   "outputs": [],
   "source": []
  }
 ],
 "metadata": {
  "kernelspec": {
   "display_name": "Python 3",
   "language": "python",
   "name": "python3"
  },
  "language_info": {
   "codemirror_mode": {
    "name": "ipython",
    "version": 3
   },
   "file_extension": ".py",
   "mimetype": "text/x-python",
   "name": "python",
   "nbconvert_exporter": "python",
   "pygments_lexer": "ipython3",
   "version": "3.6.6"
  }
 },
 "nbformat": 4,
 "nbformat_minor": 4
}
