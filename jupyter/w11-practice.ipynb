{
 "cells": [
  {
   "cell_type": "markdown",
   "metadata": {},
   "source": [
    "## ganache"
   ]
  },
  {
   "cell_type": "code",
   "execution_count": 73,
   "metadata": {},
   "outputs": [
    {
     "name": "stdout",
     "output_type": "stream",
     "text": [
      "Overwriting ../src/Bank.sol\n"
     ]
    }
   ],
   "source": [
    "%%writefile ../src/Bank.sol\n",
    "pragma solidity ^0.4.0;\n",
    "\n",
    "contract MyBank{\n",
    "    address owner;\n",
    "    uint balance;\n",
    "    \n",
    "    constructor() public {\n",
    "        owner = msg.sender;\n",
    "        balance = 0;\n",
    "    }\n",
    "    \n",
    "    event Sent(address from, address to, uint amount );\n",
    "\n",
    "    function forwardTo(address payable _receiver) public payable {\n",
    "        balance -= msg.value;\n",
    "        require(msg.sender == owner);\n",
    "        _receiver.transfer(msg.value);\n",
    "        emit Sent(msg.sender, _receiver, msg.value);\n",
    "    }\n",
    "    function getBalance() public view returns(uint, uint) {\n",
    "        return (balance, address(this).balance);\n",
    "    }\n",
    "    function deposit(uint amount) public payable {\n",
    "        require(msg.value == amount);\n",
    "        balance += amount;\n",
    "    }\n",
    "    function widthdrawAll() public {\n",
    "        balance -= address(this).balance;\n",
    "        require(msg.sender == owner);\n",
    "        msg.sender.transfer(address(this).balance);\n",
    "    }\n",
    "\n",
    "}"
   ]
  },
  {
   "cell_type": "code",
   "execution_count": 74,
   "metadata": {},
   "outputs": [
    {
     "name": "stdout",
     "output_type": "stream",
     "text": [
      "\n",
      "======= ../src/Bank.sol:MyBank =======\n",
      "Binary:\n",
      "608060405234801561001057600080fd5b50336000806101000a81548173ffffffffffffffffffffffffffffffffffffffff021916908373ffffffffffffffffffffffffffffffffffffffff1602179055506000600181905550610367806100686000396000f3fe60806040526004361061003f5760003560e01c806312065fe01461004457806327d8ad88146100765780633c459375146100ba578063b6b55f25146100d1575b600080fd5b34801561005057600080fd5b506100596100ff565b604051808381526020018281526020019250505060405180910390f35b6100b86004803603602081101561008c57600080fd5b81019080803573ffffffffffffffffffffffffffffffffffffffff16906020019092919050505061010e565b005b3480156100c657600080fd5b506100cf610260565b005b6100fd600480360360208110156100e757600080fd5b8101908080359060200190929190505050610312565b005b60008060015447915091509091565b346001600082825403925050819055506000809054906101000a900473ffffffffffffffffffffffffffffffffffffffff1673ffffffffffffffffffffffffffffffffffffffff163373ffffffffffffffffffffffffffffffffffffffff161461017757600080fd5b8073ffffffffffffffffffffffffffffffffffffffff166108fc349081150290604051600060405180830381858888f193505050501580156101bd573d6000803e3d6000fd5b507f3990db2d31862302a685e8086b5755072a6e2b5b780af1ee81ece35ee3cd3345338234604051808473ffffffffffffffffffffffffffffffffffffffff1673ffffffffffffffffffffffffffffffffffffffff1681526020018373ffffffffffffffffffffffffffffffffffffffff1673ffffffffffffffffffffffffffffffffffffffff168152602001828152602001935050505060405180910390a150565b476001600082825403925050819055506000809054906101000a900473ffffffffffffffffffffffffffffffffffffffff1673ffffffffffffffffffffffffffffffffffffffff163373ffffffffffffffffffffffffffffffffffffffff16146102c957600080fd5b3373ffffffffffffffffffffffffffffffffffffffff166108fc479081150290604051600060405180830381858888f1935050505015801561030f573d6000803e3d6000fd5b50565b80341461031e57600080fd5b806001600082825401925050819055505056fea2646970667358221220f3b523a844fcfde76ea1453f80b9304ef5f76671f2c62972468d51675c07103764736f6c63430006040033\n",
      "Contract JSON ABI\n",
      "[{\"inputs\":[],\"stateMutability\":\"nonpayable\",\"type\":\"constructor\"},{\"anonymous\":false,\"inputs\":[{\"indexed\":false,\"internalType\":\"address\",\"name\":\"from\",\"type\":\"address\"},{\"indexed\":false,\"internalType\":\"address\",\"name\":\"to\",\"type\":\"address\"},{\"indexed\":false,\"internalType\":\"uint256\",\"name\":\"amount\",\"type\":\"uint256\"}],\"name\":\"Sent\",\"type\":\"event\"},{\"inputs\":[{\"internalType\":\"uint256\",\"name\":\"amount\",\"type\":\"uint256\"}],\"name\":\"deposit\",\"outputs\":[],\"stateMutability\":\"payable\",\"type\":\"function\"},{\"inputs\":[{\"internalType\":\"address payable\",\"name\":\"_receiver\",\"type\":\"address\"}],\"name\":\"forwardTo\",\"outputs\":[],\"stateMutability\":\"payable\",\"type\":\"function\"},{\"inputs\":[],\"name\":\"getBalance\",\"outputs\":[{\"internalType\":\"uint256\",\"name\":\"\",\"type\":\"uint256\"},{\"internalType\":\"uint256\",\"name\":\"\",\"type\":\"uint256\"}],\"stateMutability\":\"view\",\"type\":\"function\"},{\"inputs\":[],\"name\":\"widthdrawAll\",\"outputs\":[],\"stateMutability\":\"nonpayable\",\"type\":\"function\"}]\n"
     ]
    }
   ],
   "source": [
    "!solc --abi --bin ../src/Bank.sol"
   ]
  },
  {
   "cell_type": "code",
   "execution_count": 3,
   "metadata": {},
   "outputs": [
    {
     "name": "stdout",
     "output_type": "stream",
     "text": [
      "Overwriting ../src/BankDeploy.js\n"
     ]
    }
   ],
   "source": [
    "%%writefile ../src/BankDeploy.js\n",
    "\n",
    "var Web3=require('web3');\n",
    "var web3;\n",
    "\n",
    "\n",
    "web3 = new Web3(new Web3.providers.HttpProvider(\"http://localhost:8345\"));\n",
    "\n",
    "var _abiArray=[{\"inputs\":[],\"stateMutability\":\"nonpayable\",\"type\":\"constructor\"},{\"anonymous\":false,\"inputs\":[{\"indexed\":false,\"internalType\":\"address\",\"name\":\"from\",\"type\":\"address\"},{\"indexed\":false,\"internalType\":\"address\",\"name\":\"to\",\"type\":\"address\"},{\"indexed\":false,\"internalType\":\"uint256\",\"name\":\"amount\",\"type\":\"uint256\"}],\"name\":\"Sent\",\"type\":\"event\"},{\"inputs\":[{\"internalType\":\"uint256\",\"name\":\"amount\",\"type\":\"uint256\"}],\"name\":\"deposit\",\"outputs\":[],\"stateMutability\":\"payable\",\"type\":\"function\"},{\"inputs\":[{\"internalType\":\"address payable\",\"name\":\"_receiver\",\"type\":\"address\"}],\"name\":\"forwardTo\",\"outputs\":[],\"stateMutability\":\"payable\",\"type\":\"function\"},{\"inputs\":[],\"name\":\"getBalance\",\"outputs\":[{\"internalType\":\"uint256\",\"name\":\"\",\"type\":\"uint256\"},{\"internalType\":\"uint256\",\"name\":\"\",\"type\":\"uint256\"}],\"stateMutability\":\"view\",\"type\":\"function\"},{\"inputs\":[],\"name\":\"widthdrawAll\",\"outputs\":[],\"stateMutability\":\"nonpayable\",\"type\":\"function\"}];\n",
    "var _bin=\"608060405234801561001057600080fd5b50336000806101000a81548173ffffffffffffffffffffffffffffffffffffffff021916908373ffffffffffffffffffffffffffffffffffffffff1602179055506000600181905550610367806100686000396000f3fe60806040526004361061003f5760003560e01c806312065fe01461004457806327d8ad88146100765780633c459375146100ba578063b6b55f25146100d1575b600080fd5b34801561005057600080fd5b506100596100ff565b604051808381526020018281526020019250505060405180910390f35b6100b86004803603602081101561008c57600080fd5b81019080803573ffffffffffffffffffffffffffffffffffffffff16906020019092919050505061010e565b005b3480156100c657600080fd5b506100cf610260565b005b6100fd600480360360208110156100e757600080fd5b8101908080359060200190929190505050610312565b005b60008060015447915091509091565b346001600082825403925050819055506000809054906101000a900473ffffffffffffffffffffffffffffffffffffffff1673ffffffffffffffffffffffffffffffffffffffff163373ffffffffffffffffffffffffffffffffffffffff161461017757600080fd5b8073ffffffffffffffffffffffffffffffffffffffff166108fc349081150290604051600060405180830381858888f193505050501580156101bd573d6000803e3d6000fd5b507f3990db2d31862302a685e8086b5755072a6e2b5b780af1ee81ece35ee3cd3345338234604051808473ffffffffffffffffffffffffffffffffffffffff1673ffffffffffffffffffffffffffffffffffffffff1681526020018373ffffffffffffffffffffffffffffffffffffffff1673ffffffffffffffffffffffffffffffffffffffff168152602001828152602001935050505060405180910390a150565b476001600082825403925050819055506000809054906101000a900473ffffffffffffffffffffffffffffffffffffffff1673ffffffffffffffffffffffffffffffffffffffff163373ffffffffffffffffffffffffffffffffffffffff16146102c957600080fd5b3373ffffffffffffffffffffffffffffffffffffffff166108fc479081150290604051600060405180830381858888f1935050505015801561030f573d6000803e3d6000fd5b50565b80341461031e57600080fd5b806001600082825401925050819055505056fea2646970667358221220f3b523a844fcfde76ea1453f80b9304ef5f76671f2c62972468d51675c07103764736f6c63430006040033\";\n",
    "var _contract = new web3.eth.Contract(_abiArray);\n",
    "\n",
    "async function deploy() {\n",
    "    const accounts = await web3.eth.getAccounts();\n",
    "    console.log(\"Deploying the contract from \" + accounts[0]);\n",
    "    var deployed = await new web3.eth.Contract(_abiArray)\n",
    "        .deploy({data: _bin})\n",
    "        .send({from: accounts[0], gas: 1000000}, function(err, transactionHash) {\n",
    "                if(!err) console.log(\"hash: \" + transactionHash); \n",
    "        })\n",
    "    console.log(\"---> The contract deployed to: \" + deployed.options.address)\n",
    "}\n",
    "deploy()"
   ]
  },
  {
   "cell_type": "code",
   "execution_count": 4,
   "metadata": {},
   "outputs": [
    {
     "name": "stdout",
     "output_type": "stream",
     "text": [
      "Deploying the contract from 0xaF011A85a937DE99642d50520C81192BE7139dD2\n",
      "hash: 0xad4fa1bf13ae209437467ae25460dc7f7f71e7220a3c4c87c70970d7dd3e0af1\n",
      "---> The contract deployed to: 0x8938CC3EF70911586026Dba9203d2991cE292986\n"
     ]
    }
   ],
   "source": [
    "!node ../src/BankDeploy.js"
   ]
  },
  {
   "cell_type": "code",
   "execution_count": 91,
   "metadata": {},
   "outputs": [
    {
     "name": "stdout",
     "output_type": "stream",
     "text": [
      "Overwriting ../src/BankUse.js\n"
     ]
    }
   ],
   "source": [
    "%%writefile ../src/BankUse.js\n",
    "var Web3=require('web3');\n",
    "var web3 = new Web3(new Web3.providers.HttpProvider(\"http://localhost:8345\"));\n",
    "\n",
    "var abi =[{\"inputs\":[],\"stateMutability\":\"nonpayable\",\"type\":\"constructor\"},{\"anonymous\":false,\"inputs\":[{\"indexed\":false,\"internalType\":\"address\",\"name\":\"from\",\"type\":\"address\"},{\"indexed\":false,\"internalType\":\"address\",\"name\":\"to\",\"type\":\"address\"},{\"indexed\":false,\"internalType\":\"uint256\",\"name\":\"amount\",\"type\":\"uint256\"}],\"name\":\"Sent\",\"type\":\"event\"},{\"inputs\":[{\"internalType\":\"uint256\",\"name\":\"amount\",\"type\":\"uint256\"}],\"name\":\"deposit\",\"outputs\":[],\"stateMutability\":\"payable\",\"type\":\"function\"},{\"inputs\":[{\"internalType\":\"address payable\",\"name\":\"_receiver\",\"type\":\"address\"}],\"name\":\"forwardTo\",\"outputs\":[],\"stateMutability\":\"payable\",\"type\":\"function\"},{\"inputs\":[],\"name\":\"getBalance\",\"outputs\":[{\"internalType\":\"uint256\",\"name\":\"\",\"type\":\"uint256\"},{\"internalType\":\"uint256\",\"name\":\"\",\"type\":\"uint256\"}],\"stateMutability\":\"view\",\"type\":\"function\"},{\"inputs\":[],\"name\":\"widthdrawAll\",\"outputs\":[],\"stateMutability\":\"nonpayable\",\"type\":\"function\"}];\n",
    "var addr = \"0x4F847995B6472BAa800d66400c85fdb89c67868D\";\n",
    "var bank = new web3.eth.Contract(abi,addr);\n",
    "\n",
    "bank.methods.getBalance().call().then(console.log);\n",
    "\n",
    "// 입금 11111 wei, 222 wei를 하고 잔고 11333 wei 출력\n",
    "bank.methods.deposit(11111)\n",
    "    .send({from:\"0x117732fBb3A00538eeA94c8C80d70e460490F1C3\",gas:100000, value:11111})\n",
    "    .then(bank.methods.deposit(222)\n",
    "        .send({from:\"0x117732fBb3A00538eeA94c8C80d70e460490F1C3\",gas:100000, value:222})\n",
    "        .then(bank.methods.getBalance().call()))\n",
    "\n",
    "\n"
   ]
  },
  {
   "cell_type": "code",
   "execution_count": 92,
   "metadata": {},
   "outputs": [
    {
     "name": "stdout",
     "output_type": "stream",
     "text": [
      "Result { '0': '88999', '1': '90664' }\n"
     ]
    }
   ],
   "source": [
    "!node ../src/BankUse.js"
   ]
  },
  {
   "cell_type": "code",
   "execution_count": 59,
   "metadata": {},
   "outputs": [
    {
     "name": "stdout",
     "output_type": "stream",
     "text": [
      "Overwriting ../src/BankUse2.js\n"
     ]
    }
   ],
   "source": [
    "%%writefile ../src/BankUse2.js\n",
    "var Web3=require('web3');\n",
    "var web3 = new Web3(new Web3.providers.HttpProvider(\"http://localhost:8345\"));\n",
    "\n",
    "var abi =[{\"inputs\":[],\"stateMutability\":\"nonpayable\",\"type\":\"constructor\"},{\"anonymous\":false,\"inputs\":[{\"indexed\":false,\"internalType\":\"address\",\"name\":\"from\",\"type\":\"address\"},{\"indexed\":false,\"internalType\":\"address\",\"name\":\"to\",\"type\":\"address\"},{\"indexed\":false,\"internalType\":\"uint256\",\"name\":\"amount\",\"type\":\"uint256\"}],\"name\":\"Sent\",\"type\":\"event\"},{\"inputs\":[{\"internalType\":\"uint256\",\"name\":\"amount\",\"type\":\"uint256\"}],\"name\":\"deposit\",\"outputs\":[],\"stateMutability\":\"payable\",\"type\":\"function\"},{\"inputs\":[{\"internalType\":\"address payable\",\"name\":\"_receiver\",\"type\":\"address\"}],\"name\":\"forwardTo\",\"outputs\":[],\"stateMutability\":\"payable\",\"type\":\"function\"},{\"inputs\":[],\"name\":\"getBalance\",\"outputs\":[{\"internalType\":\"uint256\",\"name\":\"\",\"type\":\"uint256\"},{\"internalType\":\"uint256\",\"name\":\"\",\"type\":\"uint256\"}],\"stateMutability\":\"view\",\"type\":\"function\"},{\"inputs\":[],\"name\":\"widthdrawAll\",\"outputs\":[],\"stateMutability\":\"nonpayable\",\"type\":\"function\"}];\n",
    "var addr = \"0x4F847995B6472BAa800d66400c85fdb89c67868D\";\n",
    "var bank = new web3.eth.Contract(abi,addr);\n",
    "\n",
    "bank.methods.getBalance().call().then(console.log);\n",
    "\n",
    "//자신의 2번째 계정으로 계좌이체 333 wei하고 컨트랙 잔고 11000 wei 출력,\n",
    "//bank.methods.forwardTo(\"0x07B033B74C32804F8c2cc1879501e3C806cE2652\").send({from:\"0x117732fBb3A00538eeA94c8C80d70e460490F1C3\",gas:100000, value:333});\n",
    "bank.methods.getBalance().call();\n",
    "\n",
    "//2번째 계정 증가분(+333wei) 출력\n",
    "web3.eth.getBalance(\"0x07B033B74C32804F8c2cc1879501e3C806cE2652\", (err,res) => {\n",
    "    console.log(\"balance: \" + res); \n",
    "});"
   ]
  },
  {
   "cell_type": "code",
   "execution_count": 60,
   "metadata": {},
   "outputs": [
    {
     "name": "stdout",
     "output_type": "stream",
     "text": [
      "Result { '0': '21001', '1': '22666' }\n",
      "balance: 100000000000000001998\n"
     ]
    }
   ],
   "source": [
    "!node ../src/BankUse2.js"
   ]
  },
  {
   "cell_type": "code",
   "execution_count": 104,
   "metadata": {},
   "outputs": [
    {
     "name": "stdout",
     "output_type": "stream",
     "text": [
      "Overwriting ../src/BankUse3.js\n"
     ]
    }
   ],
   "source": [
    "%%writefile ../src/BankUse3.js\n",
    "var Web3=require('web3');\n",
    "var web3 = new Web3(new Web3.providers.HttpProvider(\"http://localhost:8345\"));\n",
    "\n",
    "var abi =[{\"inputs\":[],\"stateMutability\":\"nonpayable\",\"type\":\"constructor\"},{\"anonymous\":false,\"inputs\":[{\"indexed\":false,\"internalType\":\"address\",\"name\":\"from\",\"type\":\"address\"},{\"indexed\":false,\"internalType\":\"address\",\"name\":\"to\",\"type\":\"address\"},{\"indexed\":false,\"internalType\":\"uint256\",\"name\":\"amount\",\"type\":\"uint256\"}],\"name\":\"Sent\",\"type\":\"event\"},{\"inputs\":[{\"internalType\":\"uint256\",\"name\":\"amount\",\"type\":\"uint256\"}],\"name\":\"deposit\",\"outputs\":[],\"stateMutability\":\"payable\",\"type\":\"function\"},{\"inputs\":[{\"internalType\":\"address payable\",\"name\":\"_receiver\",\"type\":\"address\"}],\"name\":\"forwardTo\",\"outputs\":[],\"stateMutability\":\"payable\",\"type\":\"function\"},{\"inputs\":[],\"name\":\"getBalance\",\"outputs\":[{\"internalType\":\"uint256\",\"name\":\"\",\"type\":\"uint256\"},{\"internalType\":\"uint256\",\"name\":\"\",\"type\":\"uint256\"}],\"stateMutability\":\"view\",\"type\":\"function\"},{\"inputs\":[],\"name\":\"widthdrawAll\",\"outputs\":[],\"stateMutability\":\"nonpayable\",\"type\":\"function\"}];\n",
    "var addr = \"0x4F847995B6472BAa800d66400c85fdb89c67868D\";\n",
    "var bank = new web3.eth.Contract(abi,addr);\n",
    "\n",
    "//전액 인출하고 11000 wei\n",
    "bank.methods.widthdrawAll().send({from:\"0x117732fBb3A00538eeA94c8C80d70e460490F1C3\",gas:100000});\n",
    "bank.methods.getBalance().call()\n",
    "\n",
    "// 자신의 잔고 증가분 출력 (+11000 wei)\n",
    "web3.eth.getBalance(\"0x117732fBb3A00538eeA94c8C80d70e460490F1C3\", (err,res) => {\n",
    "    console.log(\"balance: \" + res); \n",
    "});"
   ]
  },
  {
   "cell_type": "code",
   "execution_count": 105,
   "metadata": {},
   "outputs": [
    {
     "name": "stdout",
     "output_type": "stream",
     "text": [
      "balance: 99968576576999975669\n"
     ]
    }
   ],
   "source": [
    "!node ../src/BankUse3.js"
   ]
  },
  {
   "cell_type": "markdown",
   "metadata": {},
   "source": [
    "## geth"
   ]
  },
  {
   "cell_type": "code",
   "execution_count": 125,
   "metadata": {},
   "outputs": [],
   "source": [
    "!echo | set /p=\"var _compiled=\" > ..\\src\\BankGeth.js\n",
    "!solc --optimize --combined-json abi,bin,interface ../src/Bank.sol >> ../src/BankGeth.js"
   ]
  },
  {
   "cell_type": "code",
   "execution_count": 126,
   "metadata": {},
   "outputs": [
    {
     "name": "stdout",
     "output_type": "stream",
     "text": [
      "var _compiled={\"contracts\":{\"../src/Bank.sol:MyBank\":{\"abi\":\"[{\\\"inputs\\\":[],\\\"stateMutability\\\":\\\"nonpayable\\\",\\\"type\\\":\\\"constructor\\\"},{\\\"anonymous\\\":false,\\\"inputs\\\":[{\\\"indexed\\\":false,\\\"internalType\\\":\\\"address\\\",\\\"name\\\":\\\"from\\\",\\\"type\\\":\\\"address\\\"},{\\\"indexed\\\":false,\\\"internalType\\\":\\\"address\\\",\\\"name\\\":\\\"to\\\",\\\"type\\\":\\\"address\\\"},{\\\"indexed\\\":false,\\\"internalType\\\":\\\"uint256\\\",\\\"name\\\":\\\"amount\\\",\\\"type\\\":\\\"uint256\\\"}],\\\"name\\\":\\\"Sent\\\",\\\"type\\\":\\\"event\\\"},{\\\"inputs\\\":[{\\\"internalType\\\":\\\"uint256\\\",\\\"name\\\":\\\"amount\\\",\\\"type\\\":\\\"uint256\\\"}],\\\"name\\\":\\\"deposit\\\",\\\"outputs\\\":[],\\\"stateMutability\\\":\\\"payable\\\",\\\"type\\\":\\\"function\\\"},{\\\"inputs\\\":[{\\\"internalType\\\":\\\"address payable\\\",\\\"name\\\":\\\"_receiver\\\",\\\"type\\\":\\\"address\\\"}],\\\"name\\\":\\\"forwardTo\\\",\\\"outputs\\\":[],\\\"stateMutability\\\":\\\"payable\\\",\\\"type\\\":\\\"function\\\"},{\\\"inputs\\\":[],\\\"name\\\":\\\"getBalance\\\",\\\"outputs\\\":[{\\\"internalType\\\":\\\"uint256\\\",\\\"name\\\":\\\"\\\",\\\"type\\\":\\\"uint256\\\"},{\\\"internalType\\\":\\\"uint256\\\",\\\"name\\\":\\\"\\\",\\\"type\\\":\\\"uint256\\\"}],\\\"stateMutability\\\":\\\"view\\\",\\\"type\\\":\\\"function\\\"},{\\\"inputs\\\":[],\\\"name\\\":\\\"widthdrawAll\\\",\\\"outputs\\\":[],\\\"stateMutability\\\":\\\"nonpayable\\\",\\\"type\\\":\\\"function\\\"}]\",\"bin\":\"608060405234801561001057600080fd5b50600080546001600160a01b03191633178155600155610210806100356000396000f3fe60806040526004361061003f5760003560e01c806312065fe01461004457806327d8ad88146100725780633c4593751461009a578063b6b55f25146100af575b600080fd5b34801561005057600080fd5b506100596100cc565b6040805192835260208301919091528051918290030190f35b6100986004803603602081101561008857600080fd5b50356001600160a01b03166100d4565b005b3480156100a657600080fd5b50610098610174565b610098600480360360208110156100c557600080fd5b50356101c3565b600154479091565b6001805434900390556000546001600160a01b031633146100f457600080fd5b6040516001600160a01b038216903480156108fc02916000818181858888f19350505050158015610129573d6000803e3d6000fd5b50604080513381526001600160a01b0383166020820152348183015290517f3990db2d31862302a685e8086b5755072a6e2b5b780af1ee81ece35ee3cd33459181900360600190a150565b6001805447900390556000546001600160a01b0316331461019457600080fd5b60405133904780156108fc02916000818181858888f193505050501580156101c0573d6000803e3d6000fd5b50565b8034146101cf57600080fd5b60018054909101905556fea2646970667358221220e999200065bd91706459f36f0fe16c254abf32a009f27679588aa050650f45d764736f6c63430006040033\"}},\"version\":\"0.6.4+commit.1dca32f3.Windows.msvc\"}\n"
     ]
    }
   ],
   "source": [
    "!type ..\\src\\BankGeth.js"
   ]
  },
  {
   "cell_type": "code",
   "execution_count": 25,
   "metadata": {},
   "outputs": [
    {
     "name": "stdout",
     "output_type": "stream",
     "text": [
      "Overwriting ../src/BankDeployGeth.js\n"
     ]
    }
   ],
   "source": [
    "%%writefile ../src/BankDeployGeth.js\n",
    "var primary = eth.accounts[0];\n",
    "\n",
    "loadScript('../src/BankGeth.js')\n",
    "contractName=Object.keys(_compiled.contracts)\n",
    "\n",
    "_abi=JSON.parse(_compiled.contracts[contractName[0]].abi)\n",
    "_code=_compiled.contracts[contractName[0]].bin\n",
    "_class=eth.contract(_abi);\n",
    "\n",
    "console.log('bin code: ', _code)\n",
    "//this async way does not work from the Jupyter Notebook\n",
    "_object=_class.new({from:primary,data:'0x'+_code,gas:1000000}, function(err, contract) {\n",
    "  if (!err && contract.address)\n",
    "    console.log(\"contractAddress: \", contract.address);\n",
    "    console.log(\"transactionHash: \", contract.transactionHash);\n",
    "});"
   ]
  },
  {
   "cell_type": "code",
   "execution_count": 26,
   "metadata": {},
   "outputs": [
    {
     "name": "stdout",
     "output_type": "stream",
     "text": [
      "bin code:  608060405234801561001057600080fd5b50600080546001600160a01b03191633178155600155610210806100356000396000f3fe60806040526004361061003f5760003560e01c806312065fe01461004457806327d8ad88146100725780633c4593751461009a578063b6b55f25146100af575b600080fd5b34801561005057600080fd5b506100596100cc565b6040805192835260208301919091528051918290030190f35b6100986004803603602081101561008857600080fd5b50356001600160a01b03166100d4565b005b3480156100a657600080fd5b50610098610174565b610098600480360360208110156100c557600080fd5b50356101c3565b600154479091565b6001805434900390556000546001600160a01b031633146100f457600080fd5b6040516001600160a01b038216903480156108fc02916000818181858888f19350505050158015610129573d6000803e3d6000fd5b50604080513381526001600160a01b0383166020820152348183015290517f3990db2d31862302a685e8086b5755072a6e2b5b780af1ee81ece35ee3cd33459181900360600190a150565b6001805447900390556000546001600160a01b0316331461019457600080fd5b60405133904780156108fc02916000818181858888f193505050501580156101c0573d6000803e3d6000fd5b50565b8034146101cf57600080fd5b60018054909101905556fea2646970667358221220e999200065bd91706459f36f0fe16c254abf32a009f27679588aa050650f45d764736f6c63430006040033\n",
      "transactionHash:  0xd8838f19033865670be5cd8f36ea882545321ed795b93eb8df936ac8d585c89d\n",
      "{\n",
      "  abi: [{\n",
      "      inputs: [],\n",
      "      stateMutability: \"nonpayable\",\n",
      "      type: \"constructor\"\n",
      "  }, {\n",
      "      anonymous: false,\n",
      "      inputs: [{...}, {...}, {...}],\n",
      "      name: \"Sent\",\n",
      "      type: \"event\"\n",
      "  }, {\n",
      "      inputs: [{...}],\n",
      "      name: \"deposit\",\n",
      "      outputs: [],\n",
      "      stateMutability: \"payable\",\n",
      "      type: \"function\"\n",
      "  }, {\n",
      "      inputs: [{...}],\n",
      "      name: \"forwardTo\",\n",
      "      outputs: [],\n",
      "      stateMutability: \"payable\",\n",
      "      type: \"function\"\n",
      "  }, {\n",
      "      inputs: [],\n",
      "      name: \"getBalance\",\n",
      "      outputs: [{...}, {...}],\n",
      "      stateMutability: \"view\",\n",
      "      type: \"function\"\n",
      "  }, {\n",
      "      inputs: [],\n",
      "      name: \"widthdrawAll\",\n",
      "      outputs: [],\n",
      "      stateMutability: \"nonpayable\",\n",
      "      type: \"function\"\n",
      "  }],\n",
      "  address: undefined,\n",
      "  transactionHash: \"0xd8838f19033865670be5cd8f36ea882545321ed795b93eb8df936ac8d585c89d\"\n",
      "}\n"
     ]
    }
   ],
   "source": [
    "!geth --exec \"loadScript('../src/BankDeployGeth.js')\" attach http://localhost:8345"
   ]
  },
  {
   "cell_type": "code",
   "execution_count": 64,
   "metadata": {},
   "outputs": [
    {
     "name": "stdout",
     "output_type": "stream",
     "text": [
      "null\n"
     ]
    }
   ],
   "source": [
    "!geth --exec \"eth.getTransactionReceipt('0x2ea81d76e6b757828a9e8cbab09570a41cb26931b3c2250d2347e7fce59e8c64')\" attach http://localhost:8445"
   ]
  },
  {
   "cell_type": "code",
   "execution_count": 61,
   "metadata": {},
   "outputs": [
    {
     "name": "stdout",
     "output_type": "stream",
     "text": [
      "Overwriting ../src/BankUseGeth.js\n"
     ]
    }
   ],
   "source": [
    "%%writefile ../src/BankUseGeth.js\n",
    "loadScript('../src/BankGeth.js')\n",
    "contractName=Object.keys(_compiled.contracts)\n",
    "\n",
    "_abi=JSON.parse(_compiled.contracts[contractName[0]].abi)\n",
    "var _contract=eth.contract(_abi);\n",
    "var _address=\"0x521FfDda6fdcaBea180FdAe3a590581e87c8eF8C\";\n",
    "var _instance=eth.contract(_abi).at(_address);\n",
    "console.log(_instance.getBalance.call());"
   ]
  },
  {
   "cell_type": "code",
   "execution_count": 62,
   "metadata": {},
   "outputs": [
    {
     "name": "stdout",
     "output_type": "stream",
     "text": [
      "GoError: Error while compiling or running script: Error: Reverting to invalid state checkpoint failed at web3.js:6347:37(47)\n",
      "\tat native\n",
      "\tat <eval>:1:12(1)\n",
      "\n"
     ]
    }
   ],
   "source": [
    "!geth --exec \"loadScript('../src/BankUseGeth.js')\" attach http://localhost:8345"
   ]
  },
  {
   "cell_type": "code",
   "execution_count": 32,
   "metadata": {},
   "outputs": [
    {
     "name": "stdout",
     "output_type": "stream",
     "text": [
      "Overwriting ../src/BankDeployGeth.js\n"
     ]
    }
   ],
   "source": [
    "%%writefile ../src/BankDeployGeth.js\n",
    "\n",
    "var Web3=require('web3');\n",
    "var web3;\n",
    "\n",
    "\n",
    "web3 = new Web3(new Web3.providers.HttpProvider(\"http://localhost:8447\"));\n",
    "\n",
    "var _abiArray=[{\"inputs\":[],\"stateMutability\":\"nonpayable\",\"type\":\"constructor\"},{\"anonymous\":false,\"inputs\":[{\"indexed\":false,\"internalType\":\"address\",\"name\":\"from\",\"type\":\"address\"},{\"indexed\":false,\"internalType\":\"address\",\"name\":\"to\",\"type\":\"address\"},{\"indexed\":false,\"internalType\":\"uint256\",\"name\":\"amount\",\"type\":\"uint256\"}],\"name\":\"Sent\",\"type\":\"event\"},{\"inputs\":[{\"internalType\":\"uint256\",\"name\":\"amount\",\"type\":\"uint256\"}],\"name\":\"deposit\",\"outputs\":[],\"stateMutability\":\"payable\",\"type\":\"function\"},{\"inputs\":[{\"internalType\":\"address payable\",\"name\":\"_receiver\",\"type\":\"address\"}],\"name\":\"forwardTo\",\"outputs\":[],\"stateMutability\":\"payable\",\"type\":\"function\"},{\"inputs\":[],\"name\":\"getBalance\",\"outputs\":[{\"internalType\":\"uint256\",\"name\":\"\",\"type\":\"uint256\"},{\"internalType\":\"uint256\",\"name\":\"\",\"type\":\"uint256\"}],\"stateMutability\":\"view\",\"type\":\"function\"},{\"inputs\":[],\"name\":\"widthdrawAll\",\"outputs\":[],\"stateMutability\":\"nonpayable\",\"type\":\"function\"}];\n",
    "var _bin=\"608060405234801561001057600080fd5b50336000806101000a81548173ffffffffffffffffffffffffffffffffffffffff021916908373ffffffffffffffffffffffffffffffffffffffff1602179055506000600181905550610367806100686000396000f3fe60806040526004361061003f5760003560e01c806312065fe01461004457806327d8ad88146100765780633c459375146100ba578063b6b55f25146100d1575b600080fd5b34801561005057600080fd5b506100596100ff565b604051808381526020018281526020019250505060405180910390f35b6100b86004803603602081101561008c57600080fd5b81019080803573ffffffffffffffffffffffffffffffffffffffff16906020019092919050505061010e565b005b3480156100c657600080fd5b506100cf610260565b005b6100fd600480360360208110156100e757600080fd5b8101908080359060200190929190505050610312565b005b60008060015447915091509091565b346001600082825403925050819055506000809054906101000a900473ffffffffffffffffffffffffffffffffffffffff1673ffffffffffffffffffffffffffffffffffffffff163373ffffffffffffffffffffffffffffffffffffffff161461017757600080fd5b8073ffffffffffffffffffffffffffffffffffffffff166108fc349081150290604051600060405180830381858888f193505050501580156101bd573d6000803e3d6000fd5b507f3990db2d31862302a685e8086b5755072a6e2b5b780af1ee81ece35ee3cd3345338234604051808473ffffffffffffffffffffffffffffffffffffffff1673ffffffffffffffffffffffffffffffffffffffff1681526020018373ffffffffffffffffffffffffffffffffffffffff1673ffffffffffffffffffffffffffffffffffffffff168152602001828152602001935050505060405180910390a150565b476001600082825403925050819055506000809054906101000a900473ffffffffffffffffffffffffffffffffffffffff1673ffffffffffffffffffffffffffffffffffffffff163373ffffffffffffffffffffffffffffffffffffffff16146102c957600080fd5b3373ffffffffffffffffffffffffffffffffffffffff166108fc479081150290604051600060405180830381858888f1935050505015801561030f573d6000803e3d6000fd5b50565b80341461031e57600080fd5b806001600082825401925050819055505056fea2646970667358221220f3b523a844fcfde76ea1453f80b9304ef5f76671f2c62972468d51675c07103764736f6c63430006040033\";\n",
    "var _contract = new web3.eth.Contract(_abiArray);\n",
    "\n",
    "async function deploy() {\n",
    "    const accounts = await web3.eth.getAccounts();\n",
    "    console.log(\"Deploying the contract from \" + accounts[0]);\n",
    "    \n",
    "    new web3.eth.Contract(_abiArray).deploy({data: '0x' + _bin}).estimateGas(function(err, gas) {\n",
    "        if(!err) console.log(\">> gas: \"+ gas);\n",
    "    });\n",
    "    \n",
    "    var deployed = await new web3.eth.Contract(_abiArray)\n",
    "        .deploy({data: '0x' + _bin})\n",
    "        .send({from: accounts[0], gas: 1000000, gasPrice: '1000000000'}, function(err, transactionHash) {\n",
    "                if(!err) console.log(\"hash: \" + transactionHash); \n",
    "        })\n",
    "    console.log(\"---> The contract deployed to: \" + deployed.options.address)\n",
    "}\n",
    "deploy()"
   ]
  },
  {
   "cell_type": "markdown",
   "metadata": {},
   "source": [
    "```personal.unlockAccount(eth.accounts[0], \"1111\")```\n",
    "contract could not code 어쩌구 에러는 마이닝으로 돈 계속 벌면 해결됨 좀 기다려야됨  \n",
    "\n",
    "그리고 마이닝 ```miner.start(1);admin.sleepBlocks(1);miner.stop()```"
   ]
  },
  {
   "cell_type": "code",
   "execution_count": 33,
   "metadata": {
    "scrolled": true
   },
   "outputs": [
    {
     "name": "stdout",
     "output_type": "stream",
     "text": [
      "Deploying the contract from 0x5C46B33Dc12cF6ebbb834310EF235730f6C8449e\n",
      ">> gas: 300800\n",
      "hash: 0xe61d3357273223652da8fb8c7597f5b59cfc1c48ac67e4f0532cdb5174eafade\n",
      "---> The contract deployed to: 0x1D800f26915e07c644363fCF959502d205AC8857\n"
     ]
    }
   ],
   "source": [
    "!node ../src/BankDeployGeth.js"
   ]
  },
  {
   "cell_type": "code",
   "execution_count": 22,
   "metadata": {},
   "outputs": [
    {
     "name": "stdout",
     "output_type": "stream",
     "text": [
      "Overwriting ../src/BankUseGeth.js\n"
     ]
    }
   ],
   "source": [
    "%%writefile ../src/BankUseGeth.js\n",
    "var Web3=require('web3');\n",
    "var web3 = new Web3(new Web3.providers.HttpProvider(\"http://localhost:8447\"));\n",
    "\n",
    "var bank = new web3.eth.contract([{\"inputs\":[],\"stateMutability\":\"nonpayable\",\"type\":\"constructor\"},{\"anonymous\":false,\"inputs\":[{\"indexed\":false,\"internalType\":\"address\",\"name\":\"from\",\"type\":\"address\"},{\"indexed\":false,\"internalType\":\"address\",\"name\":\"to\",\"type\":\"address\"},{\"indexed\":false,\"internalType\":\"uint256\",\"name\":\"amount\",\"type\":\"uint256\"}],\"name\":\"Sent\",\"type\":\"event\"},{\"inputs\":[{\"internalType\":\"uint256\",\"name\":\"amount\",\"type\":\"uint256\"}],\"name\":\"deposit\",\"outputs\":[],\"stateMutability\":\"payable\",\"type\":\"function\"},{\"inputs\":[{\"internalType\":\"address payable\",\"name\":\"_receiver\",\"type\":\"address\"}],\"name\":\"forwardTo\",\"outputs\":[],\"stateMutability\":\"payable\",\"type\":\"function\"},{\"inputs\":[],\"name\":\"getBalance\",\"outputs\":[{\"internalType\":\"uint256\",\"name\":\"\",\"type\":\"uint256\"},{\"internalType\":\"uint256\",\"name\":\"\",\"type\":\"uint256\"}],\"stateMutability\":\"view\",\"type\":\"function\"},{\"inputs\":[],\"name\":\"widthdrawAll\",\"outputs\":[],\"stateMutability\":\"nonpayable\",\"type\":\"function\"}],\"0x81eD10D4F4E353AE9cC8C59af1B34bB0bBa4eDa6\");\n",
    "\n",
    "async function doIt() {\n",
    "    const accounts = await web3.eth.getAccounts();\n",
    "    console.log(accounts);\n",
    "    const balance0Before = await web3.eth.getBalance(accounts[0]);\n",
    "    console.log(\"Balance0 before: \" + balance0Before);\n",
    "    const balance1Before = await web3.eth.getBalance(accounts[1]);\n",
    "    console.log(\"Balance0 before: \" + balance1Before);\n",
    "    \n",
    "    bank.methods.getBalance().call().then(console.log)\n",
    "}\n",
    "doIt();"
   ]
  },
  {
   "cell_type": "code",
   "execution_count": 23,
   "metadata": {},
   "outputs": [
    {
     "name": "stdout",
     "output_type": "stream",
     "text": [
      "[\n",
      "  '0x31Dc76679415640194B68dfbDb301c7a4565Cb79',\n",
      "  '0x6D81E0795e1b506f01886ba9a79Fe609DBAF203F',\n",
      "  '0x97AC3bd7450282c18A32A8128FE1E1D8713F90AC',\n",
      "  '0xff6EF3da460E4543558dC22a184e5beC5F3963D7',\n",
      "  '0xCAef350f0046CfA92E780C10EEE58e5Db122d9c8',\n",
      "  '0x8de4dF494dD53c7a70d0c7dd9B22ab9a273608a8',\n",
      "  '0xbC8C97e0b6EeD23B7532Bf3a71E600fbD86D1Bed',\n",
      "  '0x739D0a4Afab862Cb3D172e56d6B576c0b616D2cE',\n",
      "  '0x93Ba32F2370062a8f1E6e66B3d8095a9C3601aF0',\n",
      "  '0x1B99c28579581ab93e2D2Cc2590F52C0801d12D5'\n",
      "]\n",
      "Balance0 before: 99999735900000000000\n",
      "Balance0 before: 100000000000000000000\n",
      "Result { '0': '0', '1': '0' }\n"
     ]
    }
   ],
   "source": [
    "!node ../src/BankUseGeth.js"
   ]
  },
  {
   "cell_type": "code",
   "execution_count": 14,
   "metadata": {},
   "outputs": [
    {
     "name": "stdout",
     "output_type": "stream",
     "text": [
      "Overwriting ../src/BankUseGeth2.js\n"
     ]
    }
   ],
   "source": [
    "%%writefile ../src/BankUseGeth2.js\n",
    "var Web3=require('web3');\n",
    "var web3 = new Web3(new Web3.providers.HttpProvider(\"http://localhost:8447\"));\n",
    "\n",
    "var abi =[{\"inputs\":[],\"stateMutability\":\"nonpayable\",\"type\":\"constructor\"},{\"anonymous\":false,\"inputs\":[{\"indexed\":false,\"internalType\":\"address\",\"name\":\"from\",\"type\":\"address\"},{\"indexed\":false,\"internalType\":\"address\",\"name\":\"to\",\"type\":\"address\"},{\"indexed\":false,\"internalType\":\"uint256\",\"name\":\"amount\",\"type\":\"uint256\"}],\"name\":\"Sent\",\"type\":\"event\"},{\"inputs\":[{\"internalType\":\"uint256\",\"name\":\"amount\",\"type\":\"uint256\"}],\"name\":\"deposit\",\"outputs\":[],\"stateMutability\":\"payable\",\"type\":\"function\"},{\"inputs\":[{\"internalType\":\"address payable\",\"name\":\"_receiver\",\"type\":\"address\"}],\"name\":\"forwardTo\",\"outputs\":[],\"stateMutability\":\"payable\",\"type\":\"function\"},{\"inputs\":[],\"name\":\"getBalance\",\"outputs\":[{\"internalType\":\"uint256\",\"name\":\"\",\"type\":\"uint256\"},{\"internalType\":\"uint256\",\"name\":\"\",\"type\":\"uint256\"}],\"stateMutability\":\"view\",\"type\":\"function\"},{\"inputs\":[],\"name\":\"widthdrawAll\",\"outputs\":[],\"stateMutability\":\"nonpayable\",\"type\":\"function\"}];\n",
    "var addr = \"0x1D800f26915e07c644363fCF959502d205AC8857\";\n",
    "var bank = new web3.eth.Contract(abi,addr);\n",
    "\n",
    "async function doIt() {\n",
    "    const accounts = await web3.eth.getAccounts();\n",
    "    console.log(accounts);\n",
    "    const balance0Before = await web3.eth.getBalance(accounts[0]);\n",
    "    console.log(\"Balance0 before: \" + balance0Before);\n",
    "    const balance1Before = await web3.eth.getBalance(accounts[1]);\n",
    "    console.log(\"Balance0 before: \" + balance1Before);\n",
    "    \n",
    "    bank.methods.getBalance().call().then(console.log);\n",
    "}\n",
    "doIt();"
   ]
  },
  {
   "cell_type": "code",
   "execution_count": 15,
   "metadata": {},
   "outputs": [
    {
     "name": "stdout",
     "output_type": "stream",
     "text": [
      "[\n",
      "  '0x5C46B33Dc12cF6ebbb834310EF235730f6C8449e',\n",
      "  '0x707C2942c4269BcaF5377B926D9FFc02610FD62d'\n",
      "]\n",
      "Balance0 before: 645000000000000000000\n",
      "Balance0 before: 0\n"
     ]
    },
    {
     "name": "stderr",
     "output_type": "stream",
     "text": [
      "(node:10136) UnhandledPromiseRejectionWarning: Error: Returned error: invalid opcode: SHR\n",
      "    at Object.ErrorResponse (C:\\Users\\yoonho\\Code\\201910812\\node_modules\\web3-core-helpers\\src\\errors.js:29:16)\n",
      "    at C:\\Users\\yoonho\\Code\\201910812\\node_modules\\web3-core-requestmanager\\src\\index.js:140:36\n",
      "    at XMLHttpRequest.request.onreadystatechange (C:\\Users\\yoonho\\Code\\201910812\\node_modules\\web3-providers-http\\src\\index.js:110:13)\n",
      "    at XMLHttpRequestEventTarget.dispatchEvent (C:\\Users\\yoonho\\Code\\201910812\\node_modules\\xhr2-cookies\\dist\\xml-http-request-event-target.js:34:22)\n",
      "    at XMLHttpRequest._setReadyState (C:\\Users\\yoonho\\Code\\201910812\\node_modules\\xhr2-cookies\\dist\\xml-http-request.js:208:14)\n",
      "    at XMLHttpRequest._onHttpResponseEnd (C:\\Users\\yoonho\\Code\\201910812\\node_modules\\xhr2-cookies\\dist\\xml-http-request.js:318:14)\n",
      "    at IncomingMessage.<anonymous> (C:\\Users\\yoonho\\Code\\201910812\\node_modules\\xhr2-cookies\\dist\\xml-http-request.js:289:61)\n",
      "    at IncomingMessage.emit (events.js:327:22)\n",
      "    at endReadableNT (internal/streams/readable.js:1327:12)\n",
      "    at processTicksAndRejections (internal/process/task_queues.js:80:21)\n",
      "(Use `node --trace-warnings ...` to show where the warning was created)\n",
      "(node:10136) UnhandledPromiseRejectionWarning: Unhandled promise rejection. This error originated either by throwing inside of an async function without a catch block, or by rejecting a promise which was not handled with .catch(). To terminate the node process on unhandled promise rejection, use the CLI flag `--unhandled-rejections=strict` (see https://nodejs.org/api/cli.html#cli_unhandled_rejections_mode). (rejection id: 1)\n",
      "(node:10136) [DEP0018] DeprecationWarning: Unhandled promise rejections are deprecated. In the future, promise rejections that are not handled will terminate the Node.js process with a non-zero exit code.\n"
     ]
    }
   ],
   "source": [
    "!node ../src/BankUseGeth2.js"
   ]
  },
  {
   "cell_type": "code",
   "execution_count": null,
   "metadata": {},
   "outputs": [],
   "source": []
  }
 ],
 "metadata": {
  "kernelspec": {
   "display_name": "Python 3",
   "language": "python",
   "name": "python3"
  },
  "language_info": {
   "codemirror_mode": {
    "name": "ipython",
    "version": 3
   },
   "file_extension": ".py",
   "mimetype": "text/x-python",
   "name": "python",
   "nbconvert_exporter": "python",
   "pygments_lexer": "ipython3",
   "version": "3.6.6"
  }
 },
 "nbformat": 4,
 "nbformat_minor": 4
}
