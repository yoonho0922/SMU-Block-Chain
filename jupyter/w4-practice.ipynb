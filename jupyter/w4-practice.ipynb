{
 "cells": [
  {
   "cell_type": "markdown",
   "metadata": {},
   "source": [
    " 1. 현재 블록번호를 출력\n",
    "\n",
    " 2. 자신의 enode 값을 출력\n",
    "\n",
    " 3. peer가 있는지? 있으면 그 peer를 출력\n",
    "\n",
    " 4. 계정 목록을 출력\n",
    "\n",
    " 5. 각 계정의 잔액을 ether로 출력\n",
    "\n",
    " 6. 코인베이스를 2번째로 변경하고, 변경전과 변경후의 coinbase를 출력\n",
    "\n",
    " 7. 현재 대기하는 트랙잭션 수를 출력. 없다면 그 이유를 메시지로 출력\n",
    "\n",
    " 8. 현재 블록번호를 출력. 블록번호가 처음 출력했을 때와 변동이 있는지? 계정을 출력하거나, 잔고를 출력하는 등 몇 차례 작업이 있었는데도 불구하고 블록 번호가 그대로인 이유를 메시지로 출력."
   ]
  },
  {
   "cell_type": "code",
   "execution_count": 26,
   "metadata": {},
   "outputs": [
    {
     "name": "stdout",
     "output_type": "stream",
     "text": [
      "Overwriting src/exercise1.js\n"
     ]
    }
   ],
   "source": [
    "%%writefile src/exercise1.js\n",
    "\n",
    "miner.setEtherbase(eth.accounts[0])\n",
    "\n",
    "console.log(\"1. current block number : \" + eth.blockNumber)\n",
    "console.log(\"2. enode : \" + admin.nodeInfo.enode)\n",
    "console.log(\"3. peer : \" + net.peerCount)\n",
    "console.log(\"4. accounts : \" + eth.accounts)\n",
    "\n",
    "console.log(\"5. balance of accounts\")\n",
    "console.log(web3.fromWei('\\t' + eth.getBalance(eth.accounts[0]), \"ether\"))\n",
    "console.log(web3.fromWei('\\t' + eth.getBalance(eth.accounts[1]), \"ether\"))\n",
    "console.log(web3.fromWei('\\t' + eth.getBalance(eth.accounts[2]), \"ether\"))\n",
    "\n",
    "console.log(\"6. change coinbase\")\n",
    "console.log('\\t' + eth.coinbase)\n",
    "console.log('\\t' + miner.setEtherbase(eth.accounts[1]))\n",
    "console.log('\\t' + eth.coinbase)\n",
    "console.log()\n",
    "\n",
    "console.log(\"7. transaction pool\")\n",
    "var objectValues = txpool.status\n",
    "for (var key in objectValues){\n",
    "    console.log(key + \" : \" + objectValues[key])\n",
    "}\n",
    "\n",
    "console.log(\"8. current block number : \" + eth.blockNumber)\n",
    "console.log()"
   ]
  },
  {
   "cell_type": "code",
   "execution_count": 1,
   "metadata": {},
   "outputs": [
    {
     "name": "stdout",
     "output_type": "stream",
     "text": [
      "1. current block number : 209\n",
      "2. enode : enode://05ba3081c4966165370935a37097df70ddb23cbfdffdb7d469659e1da2a2b59d14813a614daed1f076e50824a10ed7a6f2c31214736be484b3d7f337d7d59df2@218.50.236.129:38445\n",
      "3. peer : 0\n",
      "4. accounts : 0x8a1cccfe08c0abe30c24d485ac290f84534ef1c9,0x9a47178d41d82a945199ea26f25318b44b3c1071,0x30aba1d7153b4a938db48448118b234ac74b4a56\n",
      "5. balance of accounts\n",
      "1004.99990218299999\n",
      "25.00008778690001\n",
      "15.0000000301\n",
      "6. change coinbase\n",
      "\t0x8a1cccfe08c0abe30c24d485ac290f84534ef1c9\n",
      "\ttrue\n",
      "\t0x9a47178d41d82a945199ea26f25318b44b3c1071\n",
      "\n",
      "7. transaction pool\n",
      "pending : 0\n",
      "queued : 0\n",
      "8. current block number : 209\n",
      "\n",
      "null\n"
     ]
    }
   ],
   "source": [
    "!geth --exec \"loadScript('src/exercise1.js')\" attach http://localhost:8445"
   ]
  },
  {
   "cell_type": "markdown",
   "metadata": {},
   "source": [
    "7. 거래를 이르킨 것이 없기 때문에 대기중인 트랜잭션이 없다.\n",
    "8. 계정 출력과 잔고 출력 등의 작업들은 거래를 생성하지 않고, 그에따라 블록도 생성되지 않아 블록 번호가 그대로다."
   ]
  },
  {
   "cell_type": "code",
   "execution_count": 3,
   "metadata": {},
   "outputs": [
    {
     "name": "stdout",
     "output_type": "stream",
     "text": [
      "202\n",
      "\"enode://05ba3081c4966165370935a37097df70ddb23cbfdffdb7d469659e1da2a2b59d14813a614daed1f076e50824a10ed7a6f2c31214736be484b3d7f337d7d59df2@121.134.72.195:38445\"\n"
     ]
    }
   ],
   "source": [
    "!geth --exec eth.blockNumber attach http://localhost:8445\n",
    "!geth --exec admin.nodeInfo.enode attach http://localhost:8445"
   ]
  },
  {
   "cell_type": "code",
   "execution_count": null,
   "metadata": {},
   "outputs": [],
   "source": []
  }
 ],
 "metadata": {
  "kernelspec": {
   "display_name": "Python 3",
   "language": "python",
   "name": "python3"
  },
  "language_info": {
   "codemirror_mode": {
    "name": "ipython",
    "version": 3
   },
   "file_extension": ".py",
   "mimetype": "text/x-python",
   "name": "python",
   "nbconvert_exporter": "python",
   "pygments_lexer": "ipython3",
   "version": "3.6.6"
  }
 },
 "nbformat": 4,
 "nbformat_minor": 4
}
