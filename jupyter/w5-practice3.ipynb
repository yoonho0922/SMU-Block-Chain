{
 "cells": [
  {
   "cell_type": "markdown",
   "metadata": {},
   "source": [
    "## 연습문제 3\n",
    "\n",
    "해시는 100미만의 양수로 정해진다고 하자.\n",
    "\n",
    "NONCE는 반복회수로만 쓰이고 무작위 수를 생성하는데 입력되지는 않는다.\n",
    "\n",
    "목표해시는 난이도에 따라 결정이 된다고 하자.\n",
    "\n",
    "마이닝을 해서, 목표 해시를 찾아보자.\n",
    "\n",
    "- 90을 목표해시로 정하고 몇 회만에 마이닝에 성공하는지 출력\n",
    "\n",
    "- 10을 목표해시로 정하고 몇 회만에 마이닝에 성공하는지 출력"
   ]
  },
  {
   "cell_type": "code",
   "execution_count": 38,
   "metadata": {},
   "outputs": [
    {
     "name": "stdout",
     "output_type": "stream",
     "text": [
      "NONCE:  1 guess:  72\n"
     ]
    }
   ],
   "source": [
    "from random import randint\n",
    "\n",
    "NONCE = 0\n",
    "found = False\n",
    "target = 90\n",
    "while found==False:\n",
    "    guess = int(random.random()*100)\n",
    "    if guess <= target:\n",
    "        found=True\n",
    "        print(\"NONCE: \",NONCE, \"guess: \", guess)\n",
    "    NONCE += 1\n"
   ]
  },
  {
   "cell_type": "code",
   "execution_count": 22,
   "metadata": {},
   "outputs": [
    {
     "name": "stdout",
     "output_type": "stream",
     "text": [
      "NONCE:  11 guess:  6\n"
     ]
    }
   ],
   "source": [
    "from random import randint\n",
    "\n",
    "NONCE = 0\n",
    "found = False\n",
    "target = 10\n",
    "while found==False:\n",
    "    guess = int(random.random()*100)\n",
    "    if guess <= target:\n",
    "        found=True\n",
    "        print(\"NONCE: \",NONCE, \"guess: \", guess)\n",
    "    NONCE += 1\n"
   ]
  }
 ],
 "metadata": {
  "kernelspec": {
   "display_name": "Python 3",
   "language": "python",
   "name": "python3"
  },
  "language_info": {
   "codemirror_mode": {
    "name": "ipython",
    "version": 3
   },
   "file_extension": ".py",
   "mimetype": "text/x-python",
   "name": "python",
   "nbconvert_exporter": "python",
   "pygments_lexer": "ipython3",
   "version": "3.6.6"
  }
 },
 "nbformat": 4,
 "nbformat_minor": 4
}
