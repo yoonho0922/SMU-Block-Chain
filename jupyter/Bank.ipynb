{
 "cells": [
  {
   "cell_type": "code",
   "execution_count": 3,
   "metadata": {},
   "outputs": [
    {
     "name": "stdout",
     "output_type": "stream",
     "text": [
      "Overwriting ../src/MyBank.sol\n"
     ]
    }
   ],
   "source": [
    "%%writefile ../src/MyBank.sol\n",
    "pragma solidity ^0.6.0;\n",
    "\n",
    "contract MyBank{\n",
    "    address owner;\n",
    "    uint balance;\n",
    "    \n",
    "    constructor() public {\n",
    "        owner = msg.sender;\n",
    "        balance = 0;\n",
    "    }\n",
    "    \n",
    "    event Sent(address from, address to, uint amount );\n",
    "\n",
    "    function forwardTo(address payable _receiver) public payable {\n",
    "        balance -= msg.value;\n",
    "        require(msg.sender == owner);\n",
    "        _receiver.transfer(msg.value);\n",
    "        emit Sent(msg.sender, _receiver, msg.value);\n",
    "    }\n",
    "    function getBalance() public view returns(uint, uint) {\n",
    "        return (balance, address(this).balance);\n",
    "    }\n",
    "    function deposit(uint amount) public payable {\n",
    "        require(msg.value == amount);\n",
    "        balance += amount;\n",
    "    }\n",
    "    function widthdrawAll() public {\n",
    "        balance -= address(this).balance;\n",
    "        require(msg.sender == owner);\n",
    "        msg.sender.transfer(address(this).balance);\n",
    "    }\n",
    "\n",
    "}"
   ]
  },
  {
   "cell_type": "code",
   "execution_count": 4,
   "metadata": {},
   "outputs": [],
   "source": [
    "!solc ../src/MyBank.sol --combined-json abi > ..\\src\\MyBankABI.json"
   ]
  },
  {
   "cell_type": "code",
   "execution_count": 11,
   "metadata": {},
   "outputs": [],
   "source": [
    "!solc ../src/MyBank.sol --combined-json bin > ..\\src\\MyBankBIN.json"
   ]
  },
  {
   "cell_type": "code",
   "execution_count": 22,
   "metadata": {},
   "outputs": [
    {
     "name": "stdout",
     "output_type": "stream",
     "text": [
      "Overwriting ..\\src\\MyBankBIN.json\n"
     ]
    }
   ],
   "source": [
    "%%writefile ..\\src\\MyBankBIN.json\n",
    "{\"contracts\":{\"../src/MyBank.sol:MyBank\":{\"bin\":\"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\"}},\"version\":\"0.6.4+commit.1dca32f3.Windows.msvc\"}"
   ]
  },
  {
   "cell_type": "code",
   "execution_count": 14,
   "metadata": {},
   "outputs": [
    {
     "name": "stdout",
     "output_type": "stream",
     "text": [
      "{\"contracts\":{\"../src/MyBank.sol:MyBank\":{\"bin\":\"608060405234801561001057600080fd5b50336000806101000a81548173ffffffffffffffffffffffffffffffffffffffff021916908373ffffffffffffffffffffffffffffffffffffffff1602179055506000600181905550610367806100686000396000f3fe60806040526004361061003f5760003560e01c806312065fe01461004457806327d8ad88146100765780633c459375146100ba578063b6b55f25146100d1575b600080fd5b34801561005057600080fd5b506100596100ff565b604051808381526020018281526020019250505060405180910390f35b6100b86004803603602081101561008c57600080fd5b81019080803573ffffffffffffffffffffffffffffffffffffffff16906020019092919050505061010e565b005b3480156100c657600080fd5b506100cf610260565b005b6100fd600480360360208110156100e757600080fd5b8101908080359060200190929190505050610312565b005b60008060015447915091509091565b346001600082825403925050819055506000809054906101000a900473ffffffffffffffffffffffffffffffffffffffff1673ffffffffffffffffffffffffffffffffffffffff163373ffffffffffffffffffffffffffffffffffffffff161461017757600080fd5b8073ffffffffffffffffffffffffffffffffffffffff166108fc349081150290604051600060405180830381858888f193505050501580156101bd573d6000803e3d6000fd5b507f3990db2d31862302a685e8086b5755072a6e2b5b780af1ee81ece35ee3cd3345338234604051808473ffffffffffffffffffffffffffffffffffffffff1673ffffffffffffffffffffffffffffffffffffffff1681526020018373ffffffffffffffffffffffffffffffffffffffff1673ffffffffffffffffffffffffffffffffffffffff168152602001828152602001935050505060405180910390a150565b476001600082825403925050819055506000809054906101000a900473ffffffffffffffffffffffffffffffffffffffff1673ffffffffffffffffffffffffffffffffffffffff163373ffffffffffffffffffffffffffffffffffffffff16146102c957600080fd5b3373ffffffffffffffffffffffffffffffffffffffff166108fc479081150290604051600060405180830381858888f1935050505015801561030f573d6000803e3d6000fd5b50565b80341461031e57600080fd5b806001600082825401925050819055505056fea2646970667358221220b65081812d0196fb52cfb5394a6f06fe1c24f7f4d105a5edfacfd8786ddac78764736f6c63430006040033\"}},\"version\":\"0.6.4+commit.1dca32f3.Windows.msvc\"}\n"
     ]
    }
   ],
   "source": [
    "!type ..\\src\\MyBankBIN.json"
   ]
  },
  {
   "cell_type": "code",
   "execution_count": 23,
   "metadata": {},
   "outputs": [
    {
     "name": "stdout",
     "output_type": "stream",
     "text": [
      "Overwriting ../src/MyBankDeploy.js\n"
     ]
    }
   ],
   "source": [
    "%%writefile ../src/MyBankDeploy.js\n",
    "var Web3=require('web3');\n",
    "var _abiJson = require('./MyBankABI.json');\n",
    "var _binJson = require('./MyBankBIN.json');\n",
    "\n",
    "web3 = new Web3(new Web3.providers.HttpProvider(\"http://localhost:8447\"));\n",
    "\n",
    "contractName=Object.keys(_abiJson.contracts); // reading ['src//Timer.sol:Timer'];\n",
    "console.log(\"- contract name: \", contractName[0]); //or console.log(contractName);\n",
    "_abiArray=JSON.parse(_abiJson.contracts[contractName].abi);    //JSON parsing needed!!\n",
    "_bin=_binJson.contracts[contractName].bin;\n",
    "\n",
    "var _contract = new web3.eth.Contract(_abiArray);\n",
    "\n",
    "_contract\n",
    "    .deploy({data:\"0x\"+_bin})\n",
    "    .send({from: \"0x5c46b33dc12cf6ebbb834310ef235730f6c8449e\", gas: 364124, gasPrice: '1000000000'})\n",
    "    .then(function(newContractInstance){\n",
    "        console.log(\"- Contract Address: \"+newContractInstance.options.address) // instance with the new contract address\n",
    "    });"
   ]
  },
  {
   "cell_type": "code",
   "execution_count": 25,
   "metadata": {},
   "outputs": [
    {
     "name": "stdout",
     "output_type": "stream",
     "text": [
      "- contract name:  ../src/MyBank.sol:MyBank\n",
      "- Contract Address: 0x94cB2FE10e499fcb7260F88Ef8C42Bca9e4549F8\n"
     ]
    }
   ],
   "source": [
    "!node ../src/MyBankDeploy.js"
   ]
  },
  {
   "cell_type": "code",
   "execution_count": 46,
   "metadata": {},
   "outputs": [
    {
     "name": "stdout",
     "output_type": "stream",
     "text": [
      "Overwriting ../src/BankUse.js\n"
     ]
    }
   ],
   "source": [
    "%%writefile ../src/BankUse.js\n",
    "var Web3=require('web3');\n",
    "var _abiJson = require('./MyBankABI.json');\n",
    "var _binJson = require('./MyBankBIN.json');\n",
    "\n",
    "var web3 = new Web3(new Web3.providers.WebsocketProvider(\"http://localhost:8445\"));\n",
    "\n",
    "contractName=Object.keys(_abiJson.contracts); \n",
    "console.log(\"- contract name: \", contractName[0]); \n",
    "_abiArray=JSON.parse(_abiJson.contracts[contractName].abi);  \n",
    "_bin=_binJson.contracts[contractName].bin;\n",
    "var bank = new web3.eth.Contract(_abiArray,\"0x94cB2FE10e499fcb7260F88Ef8C42Bca9e4549F8\");\n",
    "\n",
    "\n",
    "async function doIt() {\n",
    "    const accounts = await web3.eth.getAccounts();\n",
    "    console.log(accounts);\n",
    "    \n",
    "    const balance0Before = await web3.eth.getBalance(accounts[0]);\n",
    "    console.log(\"Balance0 before: \" + balance0Before);\n",
    "    const balance1Before = await web3.eth.getBalance(accounts[1]);\n",
    "    console.log(\"Balance1 before: \" + balance1Before);\n",
    "    \n",
    "    await bank.methods.deposit(11111)\n",
    "    .send({from:accounts[0],gas:100000, value:11111})\n",
    "    \n",
    "    const balance0After = await web3.eth.getBalance(accounts[0]);\n",
    "    console.log(\"Balance0 after: \" + balance0After);\n",
    "    const balance1After = await web3.eth.getBalance(accounts[1]);\n",
    "    console.log(\"Balance1 after: \" + balance1After);\n",
    "}\n",
    "doIt();"
   ]
  },
  {
   "cell_type": "code",
   "execution_count": 47,
   "metadata": {},
   "outputs": [
    {
     "name": "stdout",
     "output_type": "stream",
     "text": [
      "- contract name:  ../src/MyBank.sol:MyBank\n",
      "[\n",
      "  '0x5C46B33Dc12cF6ebbb834310EF235730f6C8449e',\n",
      "  '0x707C2942c4269BcaF5377B926D9FFc02610FD62d'\n",
      "]\n",
      "Balance0 before: 8534999999999999933334\n",
      "Balance1 before: 0\n",
      "Balance0 after: 8564999999999999922223\n",
      "Balance1 after: 0\n"
     ]
    }
   ],
   "source": [
    "!node ../src/BankUse.js"
   ]
  },
  {
   "cell_type": "code",
   "execution_count": null,
   "metadata": {},
   "outputs": [],
   "source": []
  }
 ],
 "metadata": {
  "kernelspec": {
   "display_name": "Python 3",
   "language": "python",
   "name": "python3"
  },
  "language_info": {
   "codemirror_mode": {
    "name": "ipython",
    "version": 3
   },
   "file_extension": ".py",
   "mimetype": "text/x-python",
   "name": "python",
   "nbconvert_exporter": "python",
   "pygments_lexer": "ipython3",
   "version": "3.6.6"
  }
 },
 "nbformat": 4,
 "nbformat_minor": 4
}
