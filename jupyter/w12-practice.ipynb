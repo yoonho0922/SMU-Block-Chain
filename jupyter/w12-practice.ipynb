{
 "cells": [
  {
   "cell_type": "code",
   "execution_count": 1,
   "metadata": {},
   "outputs": [
    {
     "name": "stdout",
     "output_type": "stream",
     "text": [
      "Writing ../src/Multiply7Event.sol\n"
     ]
    }
   ],
   "source": [
    "%%writefile ../src/Multiply7Event.sol\n",
    "pragma solidity ^0.6.0;\n",
    "contract Multiply7Event {\n",
    "\n",
    "    event Print(address param1, uint256 param2, uint param3);\n",
    "\n",
    "    function multiply(uint param4) public returns(uint){\n",
    "        uint result = param4 * 7;\n",
    "        emit Print(msg.sender,now,result);\n",
    "        return result;\n",
    "    }\n",
    "\n",
    "}"
   ]
  },
  {
   "cell_type": "code",
   "execution_count": 2,
   "metadata": {},
   "outputs": [
    {
     "name": "stdout",
     "output_type": "stream",
     "text": [
      "\n",
      "======= ../src/Multiply7Event.sol:Multiply7Event =======\n",
      "Gas estimation:\n",
      "construction:\n",
      "   111 + 59000 = 59111\n",
      "external:\n",
      "   multiply(uint256):\t1928\n",
      "Binary:\n",
      "6080604052348015600f57600080fd5b506101278061001f6000396000f3fe6080604052348015600f57600080fd5b506004361060285760003560e01c8063c6888fa114602d575b600080fd5b605660048036036020811015604157600080fd5b8101908080359060200190929190505050606c565b6040518082815260200191505060405180910390f35b6000806007830290507f91da4985ab616136202f4e81fd2d8cac1eb12591132d609cece407f7c6fb9205334283604051808473ffffffffffffffffffffffffffffffffffffffff1673ffffffffffffffffffffffffffffffffffffffff168152602001838152602001828152602001935050505060405180910390a18091505091905056fea2646970667358221220543b1fc75a3f7d28ee6e2afda316405b85b0ffed69acdac88afe5cd573d1cbb764736f6c63430006040033\n",
      "Contract JSON ABI\n",
      "[{\"anonymous\":false,\"inputs\":[{\"indexed\":false,\"internalType\":\"address\",\"name\":\"param1\",\"type\":\"address\"},{\"indexed\":false,\"internalType\":\"uint256\",\"name\":\"param2\",\"type\":\"uint256\"},{\"indexed\":false,\"internalType\":\"uint256\",\"name\":\"param3\",\"type\":\"uint256\"}],\"name\":\"Print\",\"type\":\"event\"},{\"inputs\":[{\"internalType\":\"uint256\",\"name\":\"param4\",\"type\":\"uint256\"}],\"name\":\"multiply\",\"outputs\":[{\"internalType\":\"uint256\",\"name\":\"\",\"type\":\"uint256\"}],\"stateMutability\":\"nonpayable\",\"type\":\"function\"}]\n"
     ]
    }
   ],
   "source": [
    "!solc --abi --bin --gas ../src/Multiply7Event.sol"
   ]
  },
  {
   "cell_type": "code",
   "execution_count": 3,
   "metadata": {},
   "outputs": [
    {
     "name": "stdout",
     "output_type": "stream",
     "text": [
      "Writing ../src/Multiply7EventDeploy.js\n"
     ]
    }
   ],
   "source": [
    "%%writefile ../src/Multiply7EventDeploy.js\n",
    "var Web3 = require('web3');\n",
    "var web3 = new Web3(new Web3.providers.HttpProvider(\"http://localhost:8345\"));\n",
    "\n",
    "var _abiArray  = [{\"anonymous\":false,\"inputs\":[{\"indexed\":false,\"internalType\":\"address\",\"name\":\"param1\",\"type\":\"address\"},{\"indexed\":false,\"internalType\":\"uint256\",\"name\":\"param2\",\"type\":\"uint256\"},{\"indexed\":false,\"internalType\":\"uint256\",\"name\":\"param3\",\"type\":\"uint256\"}],\"name\":\"Print\",\"type\":\"event\"},{\"inputs\":[{\"internalType\":\"uint256\",\"name\":\"param4\",\"type\":\"uint256\"}],\"name\":\"multiply\",\"outputs\":[{\"internalType\":\"uint256\",\"name\":\"\",\"type\":\"uint256\"}],\"stateMutability\":\"nonpayable\",\"type\":\"function\"}]\n",
    "var _bin = \"0x\" + \"6080604052348015600f57600080fd5b506101278061001f6000396000f3fe6080604052348015600f57600080fd5b506004361060285760003560e01c8063c6888fa114602d575b600080fd5b605660048036036020811015604157600080fd5b8101908080359060200190929190505050606c565b6040518082815260200191505060405180910390f35b6000806007830290507f91da4985ab616136202f4e81fd2d8cac1eb12591132d609cece407f7c6fb9205334283604051808473ffffffffffffffffffffffffffffffffffffffff1673ffffffffffffffffffffffffffffffffffffffff168152602001838152602001828152602001935050505060405180910390a18091505091905056fea2646970667358221220543b1fc75a3f7d28ee6e2afda316405b85b0ffed69acdac88afe5cd573d1cbb764736f6c63430006040033\";\n",
    "\n",
    "async function deploy() {\n",
    "    const accounts = await web3.eth.getAccounts();\n",
    "    console.log(\"Deploying the contract from \" + accounts[0]);\n",
    "    var deployed = await new web3.eth.Contract(_abiArray)\n",
    "        .deploy({data: _bin})\n",
    "        .send({from: accounts[0], gas: 364124, gasPrice: '1000000000'}, function(err, transactionHash) {\n",
    "                if(!err) console.log(\"hash: \" + transactionHash); \n",
    "        })\n",
    "    console.log(\"---> The contract deployed to: \" + deployed.options.address)\n",
    "}\n",
    "deploy()"
   ]
  },
  {
   "cell_type": "code",
   "execution_count": 4,
   "metadata": {},
   "outputs": [
    {
     "name": "stdout",
     "output_type": "stream",
     "text": [
      "Deploying the contract from 0x2f0b846926ee89D9dF4e0F545Fde07ED69b2F3b2\n",
      "hash: 0x223d9b97cfcb592ecb3f06a11fe2e6c93ff4121ac6079236162b74f377236b4f\n",
      "---> The contract deployed to: 0xEAAB95114d0c961aCdCa788FfFfca3A9c658D53C\n"
     ]
    }
   ],
   "source": [
    "!node ../src/Multiply7EventDeploy.js"
   ]
  },
  {
   "cell_type": "code",
   "execution_count": 24,
   "metadata": {},
   "outputs": [
    {
     "name": "stdout",
     "output_type": "stream",
     "text": [
      "Overwriting ../src/Multiply7EventUse.js\n"
     ]
    }
   ],
   "source": [
    "%%writefile ../src/Multiply7EventUse.js\n",
    "var Web3=require('web3');\n",
    "var web3 = new Web3(new Web3.providers.HttpProvider(\"http://localhost:8345\"));\n",
    "var _abiArray = [{\"anonymous\":false,\"inputs\":[{\"indexed\":false,\"internalType\":\"address\",\"name\":\"param1\",\"type\":\"address\"},{\"indexed\":false,\"internalType\":\"uint256\",\"name\":\"param2\",\"type\":\"uint256\"},{\"indexed\":false,\"internalType\":\"uint256\",\"name\":\"param3\",\"type\":\"uint256\"}],\"name\":\"Print\",\"type\":\"event\"},{\"inputs\":[{\"internalType\":\"uint256\",\"name\":\"param4\",\"type\":\"uint256\"}],\"name\":\"multiply\",\"outputs\":[{\"internalType\":\"uint256\",\"name\":\"\",\"type\":\"uint256\"}],\"stateMutability\":\"nonpayable\",\"type\":\"function\"}]\n",
    "var _test = new web3.eth.Contract(_abiArray, '0xEAAB95114d0c961aCdCa788FfFfca3A9c658D53C');\n",
    "\n",
    "async function doIt() {\n",
    "    const accounts = await web3.eth.getAccounts();\n",
    "    console.log(\"Account: \" + accounts[0]);\n",
    "\n",
    "    const value1 = await _test.methods.multiply(8)\n",
    "        .send({from: accounts[0], gas: 364124, gasPrice: '1000000000'})\n",
    "\n",
    "    console.log(\"---> multifly called \" + JSON.stringify(value1.events.Print.returnValues));\n",
    "    \n",
    "        const value2 = await _test.methods.multiply(16)\n",
    "        .send({from: accounts[0], gas: 364124, gasPrice: '1000000000'})\n",
    "\n",
    "    console.log(\"---> multifly called \" + JSON.stringify(value2.events.Print.returnValues));\n",
    "}\n",
    "doIt()"
   ]
  },
  {
   "cell_type": "code",
   "execution_count": 25,
   "metadata": {},
   "outputs": [
    {
     "name": "stdout",
     "output_type": "stream",
     "text": [
      "Account: 0x2f0b846926ee89D9dF4e0F545Fde07ED69b2F3b2\n",
      "---> multifly called {\"0\":\"0x2f0b846926ee89D9dF4e0F545Fde07ED69b2F3b2\",\"1\":\"1621759228\",\"2\":\"56\",\"param1\":\"0x2f0b846926ee89D9dF4e0F545Fde07ED69b2F3b2\",\"param2\":\"1621759228\",\"param3\":\"56\"}\n",
      "---> multifly called {\"0\":\"0x2f0b846926ee89D9dF4e0F545Fde07ED69b2F3b2\",\"1\":\"1621759229\",\"2\":\"112\",\"param1\":\"0x2f0b846926ee89D9dF4e0F545Fde07ED69b2F3b2\",\"param2\":\"1621759229\",\"param3\":\"112\"}\n"
     ]
    }
   ],
   "source": [
    "!node ../src/Multiply7EventUse.js"
   ]
  }
 ],
 "metadata": {
  "kernelspec": {
   "display_name": "Python 3",
   "language": "python",
   "name": "python3"
  },
  "language_info": {
   "codemirror_mode": {
    "name": "ipython",
    "version": 3
   },
   "file_extension": ".py",
   "mimetype": "text/x-python",
   "name": "python",
   "nbconvert_exporter": "python",
   "pygments_lexer": "ipython3",
   "version": "3.6.6"
  }
 },
 "nbformat": 4,
 "nbformat_minor": 4
}
