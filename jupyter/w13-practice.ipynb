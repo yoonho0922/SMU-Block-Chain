{
 "cells": [
  {
   "cell_type": "code",
   "execution_count": 28,
   "metadata": {},
   "outputs": [
    {
     "name": "stdout",
     "output_type": "stream",
     "text": [
      "Writing ../src/PracOrder.sol\n"
     ]
    }
   ],
   "source": [
    "%%writefile ../src/PracOrder.sol\n",
    "pragma solidity ^0.6.0;\n",
    "\n",
    "contract PracOrderEvent {\n",
    "    uint unitPrice = 10;\n",
    "    event OrderLog(address indexed _from, bytes2 _itemId, uint indexed quantity, string shipping);\n",
    "    \n",
    "    address payable owner;\n",
    "    constructor() public {\n",
    "        owner = msg.sender;\n",
    "    }\n",
    "\n",
    "\n",
    "    function order(bytes2 _itemId, uint quantity, string memory shipping) public payable {\n",
    "        uint256 orderAmount = quantity * unitPrice;\n",
    "        require(msg.value == orderAmount);\n",
    "        emit OrderLog(msg.sender, _itemId, quantity, shipping);\n",
    "    }\n",
    "    \n",
    "    \n",
    "    function getBalance() view public returns(uint) {\n",
    "        return address(this).balance;\n",
    "    }\n",
    "}"
   ]
  },
  {
   "cell_type": "code",
   "execution_count": 29,
   "metadata": {},
   "outputs": [],
   "source": [
    "!solc ../src/PracOrder.sol --combined-json abi > ..\\src\\PracOrderABI.json"
   ]
  },
  {
   "cell_type": "code",
   "execution_count": 31,
   "metadata": {},
   "outputs": [],
   "source": [
    "!solc ../src/PracOrder.sol --combined-json bin > ..\\src\\PracOrderBIN.json"
   ]
  },
  {
   "cell_type": "code",
   "execution_count": 34,
   "metadata": {},
   "outputs": [
    {
     "name": "stdout",
     "output_type": "stream",
     "text": [
      "Overwriting ../src/PracOrderDeploy.js\n"
     ]
    }
   ],
   "source": [
    "%%writefile ../src/PracOrderDeploy.js\n",
    "var Web3=require('web3');\n",
    "var _abiJson = require('./PracOrderABI.json');\n",
    "var _binJson = require('./PracOrderBIN.json');\n",
    "\n",
    "var web3 = new Web3(new Web3.providers.HttpProvider(\"http://localhost:8345\"));\n",
    "\n",
    "\n",
    "contractNames=Object.keys(_abiJson.contracts); \n",
    "contractName=contractNames[0];\n",
    "console.log(\"- contract name: \", contractName);\n",
    "\n",
    "_abiArray=JSON.parse(_abiJson.contracts[contractName].abi);  \n",
    "_bin=_binJson.contracts[contractName].bin;\n",
    "\n",
    "async function deploy() {\n",
    "    const accounts = await web3.eth.getAccounts();\n",
    "    console.log(\"Deploying the contract from \" + accounts[0]);\n",
    "    var deployed = await new web3.eth.Contract(_abiArray)\n",
    "        .deploy({data: _bin})\n",
    "        .send({from: accounts[0], gas: 1000000}, function(err, transactionHash) {\n",
    "                if(!err) console.log(\"hash: \" + transactionHash); \n",
    "        })\n",
    "    console.log(\"---> The contract deployed to: \" + deployed.options.address)\n",
    "}\n",
    "deploy()"
   ]
  },
  {
   "cell_type": "code",
   "execution_count": 35,
   "metadata": {},
   "outputs": [
    {
     "name": "stdout",
     "output_type": "stream",
     "text": [
      "- contract name:  ../src/PracOrder.sol:PracOrderEvent\n",
      "Deploying the contract from 0xC5F7533Aeaaa59A63eB800B97aBa1EF4DE08A9B6\n",
      "hash: 0xc4193baffa29bdb22dc13b124b3d011a451c75fe8e3ac6e222d936549e5583e7\n",
      "---> The contract deployed to: 0x221d4dfc48ee26e0AC113C64fd5B79b7cF67BdBD\n"
     ]
    }
   ],
   "source": [
    "!node ../src/PracOrderDeploy.js"
   ]
  },
  {
   "cell_type": "code",
   "execution_count": 46,
   "metadata": {},
   "outputs": [
    {
     "name": "stdout",
     "output_type": "stream",
     "text": [
      "Overwriting ../src/PracOrderUser.js\n"
     ]
    }
   ],
   "source": [
    "%%writefile ../src/PracOrderUser.js\n",
    "var Web3=require('web3');\n",
    "var _abiJson = require('./PracOrderABI.json');\n",
    "\n",
    "\n",
    "var web3;\n",
    "\n",
    "//web3 = new Web3(new Web3.providers.WebsocketProvider(\"ws://localhost:8345\"));\n",
    "web3 = new Web3(new Web3.providers.HttpProvider(\"http://localhost:8345\"));\n",
    "\n",
    "\n",
    "contractNames=Object.keys(_abiJson.contracts); \n",
    "contractName=contractNames[0];\n",
    "console.log(\"- contract name: \", contractName); //or console.log(contractName);\n",
    "_abiArray=JSON.parse(_abiJson.contracts[contractName].abi);    //JSON parsing needed!!\n",
    "\n",
    " var _instance = new web3.eth.Contract(_abiArray, \"0x221d4dfc48ee26e0AC113C64fd5B79b7cF67BdBD\");\n",
    "\n",
    "var event = _instance.events.OrderLog({fromBlock: 0}, function (error, result) {\n",
    "    if (!error) {\n",
    "        console.log(\"Event fired: \" + JSON.stringify(result.returnValues));\n",
    "    }\n",
    "});\n",
    "\n",
    "async function doIt() {\n",
    "    const accounts = await web3.eth.getAccounts();\n",
    "    console.log(\"Account: \" + accounts[0]);\n",
    "    const balanceBefore = await web3.eth.getBalance(accounts[0]);\n",
    "    console.log(\"Balance before: \" + balanceBefore);\n",
    "   \n",
    "    my = await _instance.methods.order(\"0x1234\",  3, \"20 2-gil Hongji-dong Jongro-gu Seoul\")\n",
    "        .send({from: accounts[0], gas: 100000, value:30})\n",
    "\n",
    "}\n",
    "\n",
    "doIt()"
   ]
  },
  {
   "cell_type": "code",
   "execution_count": 47,
   "metadata": {},
   "outputs": [
    {
     "name": "stdout",
     "output_type": "stream",
     "text": [
      "- contract name:  ../src/PracOrder.sol:PracOrderEvent\n",
      "Account: 0xC5F7533Aeaaa59A63eB800B97aBa1EF4DE08A9B6\n",
      "Balance before: 99978859605999999757\n"
     ]
    }
   ],
   "source": [
    "!node ../src/PracOrderUser.js"
   ]
  },
  {
   "cell_type": "code",
   "execution_count": null,
   "metadata": {},
   "outputs": [],
   "source": []
  }
 ],
 "metadata": {
  "kernelspec": {
   "display_name": "Python 3",
   "language": "python",
   "name": "python3"
  },
  "language_info": {
   "codemirror_mode": {
    "name": "ipython",
    "version": 3
   },
   "file_extension": ".py",
   "mimetype": "text/x-python",
   "name": "python",
   "nbconvert_exporter": "python",
   "pygments_lexer": "ipython3",
   "version": "3.6.6"
  }
 },
 "nbformat": 4,
 "nbformat_minor": 4
}
