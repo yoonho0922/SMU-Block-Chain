{
 "cells": [
  {
   "cell_type": "markdown",
   "metadata": {},
   "source": [
    "## 컴파일"
   ]
  },
  {
   "cell_type": "code",
   "execution_count": 3,
   "metadata": {},
   "outputs": [
    {
     "name": "stdout",
     "output_type": "stream",
     "text": [
      "Overwriting ../src/GethTimer.sol\n"
     ]
    }
   ],
   "source": [
    "%%writefile ../src/GethTimer.sol\n",
    "pragma solidity ^0.6.0;\n",
    "contract Timer {\n",
    "    uint256 startTime;\n",
    "    function start() public {\n",
    "        startTime=now;\n",
    "    }\n",
    "    function timePassed() public view returns(uint256) {\n",
    "        return now-startTime;\n",
    "    }\n",
    "    function getNow() view public returns(uint) {\n",
    "        return now;\n",
    "    }\n",
    "}"
   ]
  },
  {
   "cell_type": "code",
   "execution_count": 12,
   "metadata": {},
   "outputs": [],
   "source": [
    "!solc ../src/GethTimer.sol --combined-json abi > ..\\src\\GethTimerABI.json"
   ]
  },
  {
   "cell_type": "code",
   "execution_count": 8,
   "metadata": {},
   "outputs": [],
   "source": [
    "!solc ../src/GethTimer.sol --combined-json bin > ..\\src\\GethTimerBIN.json"
   ]
  },
  {
   "cell_type": "code",
   "execution_count": 19,
   "metadata": {},
   "outputs": [
    {
     "name": "stdout",
     "output_type": "stream",
     "text": [
      "Overwriting ..\\src\\GethTimerABI.json\n"
     ]
    }
   ],
   "source": [
    "%%writefile ..\\src\\GethTimerABI.json\n",
    "[ { \"constant\": true, \"inputs\": [], \"name\": \"timePassed\", \"outputs\": [ { \"name\": \"\", \"type\": \"uint256\" } ], \"payable\": false, \"stateMutability\": \"view\", \"type\": \"function\" }, { \"constant\": true, \"inputs\": [], \"name\": \"getNow\", \"outputs\": [ { \"name\": \"\", \"type\": \"uint256\" } ], \"payable\": false, \"stateMutability\": \"view\", \"type\": \"function\" }, { \"constant\": false, \"inputs\": [], \"name\": \"start\", \"outputs\": [], \"payable\": false, \"stateMutability\": \"nonpayable\", \"type\": \"function\" } ]\n",
    "\n",
    "{\"contracts\":{\"../src/GethTimer.sol:Timer\":{\"abi\":\"[{\\\"inputs\\\":[],\\\"name\\\":\\\"getNow\\\",\\\"outputs\\\":[{\\\"internalType\\\":\\\"uint256\\\",\\\"name\\\":\\\"\\\",\\\"type\\\":\\\"uint256\\\"}],\\\"stateMutability\\\":\\\"view\\\",\\\"type\\\":\\\"function\\\"},{\\\"inputs\\\":[],\\\"name\\\":\\\"start\\\",\\\"outputs\\\":[],\\\"stateMutability\\\":\\\"nonpayable\\\",\\\"type\\\":\\\"function\\\"},{\\\"inputs\\\":[],\\\"name\\\":\\\"timePassed\\\",\\\"outputs\\\":[{\\\"internalType\\\":\\\"uint256\\\",\\\"name\\\":\\\"\\\",\\\"type\\\":\\\"uint256\\\"}],\\\"stateMutability\\\":\\\"view\\\",\\\"type\\\":\\\"function\\\"}]\"}},\"version\":\"0.6.4+commit.1dca32f3.Windows.msvc\"}"
   ]
  },
  {
   "cell_type": "code",
   "execution_count": 13,
   "metadata": {},
   "outputs": [
    {
     "name": "stdout",
     "output_type": "stream",
     "text": [
      "Overwriting ..\\src\\GethTimerBIN.json\n"
     ]
    }
   ],
   "source": [
    "%%writefile ..\\src\\GethTimerBIN.json\n",
    "{\"contracts\":{\"../src/GethTimer.sol:Timer\":{\"bin\":\"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\"}},\"version\":\"0.6.4+commit.1dca32f3.Windows.msvc\"}"
   ]
  },
  {
   "cell_type": "code",
   "execution_count": 14,
   "metadata": {},
   "outputs": [
    {
     "name": "stdout",
     "output_type": "stream",
     "text": [
      "{\"contracts\":{\"../src/GethTimer.sol:Timer\":{\"abi\":\"[{\\\"inputs\\\":[],\\\"name\\\":\\\"getNow\\\",\\\"outputs\\\":[{\\\"internalType\\\":\\\"uint256\\\",\\\"name\\\":\\\"\\\",\\\"type\\\":\\\"uint256\\\"}],\\\"stateMutability\\\":\\\"view\\\",\\\"type\\\":\\\"function\\\"},{\\\"inputs\\\":[],\\\"name\\\":\\\"start\\\",\\\"outputs\\\":[],\\\"stateMutability\\\":\\\"nonpayable\\\",\\\"type\\\":\\\"function\\\"},{\\\"inputs\\\":[],\\\"name\\\":\\\"timePassed\\\",\\\"outputs\\\":[{\\\"internalType\\\":\\\"uint256\\\",\\\"name\\\":\\\"\\\",\\\"type\\\":\\\"uint256\\\"}],\\\"stateMutability\\\":\\\"view\\\",\\\"type\\\":\\\"function\\\"}]\"}},\"version\":\"0.6.4+commit.1dca32f3.Windows.msvc\"}\n"
     ]
    }
   ],
   "source": [
    "!type ..\\src\\GethTimerABI.json"
   ]
  },
  {
   "cell_type": "code",
   "execution_count": 15,
   "metadata": {},
   "outputs": [
    {
     "name": "stdout",
     "output_type": "stream",
     "text": [
      "{\"contracts\":{\"../src/GethTimer.sol:Timer\":{\"bin\":\"6060604052341561000f57600080fd5b60fe8061001d6000396000f3006060604052600436106053576000357c0100000000000000000000000000000000000000000000000000000000900463ffffffff168063b4454253146058578063bbe4fd5014607e578063be9a65551460a4575b600080fd5b3415606257600080fd5b606860b6565b6040518082815260200191505060405180910390f35b3415608857600080fd5b608e60c1565b6040518082815260200191505060405180910390f35b341560ae57600080fd5b60b460c9565b005b600080544203905090565b600042905090565b426000819055505600a165627a7a723058205bab257367d0cbd62560a5c06435ba139456e142c1d02571e760ae0354eec5640029\"}},\"version\":\"0.6.4+commit.1dca32f3.Windows.msvc\"}\n"
     ]
    }
   ],
   "source": [
    "!type ..\\src\\GethTimerBIN.json"
   ]
  },
  {
   "cell_type": "markdown",
   "metadata": {},
   "source": [
    "## 노드로 geth 배포"
   ]
  },
  {
   "cell_type": "code",
   "execution_count": 6,
   "metadata": {},
   "outputs": [
    {
     "name": "stdout",
     "output_type": "stream",
     "text": [
      "Overwriting ../src/TimerDeployAbiBinFromFile.js\n"
     ]
    }
   ],
   "source": [
    "%%writefile ../src/TimerDeployAbiBinFromFile.js\n",
    "var Web3=require('web3');\n",
    "var _abiJson = require('./GethTimerABI.json');\n",
    "var _binJson = require('./GethTimerBIN.json');\n",
    "\n",
    "web3 = new Web3(new Web3.providers.HttpProvider(\"http://localhost:8447\"));\n",
    "\n",
    "contractName=Object.keys(_abiJson.contracts); // reading ['src//Timer.sol:Timer'];\n",
    "console.log(\"- contract name: \", contractName[0]); //or console.log(contractName);\n",
    "_abiArray=JSON.parse(_abiJson.contracts[contractName].abi);    //JSON parsing needed!!\n",
    "_bin=_binJson.contracts[contractName].bin;\n",
    "console.log(\"- ABI: \" + _abiArray);\n",
    "console.log(\"- Bytecode: \" + _bin);\n",
    "\n",
    "var _contract = new web3.eth.Contract(_abiArray);\n",
    "\n",
    "_contract\n",
    "    .deploy({data:\"0x\"+_bin})\n",
    "    .send({from: \"0x5c46b33dc12cf6ebbb834310ef235730f6c8449e\", gas: 364124, gasPrice: '1000000000'})\n",
    "    .then(function(newContractInstance){\n",
    "        console.log(\"- Contract Address: \"+newContractInstance.options.address) // instance with the new contract address\n",
    "    });"
   ]
  },
  {
   "cell_type": "markdown",
   "metadata": {},
   "source": [
    "```personal.unlockAccount(eth.accounts[0], \"1111\")```"
   ]
  },
  {
   "cell_type": "code",
   "execution_count": 16,
   "metadata": {},
   "outputs": [
    {
     "name": "stdout",
     "output_type": "stream",
     "text": [
      "- contract name:  ../src/GethTimer.sol:Timer\n",
      "- ABI: [object Object],[object Object],[object Object]\n",
      "- Bytecode: 6060604052341561000f57600080fd5b60fe8061001d6000396000f3006060604052600436106053576000357c0100000000000000000000000000000000000000000000000000000000900463ffffffff168063b4454253146058578063bbe4fd5014607e578063be9a65551460a4575b600080fd5b3415606257600080fd5b606860b6565b6040518082815260200191505060405180910390f35b3415608857600080fd5b608e60c1565b6040518082815260200191505060405180910390f35b341560ae57600080fd5b60b460c9565b005b600080544203905090565b600042905090565b426000819055505600a165627a7a723058205bab257367d0cbd62560a5c06435ba139456e142c1d02571e760ae0354eec5640029\n",
      "- Contract Address: 0xF341440f0dC9119ea6556bbdCCC6b0edF499eC34\n"
     ]
    }
   ],
   "source": [
    "!node ../src/TimerDeployAbiBinFromFile.js"
   ]
  },
  {
   "cell_type": "markdown",
   "metadata": {},
   "source": [
    "## 사용"
   ]
  },
  {
   "cell_type": "code",
   "execution_count": 17,
   "metadata": {},
   "outputs": [
    {
     "name": "stdout",
     "output_type": "stream",
     "text": [
      "Overwriting ../src/timerUse.js\n"
     ]
    }
   ],
   "source": [
    "%%writefile ../src/timerUse.js\n",
    "var Web3=require('web3');\n",
    "var _abiJson = require('./GethTimerABI.json');\n",
    "var _binJson = require('./GethTimerBIN.json');\n",
    "\n",
    "var web3 = new Web3(new Web3.providers.HttpProvider(\"http://localhost:8447\"));\n",
    "\n",
    "//var my = require('./Timer');  //cotaining abi,bin\n",
    "//abi from Timer.js\n",
    "//var _abiArray=JSON.parse(my._compiled.contracts['src/Timer.sol:Timer'].abi);   //JSON parsing needed!!\n",
    "//console.log(\"- ABI: \"+my._compiled.contracts['src/Timer.sol:Timer'].abi);\n",
    "\n",
    "contractName=Object.keys(_abiJson.contracts); // reading ['src//Timer.sol:Timer'];\n",
    "console.log(\"- contract name: \", contractName[0]); //or console.log(contractName);\n",
    "_abiArray=JSON.parse(_abiJson.contracts[contractName].abi);    //JSON parsing needed!!\n",
    "_bin=_binJson.contracts[contractName].bin;\n",
    "var timer = new web3.eth.Contract(_abiArray,\"0xF341440f0dC9119ea6556bbdCCC6b0edF499eC34\");\n",
    "\n",
    "\n",
    "timer.methods.getNow().call().then(function(value) {console.log(value);});\n",
    "timer.methods.start().send({from:\"0x5c46b33dc12cf6ebbb834310ef235730f6c8449e\",gas:100000});\n",
    "timer.methods.timePassed().call().then(function(value) {console.log(value);});"
   ]
  },
  {
   "cell_type": "code",
   "execution_count": 18,
   "metadata": {},
   "outputs": [
    {
     "name": "stdout",
     "output_type": "stream",
     "text": [
      "- contract name:  ../src/GethTimer.sol:Timer\n",
      "1622711943\n",
      "1622711943\n"
     ]
    }
   ],
   "source": [
    "!node ../src/timerUse.js"
   ]
  },
  {
   "cell_type": "code",
   "execution_count": null,
   "metadata": {},
   "outputs": [],
   "source": []
  }
 ],
 "metadata": {
  "kernelspec": {
   "display_name": "Python 3",
   "language": "python",
   "name": "python3"
  },
  "language_info": {
   "codemirror_mode": {
    "name": "ipython",
    "version": 3
   },
   "file_extension": ".py",
   "mimetype": "text/x-python",
   "name": "python",
   "nbconvert_exporter": "python",
   "pygments_lexer": "ipython3",
   "version": "3.6.6"
  }
 },
 "nbformat": 4,
 "nbformat_minor": 4
}
