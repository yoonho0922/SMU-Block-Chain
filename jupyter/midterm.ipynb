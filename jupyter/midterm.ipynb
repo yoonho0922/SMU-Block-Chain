{
 "cells": [
  {
   "cell_type": "markdown",
   "metadata": {},
   "source": [
    "### 블록체인프로그래밍 중간고사 201910812 안윤호 "
   ]
  },
  {
   "cell_type": "markdown",
   "metadata": {},
   "source": [
    "# 문제1"
   ]
  },
  {
   "cell_type": "code",
   "execution_count": 63,
   "metadata": {},
   "outputs": [
    {
     "name": "stdout",
     "output_type": "stream",
     "text": [
      "Overwriting src/midterm01-1.js\n"
     ]
    }
   ],
   "source": [
    "%%writefile src/midterm01-1.js\n",
    "var ip = admin.nodeInfo.ip\n",
    "var chainId = admin.nodeInfo.protocols.eth.config.chainId\n",
    "\n",
    "if(chainId>4){\n",
    "    console.log(\"Your chainId \" + chainId + \"@\" + ip + \" is a private network\")\n",
    "}else{\n",
    "    console.log(\"Your chainId \" + chainId + \"@\" + ip + \" is not a private network\")\n",
    "}"
   ]
  },
  {
   "cell_type": "code",
   "execution_count": 41,
   "metadata": {},
   "outputs": [
    {
     "name": "stdout",
     "output_type": "stream",
     "text": [
      "Overwriting src/midterm01-2.js\n"
     ]
    }
   ],
   "source": [
    "%%writefile src/midterm01-2.js\n",
    "\n",
    "var bal1 = eth.getBalance(eth.accounts[0]); \n",
    "ether1 = web3.fromWei(bal1, \"ether\")\n",
    "\n",
    "var bal2 = eth.getBalance(eth.accounts[1]); \n",
    "ether2 = web3.fromWei(bal2, \"ether\")\n",
    "\n",
    "tc = eth.blockNumber\n",
    "\n",
    "console.log(\"-Before\")\n",
    "console.log(\"\\t- coinbase balance in Wei: \" + bal1 + \" ether: \" + ether1)\n",
    "console.log(\"\\t- account1 balance in Wei: \" + bal2 + \" ether: \" + ether2)\n",
    "console.log(\"\\t- transaction count: \" + tc)"
   ]
  },
  {
   "cell_type": "code",
   "execution_count": 195,
   "metadata": {},
   "outputs": [
    {
     "name": "stdout",
     "output_type": "stream",
     "text": [
      "Overwriting src/midterm01-3.js\n"
     ]
    }
   ],
   "source": [
    "%%writefile src/midterm01-3.js\n",
    "\n",
    "miner.setEtherbase(eth.accounts[0])\n",
    "personal.unlockAccount(eth.accounts[0], \"1111\")\n",
    "\n",
    "var hash = eth.sendTransaction({\n",
    "    from: eth.accounts[0],\n",
    "    to: eth.accounts[1],\n",
    "    value: 10101\n",
    "})\n",
    "\n",
    "console.log(\"...mining start \" + hash)\n",
    "miner.start();admin.sleepBlocks(1);miner.stop();\n",
    "console.log(\"mining done...\")"
   ]
  },
  {
   "cell_type": "code",
   "execution_count": 53,
   "metadata": {},
   "outputs": [
    {
     "name": "stdout",
     "output_type": "stream",
     "text": [
      "Overwriting src/midterm01-4.js\n"
     ]
    }
   ],
   "source": [
    "%%writefile src/midterm01-4.js\n",
    "\n",
    "var bal1 = eth.getBalance(eth.accounts[0]); \n",
    "ether1 = web3.fromWei(bal1, \"ether\")\n",
    "\n",
    "var bal2 = eth.getBalance(eth.accounts[1]); \n",
    "ether2 = web3.fromWei(bal2, \"ether\")\n",
    "\n",
    "tc = eth.blockNumber\n",
    "\n",
    "console.log(\"-After\")\n",
    "console.log(\"\\t- ether: \" + ether1)\n",
    "console.log(\"\\t- ether: \" + ether2+ \"increased by 10101\")\n",
    "console.log(\"\\t- transaction count: \" + tc + \"increased by 1\")\n",
    "console.log(\"- gas used: __ won (1 ether = 2500000): __\")"
   ]
  },
  {
   "cell_type": "markdown",
   "metadata": {},
   "source": [
    "## 문제 1-1 답"
   ]
  },
  {
   "cell_type": "code",
   "execution_count": 64,
   "metadata": {},
   "outputs": [
    {
     "name": "stdout",
     "output_type": "stream",
     "text": [
      "Your chainId 36@218.50.236.129 is a private network\n",
      "null\n"
     ]
    }
   ],
   "source": [
    "!geth --exec \"loadScript('src/midterm01-1.js')\" attach http://localhost:8446"
   ]
  },
  {
   "cell_type": "markdown",
   "metadata": {},
   "source": [
    "## 문제 1-2 답"
   ]
  },
  {
   "cell_type": "code",
   "execution_count": 203,
   "metadata": {},
   "outputs": [
    {
     "name": "stdout",
     "output_type": "stream",
     "text": [
      "-Before\n",
      "\t- coinbase balance in Wei: 24999915999999939394 ether: 24.999915999999939394\n",
      "\t- account1 balance in Wei: 100000084000000060606 ether: 100.000084000000060606\n",
      "\t- transaction count: 25\n",
      "null\n"
     ]
    }
   ],
   "source": [
    "!geth --exec \"loadScript('src/midterm01-2.js')\" attach http://localhost:8446"
   ]
  },
  {
   "cell_type": "markdown",
   "metadata": {},
   "source": [
    "## 문제 1-3 답"
   ]
  },
  {
   "cell_type": "code",
   "execution_count": 204,
   "metadata": {},
   "outputs": [
    {
     "name": "stdout",
     "output_type": "stream",
     "text": [
      "...mining start 0x6db5ce1896fa8319329315cd4e6b8065047d6c395c421e0eafd34afc1291c702\n",
      "mining done...\n",
      "null\n"
     ]
    }
   ],
   "source": [
    "!geth --exec \"loadScript('src/midterm01-3.js')\" attach http://localhost:8446"
   ]
  },
  {
   "cell_type": "markdown",
   "metadata": {},
   "source": [
    "## 문제 1-4 답\n",
    "gas used 못구함"
   ]
  },
  {
   "cell_type": "code",
   "execution_count": 205,
   "metadata": {},
   "outputs": [
    {
     "name": "stdout",
     "output_type": "stream",
     "text": [
      "-After\n",
      "\t- ether: 29.999915999999929293\n",
      "\t- ether: 100.000084000000070707increased by 10101\n",
      "\t- transaction count: 26increased by 1\n",
      "- gas used: __ won (1 ether = 2500000): __\n",
      "null\n"
     ]
    }
   ],
   "source": [
    "!geth --exec \"loadScript('src/midterm01-4.js')\" attach http://localhost:8446"
   ]
  },
  {
   "cell_type": "markdown",
   "metadata": {},
   "source": [
    "# 문제 2"
   ]
  },
  {
   "cell_type": "code",
   "execution_count": 144,
   "metadata": {},
   "outputs": [
    {
     "name": "stdout",
     "output_type": "stream",
     "text": [
      "Overwriting src/Math.sol\n"
     ]
    }
   ],
   "source": [
    "%%writefile src/Math.sol\n",
    "pragma solidity ^0.6.0;\n",
    "\n",
    "contract Math {\n",
    "    function powerOf2(uint input) public pure returns (uint){\n",
    "        return 2**input;\n",
    "    }\n",
    "}"
   ]
  },
  {
   "cell_type": "code",
   "execution_count": 151,
   "metadata": {},
   "outputs": [
    {
     "name": "stdout",
     "output_type": "stream",
     "text": [
      "Overwriting src/mathDeploy.js\n"
     ]
    }
   ],
   "source": [
    "%%writefile src/mathDeploy.js\n",
    "\n",
    "var Web3=require('web3');\n",
    "var web3 = new Web3(new Web3.providers.HttpProvider(\"http://localhost:8345\"));\n",
    "\n",
    "var _abiArray=[{\"inputs\":[{\"internalType\":\"uint256\",\"name\":\"input\",\"type\":\"uint256\"}],\"name\":\"powerOf2\",\"outputs\":[{\"internalType\":\"uint256\",\"name\":\"\",\"type\":\"uint256\"}],\"stateMutability\":\"pure\",\"type\":\"function\"}];\n",
    "var _bin=\"6080604052348015600f57600080fd5b5060af8061001e6000396000f3fe6080604052348015600f57600080fd5b506004361060285760003560e01c8063bdacc0cf14602d575b600080fd5b605660048036036020811015604157600080fd5b8101908080359060200190929190505050606c565b6040518082815260200191505060405180910390f35b60008160020a905091905056fea26469706673582212203c57dcb25372bc6830ec4f8d5a31b8f895857085bb330dde0f10b6e6e36efff364736f6c63430006040033\";\n",
    "var _contract = new web3.eth.Contract(_abiArray);\n",
    "\n",
    "_contract\n",
    "    .deploy({data:\"0x\"+_bin})\n",
    "    .send({from: \"0xbaCA39ac31BD3049f82AD30Ea8CbB364e1dAd268\", gas: 364124, gasPrice: '1000000000'})\n",
    "    .then(function(newContractInstance){\n",
    "        console.log(newContractInstance.options.address)\n",
    "    });"
   ]
  },
  {
   "cell_type": "code",
   "execution_count": 154,
   "metadata": {},
   "outputs": [
    {
     "name": "stdout",
     "output_type": "stream",
     "text": [
      "Overwriting src/mathUse.js\n"
     ]
    }
   ],
   "source": [
    "%%writefile src/mathUse.js\n",
    "var Web3=require('web3');\n",
    "var web3 = new Web3(new Web3.providers.HttpProvider(\"http://localhost:8345\"));\n",
    "\n",
    "var abi =[{\"inputs\":[{\"internalType\":\"uint256\",\"name\":\"input\",\"type\":\"uint256\"}],\"name\":\"powerOf2\",\"outputs\":[{\"internalType\":\"uint256\",\"name\":\"\",\"type\":\"uint256\"}],\"stateMutability\":\"pure\",\"type\":\"function\"}];\n",
    "var addr = \"0x91F6FC6A1A06a0C645Bd1bB836683CeE00d7C61D\";\n",
    "var math = new web3.eth.Contract(abi,addr);\n",
    "\n",
    "math.methods.powerOf2(8).call().then(function(value){ console.log(\"input: 8, output: \" + value)});\n",
    "math.methods.powerOf2(32).call().then(function(value){ console.log(\"input: 32, output: \" + value)});"
   ]
  },
  {
   "cell_type": "markdown",
   "metadata": {},
   "source": [
    "## 문제 2-1 답"
   ]
  },
  {
   "cell_type": "code",
   "execution_count": 150,
   "metadata": {
    "scrolled": true
   },
   "outputs": [
    {
     "name": "stdout",
     "output_type": "stream",
     "text": [
      "\n",
      "======= src/Math.sol:Math =======\n",
      "Gas estimation:\n",
      "construction:\n",
      "   87 + 35000 = 35087\n",
      "external:\n",
      "   powerOf2(uint256):\t1891\n",
      "Binary:\n",
      "6080604052348015600f57600080fd5b5060af8061001e6000396000f3fe6080604052348015600f57600080fd5b506004361060285760003560e01c8063bdacc0cf14602d575b600080fd5b605660048036036020811015604157600080fd5b8101908080359060200190929190505050606c565b6040518082815260200191505060405180910390f35b60008160020a905091905056fea26469706673582212203c57dcb25372bc6830ec4f8d5a31b8f895857085bb330dde0f10b6e6e36efff364736f6c63430006040033\n",
      "Contract JSON ABI\n",
      "[{\"inputs\":[{\"internalType\":\"uint256\",\"name\":\"input\",\"type\":\"uint256\"}],\"name\":\"powerOf2\",\"outputs\":[{\"internalType\":\"uint256\",\"name\":\"\",\"type\":\"uint256\"}],\"stateMutability\":\"pure\",\"type\":\"function\"}]\n"
     ]
    }
   ],
   "source": [
    "!solc --abi --bin --gas src/Math.sol"
   ]
  },
  {
   "cell_type": "markdown",
   "metadata": {},
   "source": [
    "## 문제 2-2 답"
   ]
  },
  {
   "cell_type": "code",
   "execution_count": 153,
   "metadata": {},
   "outputs": [
    {
     "name": "stdout",
     "output_type": "stream",
     "text": [
      "0x91F6FC6A1A06a0C645Bd1bB836683CeE00d7C61D\n"
     ]
    }
   ],
   "source": [
    "!node src/mathDeploy.js"
   ]
  },
  {
   "cell_type": "markdown",
   "metadata": {},
   "source": [
    "## 문제 2-3 답"
   ]
  },
  {
   "cell_type": "code",
   "execution_count": 155,
   "metadata": {},
   "outputs": [
    {
     "name": "stdout",
     "output_type": "stream",
     "text": [
      "input: 8, output: 256\n",
      "input: 32, output: 4294967296\n"
     ]
    }
   ],
   "source": [
    "!node src/mathUse.js"
   ]
  },
  {
   "cell_type": "markdown",
   "metadata": {},
   "source": [
    "## 문제 2-4 답 (웹페이지 결과 별도 첨부)"
   ]
  },
  {
   "cell_type": "code",
   "execution_count": 104,
   "metadata": {},
   "outputs": [
    {
     "name": "stdout",
     "output_type": "stream",
     "text": [
      "Writing scripts/Math.html\n"
     ]
    }
   ],
   "source": [
    "%%writefile scripts/Math.html\n",
    "\n",
    "<!doctype>\n",
    "<html>\n",
    "    <head>\n",
    "        <script src=\"https://cdn.jsdelivr.net/npm/web3@1.2.5/dist/web3.min.js\"></script> \n",
    "        \n",
    "        <script type=\"text/javascript\">\n",
    "\n",
    "            var web3 = new Web3(new Web3.providers.HttpProvider(\"http://localhost:8345\"));\n",
    "            \n",
    "            var abi =[{\"inputs\":[{\"internalType\":\"uint256\",\"name\":\"input\",\"type\":\"uint256\"}],\"name\":\"powerOf2\",\"outputs\":[{\"internalType\":\"uint256\",\"name\":\"\",\"type\":\"uint256\"}],\"stateMutability\":\"pure\",\"type\":\"function\"}];\n",
    "            var addr = \"0xF29Ce19a5Fc83Dd17f4238B833256bF8fE17FdA7\";\n",
    "            \n",
    "            var power = new web3.eth.Contract(abi,addr);\n",
    "            \n",
    "            function displayPowerOf2() {\n",
    "                \n",
    "                power.methods.powerOf2(32).call().then(function(value){\n",
    "                    document.getElementById('result').innerText = 'input:32, output: ' + value;\n",
    "                });\n",
    "            }\n",
    "        </script>\n",
    "    </head>\n",
    "    <body>\n",
    "        <h1>Math.html</h1>\n",
    "        <button type=\"button\" onClick=\"displayPowerOf2();\">Display powerOf2</button>\n",
    "        <div id=\"result\"></div>\n",
    "    </body>\n",
    "</html>"
   ]
  },
  {
   "cell_type": "markdown",
   "metadata": {},
   "source": [
    "## 문제 2-5 답"
   ]
  },
  {
   "cell_type": "code",
   "execution_count": 156,
   "metadata": {},
   "outputs": [],
   "source": [
    "!solc --optimize --combined-json abi src/Math.sol > src/MathABI.json"
   ]
  },
  {
   "cell_type": "code",
   "execution_count": 158,
   "metadata": {},
   "outputs": [],
   "source": [
    "!solc --optimize --combined-json bin src/Math.sol > src/MathBIN.json"
   ]
  },
  {
   "cell_type": "code",
   "execution_count": 160,
   "metadata": {},
   "outputs": [
    {
     "name": "stdout",
     "output_type": "stream",
     "text": [
      "Overwriting src/MathDeployAbiBinFromFile.js\n"
     ]
    }
   ],
   "source": [
    "%%writefile src/MathDeployAbiBinFromFile.js\n",
    "var Web3=require('web3');\n",
    "var _abiJson = require('./MathABI.json');\n",
    "var _binJson = require('./MathBIN.json');\n",
    "\n",
    "var web3 = new Web3(new Web3.providers.HttpProvider(\"http://localhost:8345\"));\n",
    "\n",
    "contractName=Object.keys(_abiJson.contracts);\n",
    "_abiArray=JSON.parse(_abiJson.contracts[contractName].abi);\n",
    "_bin=_binJson.contracts[contractName].bin;\n",
    "\n",
    "var _contract = new web3.eth.Contract(_abiArray);\n",
    "\n",
    "_contract\n",
    "    .deploy({data:\"0x\"+_bin})\n",
    "    .send({from: \"0xbaCA39ac31BD3049f82AD30Ea8CbB364e1dAd268\", gas: 364124, gasPrice: '1000000000'})\n",
    "    .then(function(newContractInstance){\n",
    "        console.log(\"Contract Address: \"+ newContractInstance.options.address)\n",
    "    });"
   ]
  },
  {
   "cell_type": "code",
   "execution_count": 161,
   "metadata": {},
   "outputs": [
    {
     "name": "stdout",
     "output_type": "stream",
     "text": [
      "Contract Address: 0x7d1049438f13901Eb73DddE1b32F6D10f1b04D09\n"
     ]
    }
   ],
   "source": [
    "!node src/MathDeployAbiBinFromFile.js"
   ]
  },
  {
   "cell_type": "code",
   "execution_count": 162,
   "metadata": {},
   "outputs": [
    {
     "name": "stdout",
     "output_type": "stream",
     "text": [
      "Overwriting src/mathUseReadJson.js\n"
     ]
    }
   ],
   "source": [
    "%%writefile src/mathUseReadJson.js\n",
    "var Web3=require('web3');\n",
    "var web3 = new Web3(new Web3.providers.HttpProvider(\"http://localhost:8345\"));\n",
    "var _abiJson = require('./MathABI.json');\n",
    "\n",
    "contractName=Object.keys(_abiJson.contracts);\n",
    "var abi = JSON.parse(_abiJson.contracts[contractName].abi);\n",
    "var addr = \"0x7d1049438f13901Eb73DddE1b32F6D10f1b04D09\";\n",
    "var math = new web3.eth.Contract(abi,addr);\n",
    "\n",
    "math.methods.powerOf2(8).call().then(function(value){ console.log(\"input: 8, output: \" + value)});\n",
    "math.methods.powerOf2(32).call().then(function(value){ console.log(\"input: 32, output: \" + value)});"
   ]
  },
  {
   "cell_type": "code",
   "execution_count": 163,
   "metadata": {},
   "outputs": [
    {
     "name": "stdout",
     "output_type": "stream",
     "text": [
      "input: 8, output: 256\n",
      "input: 32, output: 4294967296\n"
     ]
    }
   ],
   "source": [
    "!node src/mathUseReadJson.js"
   ]
  },
  {
   "cell_type": "markdown",
   "metadata": {},
   "source": [
    "## 문제 2-6 답 (풀지못함)"
   ]
  },
  {
   "cell_type": "code",
   "execution_count": 164,
   "metadata": {},
   "outputs": [],
   "source": [
    "!echo \"var _compiled=`solc --optimize --combined-json abi,bin,interface src/Math.sol`\" > src/MathGeth.js"
   ]
  },
  {
   "cell_type": "code",
   "execution_count": 165,
   "metadata": {},
   "outputs": [],
   "source": [
    "!echo | set /p=\"var _compiled=\" > src\\MathGeth.js\n",
    "!solc --optimize --combined-json abi,bin,interface src/Math.sol >> src\\MathGeth.js"
   ]
  },
  {
   "cell_type": "code",
   "execution_count": 191,
   "metadata": {},
   "outputs": [
    {
     "name": "stdout",
     "output_type": "stream",
     "text": [
      "Overwriting src/MathDeployGeth.js\n"
     ]
    }
   ],
   "source": [
    "%%writefile src/MathDeployGeth.js\n",
    "\n",
    "var primary = eth.accounts[0];\n",
    "loadScript('src/MathGeth.js')\n",
    "\n",
    "\n",
    "contractName=Object.keys(_compiled.contracts)\n",
    "_abi=JSON.parse(_compiled.contracts[contractName[0]].abi)\n",
    "_code=_compiled.contracts[contractName[0]].bin\n",
    "\n",
    "_class=eth.contract(_abi);\n",
    "\n",
    "_object=_class.new({from:primary,data:'0x'+_code,gas:1000000}, function(err, contract) {\n",
    "    console.log(\"transactionHash: \", contract.transactionHash);\n",
    "});"
   ]
  },
  {
   "cell_type": "code",
   "execution_count": 192,
   "metadata": {
    "scrolled": true
   },
   "outputs": [
    {
     "name": "stdout",
     "output_type": "stream",
     "text": [
      "{\n",
      "  abi: [{\n",
      "      inputs: [{...}],\n",
      "      name: \"powerOf2\",\n",
      "      outputs: [{...}],\n",
      "      stateMutability: \"pure\",\n",
      "      type: \"function\"\n",
      "  }],\n",
      "  address: undefined,\n",
      "  transactionHash: null\n",
      "}\n"
     ]
    }
   ],
   "source": [
    "!geth --exec \"loadScript('src/MathDeployGeth.js')\" attach http://localhost:8446"
   ]
  }
 ],
 "metadata": {
  "kernelspec": {
   "display_name": "Python 3",
   "language": "python",
   "name": "python3"
  },
  "language_info": {
   "codemirror_mode": {
    "name": "ipython",
    "version": 3
   },
   "file_extension": ".py",
   "mimetype": "text/x-python",
   "name": "python",
   "nbconvert_exporter": "python",
   "pygments_lexer": "ipython3",
   "version": "3.6.6"
  }
 },
 "nbformat": 4,
 "nbformat_minor": 4
}
