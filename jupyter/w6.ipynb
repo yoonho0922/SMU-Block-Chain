{
 "cells": [
  {
   "cell_type": "code",
   "execution_count": 1,
   "metadata": {},
   "outputs": [
    {
     "name": "stdout",
     "output_type": "stream",
     "text": [
      "Writing _ganacheNow.bat\n"
     ]
    }
   ],
   "source": [
    "%%writefile _ganacheNow.bat\n",
    "node_modules\\.bin\\ganache-cli --unlock 0 --host \"localhost\" --port \"8345\""
   ]
  },
  {
   "cell_type": "code",
   "execution_count": 4,
   "metadata": {},
   "outputs": [
    {
     "name": "stdout",
     "output_type": "stream",
     "text": [
      "Overwriting src/web3ethCommands.js\n"
     ]
    }
   ],
   "source": [
    "%%writefile src/web3ethCommands.js\n",
    "var Web3 = require('web3');\n",
    "var web3 = new Web3('http://localhost:8345');\n",
    "\n",
    "web3.eth.getCoinbase().then(console.log);\n",
    "//web3.eth.getChainId().then(console.log);\n",
    "web3.eth.getAccounts(console.log);\n",
    "web3.eth.getCoinbase().then(console.log);\n",
    "web3.eth.getBlockNumber().then(console.log);\n",
    "web3.eth.getBalance('0x35381C3cf07BbFE985E7A2d92cDb55455716e7Ee').then(console.log);\n",
    "web3.eth.getNodeInfo().then(console.log);"
   ]
  },
  {
   "cell_type": "code",
   "execution_count": 5,
   "metadata": {},
   "outputs": [
    {
     "name": "stdout",
     "output_type": "stream",
     "text": [
      "0x35381c3cf07bbfe985e7a2d92cdb55455716e7ee\n",
      "null [\n",
      "  '0x35381C3cf07BbFE985E7A2d92cDb55455716e7Ee',\n",
      "  '0xb00aBAA8700Ef84701676E4Fc7778a056299C438',\n",
      "  '0xfD044717d2Ab1219b970E25DA469a516e1944d43',\n",
      "  '0x0aB5Ff868C2cB43C27BE40Af020e0b07A6055290',\n",
      "  '0xdc592D2B89F45DE8db79251dc660B42662AC8b29',\n",
      "  '0xf5Fff4345b08E997A1b124f871C7344A4bA38F13',\n",
      "  '0xAf9aD01D601Fb057983DC132Da581FE0A66c7750',\n",
      "  '0xa5ADb8D6B6A89B25Ee73c3Aca406893963c808b4',\n",
      "  '0x40882322CC7B1b3C1626DA68cDFA58bdEB6061e7',\n",
      "  '0x1e682b70f9483fa35e983212a4e6b0B531D3140f'\n",
      "]\n",
      "0x35381c3cf07bbfe985e7a2d92cdb55455716e7ee\n",
      "0\n",
      "100000000000000000000\n",
      "EthereumJS TestRPC/v2.13.2/ethereum-js\n"
     ]
    },
    {
     "name": "stderr",
     "output_type": "stream",
     "text": [
      "web3-shh package will be deprecated in version 1.3.5 and will no longer be supported.\n",
      "web3-bzz package will be deprecated in version 1.3.5 and will no longer be supported.\n"
     ]
    }
   ],
   "source": [
    "!node src/web3ethCommands.js"
   ]
  },
  {
   "cell_type": "code",
   "execution_count": 3,
   "metadata": {},
   "outputs": [
    {
     "name": "stdout",
     "output_type": "stream",
     "text": [
      "Overwriting src/web3accounts.js\n"
     ]
    }
   ],
   "source": [
    "%%writefile src/web3accounts.js\n",
    "var Web3 = require('web3');\n",
    "var web3 = new Web3('http://localhost:8345');\n",
    "\n",
    "web3.eth.getAccounts(function(err,res) { console.log(\"accounts: \" + res); } );\n",
    "my=[]\n",
    "web3.eth.getAccounts(function(err, res) { for (x in res) { my.push(res[x]) } } );\n",
    "console.log(\"accounts from array: \" + my[0]);"
   ]
  },
  {
   "cell_type": "code",
   "execution_count": 4,
   "metadata": {},
   "outputs": [
    {
     "name": "stdout",
     "output_type": "stream",
     "text": [
      "accounts from array: undefined\n",
      "accounts: 0xC70D29F8Efb8342193F67B51FDbFb92fB8FDd03a,0x60F057388082955fa9Bdf626DFa7306cF872fa8A,0xb1b7e24852aB9637411925A51F0cfE38b2e898e3,0x6d22F70A609d6f04A783B84831fE60804C415343,0xEe70a94A8944CD8a24d19A9c07aDC688fc422891,0x09a5C9d57fF6b2782Cf2c7E6983164916A47b650,0x487a316798177cA70E79E7aD4607622074Cd47C9,0x5b73cB17327Af2B597de0E581f437F2fd86bD29F,0x08c8393cfaD8b426FDb98B3604a5b16692F0d552,0x104E00832B9016d417e3925bE63507F4461484Ef\n"
     ]
    }
   ],
   "source": [
    "!node src/web3accounts.js"
   ]
  },
  {
   "cell_type": "code",
   "execution_count": 10,
   "metadata": {},
   "outputs": [
    {
     "name": "stdout",
     "output_type": "stream",
     "text": [
      "Writing src/web3utils.js\n"
     ]
    }
   ],
   "source": [
    "%%writefile src/web3utils.js\n",
    "var Web3 = require('web3');\n",
    "var web3 = new Web3('http://localhost:8345');\n",
    "console.log(web3.utils.randomHex(32));    //generate random 32 byte hex\n",
    "console.log(web3.utils.keccak256('234'));  //calculate keccak256 for '234'\n",
    "console.log(web3.utils.isAddress('0x35381C3cf07BbFE985E7A2d92cDb55455716e7Ee'));  //check if the input is a valid address\n",
    "console.log(web3.utils.utf8ToHex('안녕'));\n",
    "console.log(web3.utils.toWei('1', 'ether'));"
   ]
  },
  {
   "cell_type": "code",
   "execution_count": 12,
   "metadata": {},
   "outputs": [
    {
     "name": "stdout",
     "output_type": "stream",
     "text": [
      "0xa817c671bbb333a0e50cea04108b6b8aa621387c58730f000805c33fdfbb4013\n",
      "0xc1912fee45d61c87cc5ea59dae311904cd86b84fee17cc96966216f811ce6a79\n",
      "true\n",
      "0xec9588eb8595\n",
      "1000000000000000000\n"
     ]
    },
    {
     "name": "stderr",
     "output_type": "stream",
     "text": [
      "web3-shh package will be deprecated in version 1.3.5 and will no longer be supported.\n",
      "web3-bzz package will be deprecated in version 1.3.5 and will no longer be supported.\n"
     ]
    }
   ],
   "source": [
    "!node src/web3utils.js"
   ]
  },
  {
   "cell_type": "code",
   "execution_count": null,
   "metadata": {},
   "outputs": [],
   "source": []
  }
 ],
 "metadata": {
  "kernelspec": {
   "display_name": "Python 3",
   "language": "python",
   "name": "python3"
  },
  "language_info": {
   "codemirror_mode": {
    "name": "ipython",
    "version": 3
   },
   "file_extension": ".py",
   "mimetype": "text/x-python",
   "name": "python",
   "nbconvert_exporter": "python",
   "pygments_lexer": "ipython3",
   "version": "3.6.6"
  }
 },
 "nbformat": 4,
 "nbformat_minor": 4
}
