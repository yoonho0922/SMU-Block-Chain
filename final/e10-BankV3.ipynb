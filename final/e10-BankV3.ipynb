{
 "cells": [
  {
   "cell_type": "code",
   "execution_count": 35,
   "metadata": {},
   "outputs": [
    {
     "name": "stdout",
     "output_type": "stream",
     "text": [
      "Overwriting ../src/BankV3.sol\n"
     ]
    }
   ],
   "source": [
    "%%writefile ../src/BankV3.sol\n",
    "pragma solidity ^0.6.0;\n",
    "\n",
    "contract BankV3 {\n",
    "    address owner;\n",
    "    uint balance;\n",
    "    uint256 timeToDeposit;\n",
    "    \n",
    "    event PrintLog(string);\n",
    "    event Sent(address from, address to, uint amount );\n",
    "    constructor() public {\n",
    "        owner = msg.sender;\n",
    "        balance = 0;\n",
    "    }\n",
    "\n",
    "    function forwardTo(address payable _receiver) public payable onlyOwner {\n",
    "        //require(msg.sender == owner);\n",
    "        _receiver.transfer(msg.value);\n",
    "        emit Sent(msg.sender, _receiver, msg.value);\n",
    "    }\n",
    "    function getBalance() public view returns(uint, uint) {\n",
    "        return (balance, address(this).balance);\n",
    "    }\n",
    "    function deposit(uint amount) public payable onlyAfter {\n",
    "        timeToDeposit = now + 10 seconds;\n",
    "        require(msg.value == amount);\n",
    "        balance += amount;\n",
    "    }\n",
    "    function withdrawAll() public onlyOwner minBalance {\n",
    "        balance -= address(this).balance;\n",
    "        //require(msg.sender == owner);\n",
    "        msg.sender.transfer(address(this).balance);\n",
    "    }\n",
    "    modifier onlyOwner {\n",
    "        require(msg.sender == owner);\n",
    "        _;\n",
    "    }\n",
    "    modifier onlyAfter {\n",
    "        require(now >= timeToDeposit);\n",
    "        _;\n",
    "    }\n",
    "    modifier minBalance {\n",
    "        require(address(this).balance>101 wei);\n",
    "        _;\n",
    "    }\n",
    "}"
   ]
  },
  {
   "cell_type": "code",
   "execution_count": 36,
   "metadata": {},
   "outputs": [],
   "source": [
    "!solc ../src/BankV3.sol --combined-json abi > ..\\src\\BankV3ABI.json"
   ]
  },
  {
   "cell_type": "code",
   "execution_count": 37,
   "metadata": {},
   "outputs": [],
   "source": [
    "!solc ../src/BankV3.sol --combined-json bin > ..\\src\\BankV3BIN.json"
   ]
  },
  {
   "cell_type": "code",
   "execution_count": 38,
   "metadata": {},
   "outputs": [
    {
     "name": "stdout",
     "output_type": "stream",
     "text": [
      "Overwriting ../src/BankV3Deploy.js\n"
     ]
    }
   ],
   "source": [
    "%%writefile ../src/BankV3Deploy.js\n",
    "var Web3=require('web3');\n",
    "var _abiJson = require('./BankV3ABI.json');\n",
    "var _binJson = require('./BankV3BIN.json');\n",
    "\n",
    "var web3;\n",
    "web3 = new Web3(new Web3.providers.HttpProvider(\"http://localhost:8345\"));\n",
    "\n",
    "\n",
    "contractName=Object.keys(_abiJson.contracts); \n",
    "console.log(\"- contract name: \", contractName[0]);\n",
    "_abiArray=JSON.parse(_abiJson.contracts[contractName].abi);\n",
    "_bin=_binJson.contracts[contractName].bin;\n",
    "\n",
    "async function deploy() {\n",
    "    const accounts = await web3.eth.getAccounts();\n",
    "    console.log(\"Deploying the contract from \" + accounts[0]);\n",
    "    var deployed = await new web3.eth.Contract(_abiArray)\n",
    "        .deploy({data: _bin})\n",
    "        .send({from: accounts[0], gas: 364124, gasPrice: '1000000000'}, function(err, transactionHash) {\n",
    "                if(!err) console.log(\"hash: \" + transactionHash); \n",
    "        })\n",
    "    console.log(\"---> The contract deployed to: \" + deployed.options.address)\n",
    "}\n",
    "deploy()"
   ]
  },
  {
   "cell_type": "code",
   "execution_count": 39,
   "metadata": {},
   "outputs": [
    {
     "name": "stdout",
     "output_type": "stream",
     "text": [
      "- contract name:  ../src/BankV3.sol:BankV3\n",
      "Deploying the contract from 0x6d21d579193C480f321F69c581A2a91E41BAe32D\n",
      "hash: 0x3d4e327c65f05b671917d9b8b380955597218550d21715321ef4be6d170a9551\n",
      "---> The contract deployed to: 0xeFbcE6949851E5c4F68DE5027006c144852a898C\n"
     ]
    }
   ],
   "source": [
    "!node ../src/BankV3Deploy.js"
   ]
  },
  {
   "cell_type": "code",
   "execution_count": 44,
   "metadata": {},
   "outputs": [
    {
     "name": "stdout",
     "output_type": "stream",
     "text": [
      "Overwriting ../src/BankV3Use.js\n"
     ]
    }
   ],
   "source": [
    "%%writefile ../src/BankV3Use.js\n",
    "var Web3=require('web3');\n",
    "var _abiJson = require('./BankV3ABI.json');\n",
    "var _binJson = require('./BankV3BIN.json');\n",
    "\n",
    "\n",
    "var web3;\n",
    "var web3 = new Web3(new Web3.providers.HttpProvider(\"http://localhost:8345\"));\n",
    "contractName=Object.keys(_abiJson.contracts); \n",
    "console.log(\"- contract name: \", contractName[0]); \n",
    "_abiArray=JSON.parse(_abiJson.contracts[contractName].abi);\n",
    "\n",
    "var _bank = new web3.eth.Contract(_abiArray, '0xeFbcE6949851E5c4F68DE5027006c144852a898C');\n",
    "\n",
    "async function doIt() {\n",
    "    const accounts = await web3.eth.getAccounts();\n",
    "\n",
    "    const balanceBefore = await web3.eth.getBalance(accounts[0]);\n",
    "    console.log(\"Balance before: \" + balanceBefore);\n",
    "    \n",
    "    _bank.methods.getBalance().call().then(console.log);\n",
    "    \n",
    "    await _bank.methods.deposit(111).send({from: accounts[0], value:111});\n",
    "    _bank.methods.getBalance().call().then(console.log);\n",
    "    \n",
    "    await _bank.methods.withdrawAll().send({from: accounts[0]});    //greater than 101\n",
    "    _bank.methods.getBalance().call().then(console.log);\n",
    "    \n",
    "    const balanceAfter = await web3.eth.getBalance(accounts[0]);\n",
    "    console.log(\"Balance after: \" + balanceAfter);\n",
    "    console.log(\"Balance diff: \" + (balanceBefore - balanceAfter));\n",
    "    \n",
    "\n",
    "    \n",
    "}\n",
    "doIt()"
   ]
  },
  {
   "cell_type": "code",
   "execution_count": 45,
   "metadata": {},
   "outputs": [
    {
     "name": "stdout",
     "output_type": "stream",
     "text": [
      "- contract name:  ../src/BankV3.sol:BankV3\n",
      "Balance before: 99998930688000000000\n",
      "Result { '0': '0', '1': '0' }\n",
      "Result { '0': '111', '1': '111' }\n",
      "Result { '0': '0', '1': '0' }\n",
      "Balance after: 99997258368000000000\n",
      "Balance diff: 1672320000000000\n"
     ]
    }
   ],
   "source": [
    "!node ../src/BankV3Use.js"
   ]
  }
 ],
 "metadata": {
  "kernelspec": {
   "display_name": "Python 3",
   "language": "python",
   "name": "python3"
  },
  "language_info": {
   "codemirror_mode": {
    "name": "ipython",
    "version": 3
   },
   "file_extension": ".py",
   "mimetype": "text/x-python",
   "name": "python",
   "nbconvert_exporter": "python",
   "pygments_lexer": "ipython3",
   "version": "3.6.6"
  }
 },
 "nbformat": 4,
 "nbformat_minor": 4
}
