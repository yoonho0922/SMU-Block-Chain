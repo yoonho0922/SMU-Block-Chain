{
 "cells": [
  {
   "cell_type": "markdown",
   "metadata": {},
   "source": [
    "# 201910812 안윤호"
   ]
  },
  {
   "cell_type": "code",
   "execution_count": 141,
   "metadata": {},
   "outputs": [
    {
     "name": "stdout",
     "output_type": "stream",
     "text": [
      "Overwriting ../src/CusOrder.sol\n"
     ]
    }
   ],
   "source": [
    "%%writefile ../src/CusOrder.sol\n",
    "pragma solidity ^0.6.0;\n",
    "\n",
    "contract Customer {\n",
    "    uint id;\n",
    "    string name;\n",
    "    string ph;\n",
    "    string home;\n",
    "    \n",
    "    mapping(address => uint256) public balanceOf;\n",
    "    mapping(string => address) playersAddr;\n",
    "    \n",
    "    function addCustomer(uint _id, string memory _name, string memory _ph, string memory _home)  public payable {\n",
    "        id=_id;\n",
    "        name=_name;\n",
    "        ph=_ph;\n",
    "        home=_home;\n",
    "    }\n",
    "    \n",
    "    function getHomeAddress() public view returns(string memory) {\n",
    "        return home;\n",
    "    }\n",
    "    \n",
    "    function getId() view public returns(uint) {\n",
    "        return id;\n",
    "    }\n",
    "}\n",
    "\n",
    "\n",
    "contract Order {\n",
    "    \n",
    "    mapping(uint=>Customer) customerById;\n",
    "    \n",
    "    struct OrderStruct{\n",
    "        uint id;\n",
    "        string p;\n",
    "        uint n;\n",
    "        uint amount;\n",
    "        \n",
    "        uint time;\n",
    "        string status;\n",
    "        string shipping;\n",
    "    }\n",
    "    uint orderLen = 0;\n",
    "    uint totalAmount = 0;\n",
    "    \n",
    "    mapping(address=>OrderStruct) orderMap;\n",
    "    mapping(uint=>address) addressById;\n",
    "    mapping(address=>string) homeByAddr;\n",
    "    \n",
    "    address payable owner;\n",
    "    constructor() public {\n",
    "        owner = msg.sender;\n",
    "    }\n",
    "    \n",
    "    \n",
    "    function placeOrder(uint _id, string memory _p, uint _n, uint _amount) public payable{\n",
    "        \n",
    "        string memory  home = getHomeAddress();\n",
    "        OrderStruct memory o=OrderStruct(_id, _p, _n, _amount, now, \"Orderd\", home);\n",
    "        \n",
    "        orderMap[tx.origin] = o;\n",
    "        addressById[_id] = tx.origin;\n",
    "        orderLen += 1;\n",
    "        totalAmount += _amount;\n",
    "    }\n",
    "    \n",
    "    function addCustomer(uint _id, string memory _name, string memory _ph, string memory _home) public payable{\n",
    "        Customer cus = new Customer();\n",
    "        cus.addCustomer(_id, _name, _ph, _home);\n",
    "        \n",
    "        customerById[_id]=cus;\n",
    "        homeByAddr[tx.origin] = _home;\n",
    "    }\n",
    "    \n",
    "\n",
    "    function getHomeAddress() public view returns(string memory){\n",
    "        string memory home = homeByAddr[tx.origin];\n",
    "        return home;\n",
    "    }\n",
    "    \n",
    "    function getStatus() public view returns(string memory){\n",
    "        return orderMap[tx.origin].status;\n",
    "    }\n",
    "    \n",
    "    function updateStatus(uint _id, string memory _s) public isOwner {\n",
    "        orderMap[addressById[_id]].status = _s;\n",
    "    }\n",
    "    \n",
    "    function getOrderItem() public view returns(uint, string memory, string memory, string memory){\n",
    "        return (orderMap[tx.origin].id, orderMap[tx.origin].p, orderMap[tx.origin].status, orderMap[tx.origin].shipping);\n",
    "    }\n",
    "    \n",
    "    function getOrderById(uint _id)  public view returns(uint, string memory, string memory, string memory){\n",
    "        OrderStruct memory o = orderMap[addressById[_id]];\n",
    "        return (o.id, o.p, o.status, o.shipping);\n",
    "    }\n",
    "    \n",
    "    function getNOrder() public view returns(uint){\n",
    "        return orderLen;\n",
    "    }\n",
    "    \n",
    "    function getTotalOrderAmount() public view returns(uint){\n",
    "        return totalAmount;\n",
    "    }\n",
    "    \n",
    "    function queryBalance()  view public returns(uint){\n",
    "        return address(this).balance;\n",
    "    }\n",
    "    \n",
    "    modifier isOwner{\n",
    "        require(msg.sender == owner);\n",
    "        _;\n",
    "    }\n",
    "        \n",
    "    // }\n",
    "}"
   ]
  },
  {
   "cell_type": "code",
   "execution_count": 142,
   "metadata": {},
   "outputs": [],
   "source": [
    "!solc ../src/CusOrder.sol --combined-json abi > ..\\src\\CusOrderABI.json"
   ]
  },
  {
   "cell_type": "code",
   "execution_count": 143,
   "metadata": {},
   "outputs": [],
   "source": [
    "!solc ../src/CusOrder.sol --combined-json bin > ..\\src\\CusOrderBIN.json"
   ]
  },
  {
   "cell_type": "markdown",
   "metadata": {},
   "source": [
    "## 배포"
   ]
  },
  {
   "cell_type": "code",
   "execution_count": 144,
   "metadata": {},
   "outputs": [
    {
     "name": "stdout",
     "output_type": "stream",
     "text": [
      "Overwriting ../src/CusOrderDeploy.js\n"
     ]
    }
   ],
   "source": [
    "%%writefile ../src/CusOrderDeploy.js\n",
    "var Web3=require('web3');\n",
    "var _abiJson = require('./CusOrderABI.json');\n",
    "var _binJson = require('./CusOrderBIN.json');\n",
    "\n",
    "var web3;\n",
    "web3 = new Web3(new Web3.providers.HttpProvider(\"http://localhost:8345\"));\n",
    "\n",
    "\n",
    "contractName=Object.keys(_abiJson.contracts); \n",
    "_abiArray=JSON.parse(_abiJson.contracts[contractName[1]].abi);\n",
    "_bin=_binJson.contracts[contractName[1]].bin;\n",
    "\n",
    "async function deploy() {\n",
    "    const accounts = await web3.eth.getAccounts();\n",
    "\n",
    "    //gas check\n",
    "    new web3.eth.Contract(_abiArray).deploy({data: _bin}).estimateGas(function(err, gas) {\n",
    "        if(!err) console.log(\">> gas: \"+ gas);\n",
    "    });\n",
    "    \n",
    "    var deployed = await new web3.eth.Contract(_abiArray)\n",
    "        .deploy({data: _bin})\n",
    "        .send({from: accounts[0], gas: 1662136, gasPrice: '1000000000'}, function(err, transactionHash) {\n",
    "                if(!err) console.log(\"hash: \" + transactionHash); \n",
    "        })\n",
    "    console.log(\"---> The contract deployed to: \" + deployed.options.address)\n",
    "}\n",
    "deploy()"
   ]
  },
  {
   "cell_type": "code",
   "execution_count": 145,
   "metadata": {},
   "outputs": [
    {
     "name": "stdout",
     "output_type": "stream",
     "text": [
      ">> gas: 1660432\n",
      "hash: 0xd39cc343c5bb00888a6320250bfe2b5740fdfd1296f9ecdaf47cba5f75cef213\n",
      "---> The contract deployed to: 0xd7e54504C14e21A1fBD6FAD65a9A85AAA43130B4\n"
     ]
    }
   ],
   "source": [
    "!node ../src/CusOrderDeploy.js"
   ]
  },
  {
   "cell_type": "markdown",
   "metadata": {},
   "source": [
    "## 사용"
   ]
  },
  {
   "cell_type": "markdown",
   "metadata": {},
   "source": [
    "# 문제 3 답"
   ]
  },
  {
   "cell_type": "code",
   "execution_count": 76,
   "metadata": {},
   "outputs": [
    {
     "name": "stdout",
     "output_type": "stream",
     "text": [
      "Overwriting ../src/CusOrderUse.js\n"
     ]
    }
   ],
   "source": [
    "%%writefile ../src/CusOrderUse.js\n",
    "var Web3=require('web3');\n",
    "var _abiJson = require('./CusOrderABI.json');\n",
    "var _binJson = require('./CusOrderBIN.json');\n",
    "\n",
    "\n",
    "var web3;\n",
    "var web3 = new Web3(new Web3.providers.WebsocketProvider(\"ws://localhost:8345\"));\n",
    "contractName=Object.keys(_abiJson.contracts); \n",
    "_bin=_binJson.contracts[contractName[1]].bin;\n",
    "_abiArray=JSON.parse(_abiJson.contracts[contractName[1]].abi);\n",
    "\n",
    "var _order = new web3.eth.Contract(_abiArray, '0x7F1a224C26BA3856442300Edd79D8236bAB6dd10');\n",
    "\n",
    "async function doIt() {\n",
    "    const accounts = await web3.eth.getAccounts();\n",
    "    const balance0 = await web3.eth.getBalance(accounts[0]);\n",
    "    const balance1 = await web3.eth.getBalance(accounts[1]);\n",
    "    const balance2 = await web3.eth.getBalance(accounts[2]);\n",
    "    \n",
    "    console.log(`account0: ${accounts[0]}, balance: ${balance0}`)\n",
    "    console.log(`account1: ${accounts[0]}, balance: ${balance1}`)\n",
    "    console.log(`account2: ${accounts[0]}, balance: ${balance2}\\n`)\n",
    "    \n",
    "    new web3.eth.Contract(_abiArray).deploy({data: _bin}).estimateGas(function(err, gas) {\n",
    "        if(!err) console.log(\"gas: \"+ gas);\n",
    "    });\n",
    "    \n",
    "    // wait and exit\n",
    "    setTimeout(function() {\n",
    "      process.exit(1);\n",
    "    }, 1000);\n",
    "}\n",
    "\n",
    "doIt()"
   ]
  },
  {
   "cell_type": "code",
   "execution_count": 77,
   "metadata": {},
   "outputs": [
    {
     "name": "stdout",
     "output_type": "stream",
     "text": [
      "account0: 0x1CEc51b65ef4A8b0124581587FC9F846FC2DAF83, balance: 100000000000000000000\n",
      "account1: 0x1CEc51b65ef4A8b0124581587FC9F846FC2DAF83, balance: 100000000000000000000\n",
      "account2: 0x1CEc51b65ef4A8b0124581587FC9F846FC2DAF83, balance: 100000000000000000000\n",
      "\n",
      "gas: 1662136\n"
     ]
    }
   ],
   "source": [
    "!node ../src/CusOrderUse.js"
   ]
  },
  {
   "cell_type": "markdown",
   "metadata": {},
   "source": [
    "# 문제 4 답"
   ]
  },
  {
   "cell_type": "code",
   "execution_count": 150,
   "metadata": {},
   "outputs": [
    {
     "name": "stdout",
     "output_type": "stream",
     "text": [
      "Overwriting ../src/CusOrderUse.js\n"
     ]
    }
   ],
   "source": [
    "%%writefile ../src/CusOrderUse.js\n",
    "var Web3=require('web3');\n",
    "var _abiJson = require('./CusOrderABI.json');\n",
    "var _binJson = require('./CusOrderBIN.json');\n",
    "\n",
    "\n",
    "var web3;\n",
    "var web3 = new Web3(new Web3.providers.HttpProvider(\"http://localhost:8345\"));\n",
    "contractName=Object.keys(_abiJson.contracts); \n",
    "_bin=_binJson.contracts[contractName[1]].bin;\n",
    "_abiArray=JSON.parse(_abiJson.contracts[contractName[1]].abi);\n",
    "\n",
    "var _order = new web3.eth.Contract(_abiArray, '0xd7e54504C14e21A1fBD6FAD65a9A85AAA43130B4');\n",
    "\n",
    "async function doIt() {\n",
    "    const accounts = await web3.eth.getAccounts();\n",
    "    \n",
    "    \n",
    "    await _order.methods.addCustomer(111, \"kim\", \"010-2017-1111\", \"111 hongji-dong jongro-gu seoul\")\n",
    "    .send({from: accounts[0], gas: 300000})\n",
    "    \n",
    "    await _order.methods.addCustomer(112, \"lee\", \"010-2017-1112\", \"112 hongji-dong jongro-gu seoul\")\n",
    "    .send({from: accounts[1], gas: 300000})\n",
    "    \n",
    "    await _order.methods.addCustomer(113, \"lim\", \"010-2017-1113\", \"113 hongji-dong jongro-gu seoul\")\n",
    "    .send({from: accounts[2], gas: 300000})\n",
    "    \n",
    "    var home = await _order.methods.getHomeAddress.call({from: accounts[1]})\n",
    "    console.log(home)\n",
    "    \n",
    "    // wait and exit\n",
    "    setTimeout(function() {\n",
    "      process.exit(1);\n",
    "    }, 5000);\n",
    "}\n",
    "\n",
    "doIt()"
   ]
  },
  {
   "cell_type": "code",
   "execution_count": 152,
   "metadata": {
    "scrolled": true
   },
   "outputs": [
    {
     "name": "stderr",
     "output_type": "stream",
     "text": [
      "(node:11588) UnhandledPromiseRejectionWarning: Error: Returned error: VM Exception while processing transaction: revert\n",
      "    at Object.ErrorResponse (C:\\Users\\yoonho\\Code\\201910812\\node_modules\\web3-core-helpers\\src\\errors.js:29:16)\n",
      "    at C:\\Users\\yoonho\\Code\\201910812\\node_modules\\web3-core-requestmanager\\src\\index.js:140:36\n",
      "    at XMLHttpRequest.request.onreadystatechange (C:\\Users\\yoonho\\Code\\201910812\\node_modules\\web3-providers-http\\src\\index.js:110:13)\n",
      "    at XMLHttpRequestEventTarget.dispatchEvent (C:\\Users\\yoonho\\Code\\201910812\\node_modules\\xhr2-cookies\\dist\\xml-http-request-event-target.js:34:22)\n",
      "    at XMLHttpRequest._setReadyState (C:\\Users\\yoonho\\Code\\201910812\\node_modules\\xhr2-cookies\\dist\\xml-http-request.js:208:14)\n",
      "    at XMLHttpRequest._onHttpResponseEnd (C:\\Users\\yoonho\\Code\\201910812\\node_modules\\xhr2-cookies\\dist\\xml-http-request.js:318:14)\n",
      "    at IncomingMessage.<anonymous> (C:\\Users\\yoonho\\Code\\201910812\\node_modules\\xhr2-cookies\\dist\\xml-http-request.js:289:61)\n",
      "    at IncomingMessage.emit (events.js:327:22)\n",
      "    at endReadableNT (internal/streams/readable.js:1327:12)\n",
      "    at processTicksAndRejections (internal/process/task_queues.js:80:21)\n",
      "(Use `node --trace-warnings ...` to show where the warning was created)\n",
      "(node:11588) UnhandledPromiseRejectionWarning: Unhandled promise rejection. This error originated either by throwing inside of an async function without a catch block, or by rejecting a promise which was not handled with .catch(). To terminate the node process on unhandled promise rejection, use the CLI flag `--unhandled-rejections=strict` (see https://nodejs.org/api/cli.html#cli_unhandled_rejections_mode). (rejection id: 1)\n",
      "(node:11588) [DEP0018] DeprecationWarning: Unhandled promise rejections are deprecated. In the future, promise rejections that are not handled will terminate the Node.js process with a non-zero exit code.\n"
     ]
    }
   ],
   "source": [
    "!node ../src/CusOrderUse.js"
   ]
  },
  {
   "cell_type": "code",
   "execution_count": null,
   "metadata": {},
   "outputs": [],
   "source": []
  }
 ],
 "metadata": {
  "kernelspec": {
   "display_name": "Python 3",
   "language": "python",
   "name": "python3"
  },
  "language_info": {
   "codemirror_mode": {
    "name": "ipython",
    "version": 3
   },
   "file_extension": ".py",
   "mimetype": "text/x-python",
   "name": "python",
   "nbconvert_exporter": "python",
   "pygments_lexer": "ipython3",
   "version": "3.6.6"
  }
 },
 "nbformat": 4,
 "nbformat_minor": 4
}
