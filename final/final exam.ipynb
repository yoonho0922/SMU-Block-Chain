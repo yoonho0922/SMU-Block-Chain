{
 "cells": [
  {
   "cell_type": "code",
   "execution_count": 1,
   "metadata": {},
   "outputs": [
    {
     "name": "stdout",
     "output_type": "stream",
     "text": [
      "Writing ../src/CusOrder.sol\n"
     ]
    }
   ],
   "source": [
    "%%writefile ../src/CusOrder.sol\n",
    "pragma solidity ^0.6.0;\n",
    "\n",
    "contract Customer {\n",
    "    uint id;\n",
    "    string name;\n",
    "    string ph;\n",
    "    string home;\n",
    "    \n",
    "    mapping(address => uint256) public balanceOf;\n",
    "    mapping(string => address) playersAddr;\n",
    "    \n",
    "    function addCustomer(uint _id, string memory _name, string memory _ph, string memory _home)  public payable {\n",
    "        id=_id;\n",
    "        name=_name;\n",
    "        ph=_ph;\n",
    "        home=_home;\n",
    "    }\n",
    "    \n",
    "    function getHomeAddress() public view returns(string memory) {\n",
    "        return home;\n",
    "    }\n",
    "    \n",
    "    function getId() view public returns(uint) {\n",
    "        return id;\n",
    "    }\n",
    "}\n",
    "\n",
    "\n",
    "contract Order {\n",
    "    \n",
    "    mapping(uint=>Customer) customerById;\n",
    "    \n",
    "    struct OrderStruct{\n",
    "        uint id;\n",
    "        string p;\n",
    "        uint n;\n",
    "        uint amount;\n",
    "        \n",
    "        uint time;\n",
    "        string status;\n",
    "        string shipping;\n",
    "    }\n",
    "    uint orderLen = 0;\n",
    "    uint totalAmount = 0;\n",
    "    \n",
    "    mapping(address=>OrderStruct) orderMap;\n",
    "    mapping(uint=>address) addressById;\n",
    "    mapping(address=>string) homeByAddr;\n",
    "    \n",
    "    address payable owner;\n",
    "    constructor() public {\n",
    "        owner = msg.sender;\n",
    "    }\n",
    "    \n",
    "    \n",
    "    function placeOrder(uint _id, string memory _p, uint _n, uint _amount) public payable{\n",
    "        \n",
    "        string memory  home = getHomeAddress();\n",
    "        OrderStruct memory o=OrderStruct(_id, _p, _n, _amount, now, \"Orderd\", home);\n",
    "        \n",
    "        orderMap[tx.origin] = o;\n",
    "        addressById[_id] = tx.origin;\n",
    "        orderLen += 1;\n",
    "        totalAmount += _amount;\n",
    "    }\n",
    "    \n",
    "    function addCustomer(uint _id, string memory _name, string memory _ph, string memory _home) public{\n",
    "        Customer cus = new Customer();\n",
    "        cus.addCustomer(_id, _name, _ph, _home);\n",
    "        \n",
    "        customerById[_id]=cus;\n",
    "        homeByAddr[tx.origin] = _home;\n",
    "    }\n",
    "    \n",
    "\n",
    "    function getHomeAddress() public view returns(string memory){\n",
    "        return homeByAddr[tx.origin];\n",
    "    }\n",
    "    \n",
    "    function getStatus() public view returns(string memory){\n",
    "        return orderMap[tx.origin].status;\n",
    "    }\n",
    "    \n",
    "    function updateStatus(uint _id, string memory _s) public isOwner {\n",
    "        orderMap[addressById[_id]].status = _s;\n",
    "    }\n",
    "    \n",
    "    function getOrderItem() public view returns(uint, string memory, string memory, string memory){\n",
    "        return (orderMap[tx.origin].id, orderMap[tx.origin].p, orderMap[tx.origin].status, orderMap[tx.origin].shipping);\n",
    "    }\n",
    "    \n",
    "    function getOrderById(uint _id)  public view returns(uint, string memory, string memory, string memory){\n",
    "        OrderStruct memory o = orderMap[addressById[_id]];\n",
    "        return (o.id, o.p, o.status, o.shipping);\n",
    "    }\n",
    "    \n",
    "    function getNOrder() public view returns(uint){\n",
    "        return orderLen;\n",
    "    }\n",
    "    \n",
    "    function getTotalOrderAmount() public view returns(uint){\n",
    "        return totalAmount;\n",
    "    }\n",
    "    \n",
    "    function queryBalance()  view public returns(uint){\n",
    "        return address(this).balance;\n",
    "    }\n",
    "    \n",
    "    modifier isOwner{\n",
    "        require(msg.sender == owner);\n",
    "        _;\n",
    "    }\n",
    "        \n",
    "    // }\n",
    "}"
   ]
  },
  {
   "cell_type": "code",
   "execution_count": 12,
   "metadata": {},
   "outputs": [],
   "source": [
    "!solc ../src/CusOrder.sol --combined-json abi > ..\\src\\CusOrderABI.json"
   ]
  },
  {
   "cell_type": "code",
   "execution_count": 13,
   "metadata": {},
   "outputs": [],
   "source": [
    "!solc ../src/CusOrder.sol --combined-json bin > ..\\src\\CusOrderBIN.json"
   ]
  },
  {
   "cell_type": "code",
   "execution_count": 15,
   "metadata": {},
   "outputs": [
    {
     "name": "stdout",
     "output_type": "stream",
     "text": [
      "{\"contracts\":{\"../src/CusOrder.sol:Customer\":{\"abi\":\"[{\\\"inputs\\\":[{\\\"internalType\\\":\\\"uint256\\\",\\\"name\\\":\\\"_id\\\",\\\"type\\\":\\\"uint256\\\"},{\\\"internalType\\\":\\\"string\\\",\\\"name\\\":\\\"_name\\\",\\\"type\\\":\\\"string\\\"},{\\\"internalType\\\":\\\"string\\\",\\\"name\\\":\\\"_ph\\\",\\\"type\\\":\\\"string\\\"},{\\\"internalType\\\":\\\"string\\\",\\\"name\\\":\\\"_home\\\",\\\"type\\\":\\\"string\\\"}],\\\"name\\\":\\\"addCustomer\\\",\\\"outputs\\\":[],\\\"stateMutability\\\":\\\"payable\\\",\\\"type\\\":\\\"function\\\"},{\\\"inputs\\\":[{\\\"internalType\\\":\\\"address\\\",\\\"name\\\":\\\"\\\",\\\"type\\\":\\\"address\\\"}],\\\"name\\\":\\\"balanceOf\\\",\\\"outputs\\\":[{\\\"internalType\\\":\\\"uint256\\\",\\\"name\\\":\\\"\\\",\\\"type\\\":\\\"uint256\\\"}],\\\"stateMutability\\\":\\\"view\\\",\\\"type\\\":\\\"function\\\"},{\\\"inputs\\\":[],\\\"name\\\":\\\"getHomeAddress\\\",\\\"outputs\\\":[{\\\"internalType\\\":\\\"string\\\",\\\"name\\\":\\\"\\\",\\\"type\\\":\\\"string\\\"}],\\\"stateMutability\\\":\\\"view\\\",\\\"type\\\":\\\"function\\\"},{\\\"inputs\\\":[],\\\"name\\\":\\\"getId\\\",\\\"outputs\\\":[{\\\"internalType\\\":\\\"uint256\\\",\\\"name\\\":\\\"\\\",\\\"type\\\":\\\"uint256\\\"}],\\\"stateMutability\\\":\\\"view\\\",\\\"type\\\":\\\"function\\\"}]\"},\"../src/CusOrder.sol:Order\":{\"abi\":\"[{\\\"inputs\\\":[],\\\"stateMutability\\\":\\\"nonpayable\\\",\\\"type\\\":\\\"constructor\\\"},{\\\"inputs\\\":[{\\\"internalType\\\":\\\"uint256\\\",\\\"name\\\":\\\"_id\\\",\\\"type\\\":\\\"uint256\\\"},{\\\"internalType\\\":\\\"string\\\",\\\"name\\\":\\\"_name\\\",\\\"type\\\":\\\"string\\\"},{\\\"internalType\\\":\\\"string\\\",\\\"name\\\":\\\"_ph\\\",\\\"type\\\":\\\"string\\\"},{\\\"internalType\\\":\\\"string\\\",\\\"name\\\":\\\"_home\\\",\\\"type\\\":\\\"string\\\"}],\\\"name\\\":\\\"addCustomer\\\",\\\"outputs\\\":[],\\\"stateMutability\\\":\\\"nonpayable\\\",\\\"type\\\":\\\"function\\\"},{\\\"inputs\\\":[],\\\"name\\\":\\\"getHomeAddress\\\",\\\"outputs\\\":[{\\\"internalType\\\":\\\"string\\\",\\\"name\\\":\\\"\\\",\\\"type\\\":\\\"string\\\"}],\\\"stateMutability\\\":\\\"view\\\",\\\"type\\\":\\\"function\\\"},{\\\"inputs\\\":[],\\\"name\\\":\\\"getNOrder\\\",\\\"outputs\\\":[{\\\"internalType\\\":\\\"uint256\\\",\\\"name\\\":\\\"\\\",\\\"type\\\":\\\"uint256\\\"}],\\\"stateMutability\\\":\\\"view\\\",\\\"type\\\":\\\"function\\\"},{\\\"inputs\\\":[{\\\"internalType\\\":\\\"uint256\\\",\\\"name\\\":\\\"_id\\\",\\\"type\\\":\\\"uint256\\\"}],\\\"name\\\":\\\"getOrderById\\\",\\\"outputs\\\":[{\\\"internalType\\\":\\\"uint256\\\",\\\"name\\\":\\\"\\\",\\\"type\\\":\\\"uint256\\\"},{\\\"internalType\\\":\\\"string\\\",\\\"name\\\":\\\"\\\",\\\"type\\\":\\\"string\\\"},{\\\"internalType\\\":\\\"string\\\",\\\"name\\\":\\\"\\\",\\\"type\\\":\\\"string\\\"},{\\\"internalType\\\":\\\"string\\\",\\\"name\\\":\\\"\\\",\\\"type\\\":\\\"string\\\"}],\\\"stateMutability\\\":\\\"view\\\",\\\"type\\\":\\\"function\\\"},{\\\"inputs\\\":[],\\\"name\\\":\\\"getOrderItem\\\",\\\"outputs\\\":[{\\\"internalType\\\":\\\"uint256\\\",\\\"name\\\":\\\"\\\",\\\"type\\\":\\\"uint256\\\"},{\\\"internalType\\\":\\\"string\\\",\\\"name\\\":\\\"\\\",\\\"type\\\":\\\"string\\\"},{\\\"internalType\\\":\\\"string\\\",\\\"name\\\":\\\"\\\",\\\"type\\\":\\\"string\\\"},{\\\"internalType\\\":\\\"string\\\",\\\"name\\\":\\\"\\\",\\\"type\\\":\\\"string\\\"}],\\\"stateMutability\\\":\\\"view\\\",\\\"type\\\":\\\"function\\\"},{\\\"inputs\\\":[],\\\"name\\\":\\\"getStatus\\\",\\\"outputs\\\":[{\\\"internalType\\\":\\\"string\\\",\\\"name\\\":\\\"\\\",\\\"type\\\":\\\"string\\\"}],\\\"stateMutability\\\":\\\"view\\\",\\\"type\\\":\\\"function\\\"},{\\\"inputs\\\":[],\\\"name\\\":\\\"getTotalOrderAmount\\\",\\\"outputs\\\":[{\\\"internalType\\\":\\\"uint256\\\",\\\"name\\\":\\\"\\\",\\\"type\\\":\\\"uint256\\\"}],\\\"stateMutability\\\":\\\"view\\\",\\\"type\\\":\\\"function\\\"},{\\\"inputs\\\":[{\\\"internalType\\\":\\\"uint256\\\",\\\"name\\\":\\\"_id\\\",\\\"type\\\":\\\"uint256\\\"},{\\\"internalType\\\":\\\"string\\\",\\\"name\\\":\\\"_p\\\",\\\"type\\\":\\\"string\\\"},{\\\"internalType\\\":\\\"uint256\\\",\\\"name\\\":\\\"_n\\\",\\\"type\\\":\\\"uint256\\\"},{\\\"internalType\\\":\\\"uint256\\\",\\\"name\\\":\\\"_amount\\\",\\\"type\\\":\\\"uint256\\\"}],\\\"name\\\":\\\"placeOrder\\\",\\\"outputs\\\":[],\\\"stateMutability\\\":\\\"payable\\\",\\\"type\\\":\\\"function\\\"},{\\\"inputs\\\":[],\\\"name\\\":\\\"queryBalance\\\",\\\"outputs\\\":[{\\\"internalType\\\":\\\"uint256\\\",\\\"name\\\":\\\"\\\",\\\"type\\\":\\\"uint256\\\"}],\\\"stateMutability\\\":\\\"view\\\",\\\"type\\\":\\\"function\\\"},{\\\"inputs\\\":[{\\\"internalType\\\":\\\"uint256\\\",\\\"name\\\":\\\"_id\\\",\\\"type\\\":\\\"uint256\\\"},{\\\"internalType\\\":\\\"string\\\",\\\"name\\\":\\\"_s\\\",\\\"type\\\":\\\"string\\\"}],\\\"name\\\":\\\"updateStatus\\\",\\\"outputs\\\":[],\\\"stateMutability\\\":\\\"nonpayable\\\",\\\"type\\\":\\\"function\\\"}]\"}},\"version\":\"0.6.4+commit.1dca32f3.Windows.msvc\"}\n"
     ]
    }
   ],
   "source": [
    "!type ..\\src\\CusOrderABI.json"
   ]
  },
  {
   "cell_type": "markdown",
   "metadata": {},
   "source": [
    "## 배포"
   ]
  },
  {
   "cell_type": "code",
   "execution_count": 53,
   "metadata": {},
   "outputs": [
    {
     "name": "stdout",
     "output_type": "stream",
     "text": [
      "Overwriting ../src/CusOrderDeploy.js\n"
     ]
    }
   ],
   "source": [
    "%%writefile ../src/CusOrderDeploy.js\n",
    "var Web3=require('web3');\n",
    "var _abiJson = require('./CusOrderABI.json');\n",
    "var _binJson = require('./CusOrderBIN.json');\n",
    "\n",
    "var web3;\n",
    "web3 = new Web3(new Web3.providers.HttpProvider(\"http://localhost:8345\"));\n",
    "\n",
    "\n",
    "contractName=Object.keys(_abiJson.contracts); \n",
    "_abiArray=JSON.parse(_abiJson.contracts[contractName[1]].abi);\n",
    "_bin=_binJson.contracts[contractName[1]].bin;\n",
    "\n",
    "async function deploy() {\n",
    "    const accounts = await web3.eth.getAccounts();\n",
    "\n",
    "    //gas check\n",
    "    new web3.eth.Contract(_abiArray).deploy({data: _bin}).estimateGas(function(err, gas) {\n",
    "        if(!err) console.log(\">> gas: \"+ gas);\n",
    "    });\n",
    "    \n",
    "    var deployed = await new web3.eth.Contract(_abiArray)\n",
    "        .deploy({data: _bin})\n",
    "        .send({from: accounts[0], gas: 1662136, gasPrice: '1000000000'}, function(err, transactionHash) {\n",
    "                if(!err) console.log(\"hash: \" + transactionHash); \n",
    "        })\n",
    "    console.log(\"---> The contract deployed to: \" + deployed.options.address)\n",
    "}\n",
    "deploy()"
   ]
  },
  {
   "cell_type": "code",
   "execution_count": 54,
   "metadata": {},
   "outputs": [
    {
     "name": "stdout",
     "output_type": "stream",
     "text": [
      ">> gas: 1662136\n",
      "hash: 0x93c0b79d4db7f44d8eb37026c03dde7567fd394d1234bfdf952a3fc124684b14\n",
      "---> The contract deployed to: 0x7F1a224C26BA3856442300Edd79D8236bAB6dd10\n"
     ]
    }
   ],
   "source": [
    "!node ../src/CusOrderDeploy.js"
   ]
  },
  {
   "cell_type": "markdown",
   "metadata": {},
   "source": [
    "## 사용"
   ]
  },
  {
   "cell_type": "markdown",
   "metadata": {},
   "source": [
    "# 3) 계정, 잔고, gas 출력"
   ]
  },
  {
   "cell_type": "code",
   "execution_count": 76,
   "metadata": {},
   "outputs": [
    {
     "name": "stdout",
     "output_type": "stream",
     "text": [
      "Overwriting ../src/CusOrderUse.js\n"
     ]
    }
   ],
   "source": [
    "%%writefile ../src/CusOrderUse.js\n",
    "var Web3=require('web3');\n",
    "var _abiJson = require('./CusOrderABI.json');\n",
    "var _binJson = require('./CusOrderBIN.json');\n",
    "\n",
    "\n",
    "var web3;\n",
    "var web3 = new Web3(new Web3.providers.WebsocketProvider(\"ws://localhost:8345\"));\n",
    "contractName=Object.keys(_abiJson.contracts); \n",
    "_bin=_binJson.contracts[contractName[1]].bin;\n",
    "_abiArray=JSON.parse(_abiJson.contracts[contractName[1]].abi);\n",
    "\n",
    "var _order = new web3.eth.Contract(_abiArray, '0x7F1a224C26BA3856442300Edd79D8236bAB6dd10');\n",
    "\n",
    "async function doIt() {\n",
    "    const accounts = await web3.eth.getAccounts();\n",
    "    const balance0 = await web3.eth.getBalance(accounts[0]);\n",
    "    const balance1 = await web3.eth.getBalance(accounts[1]);\n",
    "    const balance2 = await web3.eth.getBalance(accounts[2]);\n",
    "    \n",
    "    console.log(`account0: ${accounts[0]}, balance: ${balance0}`)\n",
    "    console.log(`account1: ${accounts[0]}, balance: ${balance1}`)\n",
    "    console.log(`account2: ${accounts[0]}, balance: ${balance2}\\n`)\n",
    "    \n",
    "    new web3.eth.Contract(_abiArray).deploy({data: _bin}).estimateGas(function(err, gas) {\n",
    "        if(!err) console.log(\"gas: \"+ gas);\n",
    "    });\n",
    "    \n",
    "    // wait and exit\n",
    "    setTimeout(function() {\n",
    "      process.exit(1);\n",
    "    }, 1000);\n",
    "}\n",
    "\n",
    "doIt()"
   ]
  },
  {
   "cell_type": "code",
   "execution_count": 77,
   "metadata": {},
   "outputs": [
    {
     "name": "stdout",
     "output_type": "stream",
     "text": [
      "account0: 0x1CEc51b65ef4A8b0124581587FC9F846FC2DAF83, balance: 100000000000000000000\n",
      "account1: 0x1CEc51b65ef4A8b0124581587FC9F846FC2DAF83, balance: 100000000000000000000\n",
      "account2: 0x1CEc51b65ef4A8b0124581587FC9F846FC2DAF83, balance: 100000000000000000000\n",
      "\n",
      "gas: 1662136\n"
     ]
    }
   ],
   "source": [
    "!node ../src/CusOrderUse.js"
   ]
  },
  {
   "cell_type": "markdown",
   "metadata": {},
   "source": [
    "# 4) 고객정보 3건 입력"
   ]
  },
  {
   "cell_type": "code",
   "execution_count": 84,
   "metadata": {},
   "outputs": [
    {
     "name": "stdout",
     "output_type": "stream",
     "text": [
      "Overwriting ../src/CusOrderUse.js\n"
     ]
    }
   ],
   "source": [
    "%%writefile ../src/CusOrderUse.js\n",
    "var Web3=require('web3');\n",
    "var _abiJson = require('./CusOrderABI.json');\n",
    "var _binJson = require('./CusOrderBIN.json');\n",
    "\n",
    "\n",
    "var web3;\n",
    "var web3 = new Web3(new Web3.providers.WebsocketProvider(\"ws://localhost:8345\"));\n",
    "contractName=Object.keys(_abiJson.contracts); \n",
    "_bin=_binJson.contracts[contractName[1]].bin;\n",
    "_abiArray=JSON.parse(_abiJson.contracts[contractName[1]].abi);\n",
    "\n",
    "var _order = new web3.eth.Contract(_abiArray, '0x7F1a224C26BA3856442300Edd79D8236bAB6dd10');\n",
    "\n",
    "async function doIt() {\n",
    "    const accounts = await web3.eth.getAccounts();\n",
    "    \n",
    "    \n",
    "    await _order.methods.addCustomer(111, \"kim\", \"010-2017-1111\", \"111 hongji-dong jongro-gu seoul\")\n",
    "    .call();\n",
    "    \n",
    "    var home = await _order.methods.getHomeAddress().call()\n",
    "    console.log(home)\n",
    "    \n",
    "    // wait and exit\n",
    "    setTimeout(function() {\n",
    "      process.exit(1);\n",
    "    }, 1000);\n",
    "}\n",
    "\n",
    "doIt()"
   ]
  },
  {
   "cell_type": "code",
   "execution_count": 85,
   "metadata": {},
   "outputs": [
    {
     "name": "stderr",
     "output_type": "stream",
     "text": [
      "(node:16020) UnhandledPromiseRejectionWarning: Error: Returned values aren't valid, did it run Out of Gas? You might also see this error if you are not using the correct ABI for the contract you are retrieving data from, requesting data from a block number that does not exist, or querying a node which is not fully synced.\n",
      "    at ABICoder.decodeParameters (C:\\Users\\yoonho\\Code\\201910812\\node_modules\\web3-eth-abi\\src\\index.js:239:15)\n",
      "    at Contract._decodeMethodReturn (C:\\Users\\yoonho\\Code\\201910812\\node_modules\\web3-eth-contract\\src\\index.js:557:22)\n",
      "    at Method.outputFormatter (C:\\Users\\yoonho\\Code\\201910812\\node_modules\\web3-eth-contract\\src\\index.js:910:46)\n",
      "    at Method.formatOutput (C:\\Users\\yoonho\\Code\\201910812\\node_modules\\web3-core-method\\src\\index.js:167:54)\n",
      "    at sendTxCallback (C:\\Users\\yoonho\\Code\\201910812\\node_modules\\web3-core-method\\src\\index.js:596:33)\n",
      "    at Object.<anonymous> (C:\\Users\\yoonho\\Code\\201910812\\node_modules\\web3-core-requestmanager\\src\\index.js:147:9)\n",
      "    at C:\\Users\\yoonho\\Code\\201910812\\node_modules\\web3-providers-ws\\src\\index.js:127:44\n",
      "    at Array.forEach (<anonymous>)\n",
      "    at W3CWebSocket.WebsocketProvider.connection.onmessage (C:\\Users\\yoonho\\Code\\201910812\\node_modules\\web3-providers-ws\\src\\index.js:104:36)\n",
      "    at W3CWebSocket._dispatchEvent [as dispatchEvent] (C:\\Users\\yoonho\\Code\\201910812\\node_modules\\yaeti\\lib\\EventTarget.js:107:17)\n",
      "    at W3CWebSocket.onMessage (C:\\Users\\yoonho\\Code\\201910812\\node_modules\\@web3-js\\websocket\\lib\\W3CWebSocket.js:234:14)\n",
      "    at WebSocketConnection.<anonymous> (C:\\Users\\yoonho\\Code\\201910812\\node_modules\\@web3-js\\websocket\\lib\\W3CWebSocket.js:205:19)\n",
      "    at WebSocketConnection.emit (events.js:315:20)\n",
      "    at WebSocketConnection.processFrame (C:\\Users\\yoonho\\Code\\201910812\\node_modules\\@web3-js\\websocket\\lib\\WebSocketConnection.js:554:26)\n",
      "    at C:\\Users\\yoonho\\Code\\201910812\\node_modules\\@web3-js\\websocket\\lib\\WebSocketConnection.js:323:40\n",
      "    at processTicksAndRejections (internal/process/task_queues.js:75:11)\n",
      "(Use `node --trace-warnings ...` to show where the warning was created)\n",
      "(node:16020) UnhandledPromiseRejectionWarning: Unhandled promise rejection. This error originated either by throwing inside of an async function without a catch block, or by rejecting a promise which was not handled with .catch(). To terminate the node process on unhandled promise rejection, use the CLI flag `--unhandled-rejections=strict` (see https://nodejs.org/api/cli.html#cli_unhandled_rejections_mode). (rejection id: 1)\n",
      "(node:16020) [DEP0018] DeprecationWarning: Unhandled promise rejections are deprecated. In the future, promise rejections that are not handled will terminate the Node.js process with a non-zero exit code.\n"
     ]
    }
   ],
   "source": [
    "!node ../src/CusOrderUse.js"
   ]
  },
  {
   "cell_type": "code",
   "execution_count": null,
   "metadata": {},
   "outputs": [],
   "source": []
  }
 ],
 "metadata": {
  "kernelspec": {
   "display_name": "Python 3",
   "language": "python",
   "name": "python3"
  },
  "language_info": {
   "codemirror_mode": {
    "name": "ipython",
    "version": 3
   },
   "file_extension": ".py",
   "mimetype": "text/x-python",
   "name": "python",
   "nbconvert_exporter": "python",
   "pygments_lexer": "ipython3",
   "version": "3.6.6"
  }
 },
 "nbformat": 4,
 "nbformat_minor": 4
}
