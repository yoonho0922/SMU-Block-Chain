{
 "cells": [
  {
   "cell_type": "markdown",
   "metadata": {},
   "source": [
    "# 주문 파일 저장"
   ]
  },
  {
   "cell_type": "code",
   "execution_count": 54,
   "metadata": {},
   "outputs": [
    {
     "name": "stdout",
     "output_type": "stream",
     "text": [
      "Overwriting ../src/Order.sol\n"
     ]
    }
   ],
   "source": [
    "%%writefile ../src/Order.sol\n",
    "pragma solidity ^0.6.0;\n",
    "\n",
    "contract Order {\n",
    "    uint unitPrice = 10;\n",
    "    event OrderLog(address indexed _from, bytes2 _itemId, uint indexed quantity, string shipping);\n",
    "    \n",
    "    address payable owner;\n",
    "    \n",
    "    constructor() public {\n",
    "        owner = msg.sender;\n",
    "    }\n",
    "\n",
    "\n",
    "    function order(bytes2 _itemId, uint quantity, string memory shipping) public payable isOwner {\n",
    "        uint256 orderAmount = quantity * unitPrice;\n",
    "        require(msg.value == orderAmount);\n",
    "        \n",
    "        emit OrderLog(msg.sender, _itemId, quantity, shipping);\n",
    "    }\n",
    "    \n",
    "    \n",
    "    function getBalance() view public returns(uint) {\n",
    "        return address(this).balance;\n",
    "    }\n",
    "    \n",
    "    modifier isOwner{\n",
    "        require(msg.sender == owner);\n",
    "        _;\n",
    "    }\n",
    "    \n",
    "}"
   ]
  },
  {
   "cell_type": "code",
   "execution_count": 1,
   "metadata": {},
   "outputs": [],
   "source": [
    "!solc ../src/Order.sol --combined-json abi > ..\\src\\OrderABI.json"
   ]
  },
  {
   "cell_type": "code",
   "execution_count": 5,
   "metadata": {},
   "outputs": [
    {
     "name": "stdout",
     "output_type": "stream",
     "text": [
      "{\"contracts\":{\"../src/Order.sol:Order\":{\"abi\":\"[{\\\"inputs\\\":[],\\\"stateMutability\\\":\\\"nonpayable\\\",\\\"type\\\":\\\"constructor\\\"},{\\\"anonymous\\\":false,\\\"inputs\\\":[{\\\"indexed\\\":true,\\\"internalType\\\":\\\"address\\\",\\\"name\\\":\\\"_from\\\",\\\"type\\\":\\\"address\\\"},{\\\"indexed\\\":false,\\\"internalType\\\":\\\"bytes2\\\",\\\"name\\\":\\\"_itemId\\\",\\\"type\\\":\\\"bytes2\\\"},{\\\"indexed\\\":true,\\\"internalType\\\":\\\"uint256\\\",\\\"name\\\":\\\"quantity\\\",\\\"type\\\":\\\"uint256\\\"},{\\\"indexed\\\":false,\\\"internalType\\\":\\\"string\\\",\\\"name\\\":\\\"shipping\\\",\\\"type\\\":\\\"string\\\"}],\\\"name\\\":\\\"OrderLog\\\",\\\"type\\\":\\\"event\\\"},{\\\"inputs\\\":[],\\\"name\\\":\\\"getBalance\\\",\\\"outputs\\\":[{\\\"internalType\\\":\\\"uint256\\\",\\\"name\\\":\\\"\\\",\\\"type\\\":\\\"uint256\\\"}],\\\"stateMutability\\\":\\\"view\\\",\\\"type\\\":\\\"function\\\"},{\\\"inputs\\\":[{\\\"internalType\\\":\\\"bytes2\\\",\\\"name\\\":\\\"_itemId\\\",\\\"type\\\":\\\"bytes2\\\"},{\\\"internalType\\\":\\\"uint256\\\",\\\"name\\\":\\\"quantity\\\",\\\"type\\\":\\\"uint256\\\"},{\\\"internalType\\\":\\\"string\\\",\\\"name\\\":\\\"shipping\\\",\\\"type\\\":\\\"string\\\"}],\\\"name\\\":\\\"order\\\",\\\"outputs\\\":[],\\\"stateMutability\\\":\\\"payable\\\",\\\"type\\\":\\\"function\\\"}]\"}},\"version\":\"0.6.4+commit.1dca32f3.Windows.msvc\"}\n"
     ]
    }
   ],
   "source": [
    "!type ..\\src\\OrderABI.json"
   ]
  },
  {
   "cell_type": "code",
   "execution_count": 2,
   "metadata": {},
   "outputs": [],
   "source": [
    "!solc ../src/Order.sol --combined-json bin > ..\\src\\OrderBIN.json"
   ]
  },
  {
   "cell_type": "markdown",
   "metadata": {},
   "source": [
    "## 배포"
   ]
  },
  {
   "cell_type": "code",
   "execution_count": 3,
   "metadata": {},
   "outputs": [
    {
     "name": "stdout",
     "output_type": "stream",
     "text": [
      "Overwriting ../src/OrderDeploy.js\n"
     ]
    }
   ],
   "source": [
    "%%writefile ../src/OrderDeploy.js\n",
    "var Web3=require('web3');\n",
    "var _abiJson = require('./OrderABI.json');\n",
    "var _binJson = require('./OrderBIN.json');\n",
    "\n",
    "var web3;\n",
    "web3 = new Web3(new Web3.providers.HttpProvider(\"http://localhost:8345\"));\n",
    "\n",
    "\n",
    "contractName=Object.keys(_abiJson.contracts); \n",
    "console.log(\"- contract name: \", contractName[0]);\n",
    "_abiArray=JSON.parse(_abiJson.contracts[contractName].abi);\n",
    "_bin=_binJson.contracts[contractName].bin;\n",
    "\n",
    "async function deploy() {\n",
    "    const accounts = await web3.eth.getAccounts();\n",
    "\n",
    "    //gas check\n",
    "    new web3.eth.Contract(_abiArray).deploy({data: _bin}).estimateGas(function(err, gas) {\n",
    "        if(!err) console.log(\">> gas: \"+ gas);\n",
    "    });\n",
    "    \n",
    "    var deployed = await new web3.eth.Contract(_abiArray)\n",
    "        .deploy({data: _bin})\n",
    "        .send({from: accounts[0], gas: 364124, gasPrice: '1000000000'}, function(err, transactionHash) {\n",
    "                if(!err) console.log(\"hash: \" + transactionHash); \n",
    "        })\n",
    "    console.log(\"---> The contract deployed to: \" + deployed.options.address)\n",
    "}\n",
    "deploy()"
   ]
  },
  {
   "cell_type": "code",
   "execution_count": 4,
   "metadata": {},
   "outputs": [
    {
     "name": "stdout",
     "output_type": "stream",
     "text": [
      "- contract name:  ../src/Order.sol:Order\n",
      ">> gas: 259536\n",
      "hash: 0x58039558c324814b1ae2ddf9db2b6021c68b3d2f08aaaac89f0bfc19315dbf75\n",
      "---> The contract deployed to: 0xdC1F58AD69F815D76243332DD4cDB00931C899f6\n"
     ]
    }
   ],
   "source": [
    "!node ../src/OrderDeploy.js"
   ]
  },
  {
   "cell_type": "markdown",
   "metadata": {},
   "source": [
    "## 사용"
   ]
  },
  {
   "cell_type": "code",
   "execution_count": 33,
   "metadata": {},
   "outputs": [
    {
     "name": "stdout",
     "output_type": "stream",
     "text": [
      "Overwriting ../src/OrderUse.js\n"
     ]
    }
   ],
   "source": [
    "%%writefile ../src/OrderUse.js\n",
    "var Web3=require('web3');\n",
    "var fs=require('fs');\n",
    "var _abiJson = require('./OrderABI.json');\n",
    "var _binJson = require('./OrderBIN.json');\n",
    "\n",
    "\n",
    "var web3;\n",
    "var web3 = new Web3(new Web3.providers.WebsocketProvider(\"ws://localhost:8345\"));\n",
    "contractName=Object.keys(_abiJson.contracts); \n",
    "console.log(\"- contract name: \", contractName[0]); \n",
    "_abiArray=JSON.parse(_abiJson.contracts[contractName].abi);\n",
    "\n",
    "var _order = new web3.eth.Contract(_abiArray, '0xA1Bd56EB57beDa3211E8fd41263a90F1020A7c8F');\n",
    "\n",
    "var event = _order.events.OrderLog({filter: {_from: web3.eth.accounts[0], _value: 30}, fromBlock: 0}, function (error, result) {\n",
    "    if (!error) {\n",
    "        var addr = JSON.stringify(result.returnValues[0])\n",
    "        var product = JSON.stringify(result.returnValues[1])\n",
    "        var amount = JSON.stringify(result.returnValues[2])\n",
    "        var shipping = JSON.stringify(result.returnValues[3])\n",
    "        var log = `address: ${addr} \\nproduct: ${product} \\namount: ${amount} \\nshipping: ${shipping}`\n",
    "        \n",
    "        console.log(\"Event fired: \" + log);\n",
    "        console.log()\n",
    "        \n",
    "        fs.writeFile(\"../src/OrderLog.txt\", log, \"utf-8\", function(e) {\n",
    "            if(!e) {\n",
    "                console.log(\">> Writing to file\\n\");\n",
    "            }\n",
    "        });\n",
    "        \n",
    "        //대기 후 종료\n",
    "        setTimeout(function() {\n",
    "          process.exit(1);\n",
    "        }, 1000);\n",
    "    }\n",
    "});\n",
    "\n",
    "async function doIt() {\n",
    "    const accounts = await web3.eth.getAccounts();\n",
    "\n",
    "    var value;\n",
    "    const balanceBefore = await web3.eth.getBalance(accounts[0]);\n",
    "    \n",
    "    // this will fire an event\n",
    "    my = await _order.methods.order(\"0x1234\", 3, \"20 2-gil Hongji-dong Jongro-gu Busan\")\n",
    "        .send({from: accounts[0], gas: 100000, value:30})\n",
    "    console.log(\"---> MyFunction called \");\n",
    "\n",
    "    const balanceAfter = await web3.eth.getBalance(accounts[0]);\n",
    "    console.log(\"Balance after: \" + balanceAfter);\n",
    "    console.log(\"Balance diff: \" + (balanceBefore - balanceAfter));\n",
    "}\n",
    "\n",
    "doIt()"
   ]
  },
  {
   "cell_type": "code",
   "execution_count": 34,
   "metadata": {},
   "outputs": [
    {
     "name": "stdout",
     "output_type": "stream",
     "text": [
      "- contract name:  ../src/Order.sol:Order\n",
      "Event fired: address: \"0xa46e26d9BD272D8784047055271C243533552eCB\" \n",
      "product: \"0x1234\" \n",
      "amount: \"3\" \n",
      "shipping: \"20 2-gil Hongji-dong Jongro-gu Busan\"\n",
      "\n",
      ">> Writing to file\n",
      "\n",
      "Event fired: address: \"0xa46e26d9BD272D8784047055271C243533552eCB\" \n",
      "product: \"0x1234\" \n",
      "amount: \"3\" \n",
      "shipping: \"20 2-gil Hongji-dong Jongro-gu Busan\"\n",
      "\n",
      ">> Writing to file\n",
      "\n",
      "---> MyFunction called \n",
      "Balance after: 99982704343999993730\n",
      "Balance diff: 559140000006144\n"
     ]
    }
   ],
   "source": [
    "!node ../src/OrderUse.js"
   ]
  },
  {
   "cell_type": "code",
   "execution_count": 35,
   "metadata": {},
   "outputs": [
    {
     "name": "stdout",
     "output_type": "stream",
     "text": [
      "address: \"0xa46e26d9BD272D8784047055271C243533552eCB\" \n",
      "product: \"0x1234\" \n",
      "amount: \"3\" \n",
      "shipping: \"20 2-gil Hongji-dong Jongro-gu Busan\"\n"
     ]
    }
   ],
   "source": [
    "!type ..\\src\\OrderLog.txt"
   ]
  },
  {
   "cell_type": "markdown",
   "metadata": {},
   "source": [
    "# geth 배포 및 사용"
   ]
  },
  {
   "cell_type": "code",
   "execution_count": 85,
   "metadata": {},
   "outputs": [
    {
     "name": "stdout",
     "output_type": "stream",
     "text": [
      "{\"contracts\":{\"../src/Order.sol:Order\":{\"bin\":\"6080604052600a60005534801561001557600080fd5b5033600160006101000a81548173ffffffffffffffffffffffffffffffffffffffff021916908373ffffffffffffffffffffffffffffffffffffffff1602179055506102f9806100666000396000f3fe6080604052600436106100295760003560e01c806312065fe01461002e5780637a59a92914610059575b600080fd5b34801561003a57600080fd5b50610043610149565b6040518082815260200191505060405180910390f35b6101476004803603606081101561006f57600080fd5b8101908080357dffffffffffffffffffffffffffffffffffffffffffffffffffffffffffff1916906020019092919080359060200190929190803590602001906401000000008111156100c157600080fd5b8201836020820111156100d357600080fd5b803590602001918460018302840111640100000000831117156100f557600080fd5b91908080601f016020809104026020016040519081016040528093929190818152602001838380828437600081840152601f19601f820116905080830192505050505050509192919290505050610151565b005b600047905090565b600160009054906101000a900473ffffffffffffffffffffffffffffffffffffffff1673ffffffffffffffffffffffffffffffffffffffff163373ffffffffffffffffffffffffffffffffffffffff16146101ab57600080fd5b60008054830290508034146101bf57600080fd5b823373ffffffffffffffffffffffffffffffffffffffff167f0cee52e22e6b387c4183ee502522fa33f030e118cc6065c7a842e8b7c00e4a6a868560405180837dffffffffffffffffffffffffffffffffffffffffffffffffffffffffffff19167dffffffffffffffffffffffffffffffffffffffffffffffffffffffffffff1916815260200180602001828103825283818151815260200191508051906020019080838360005b83811015610282578082015181840152602081019050610267565b50505050905090810190601f1680156102af5780820380516001836020036101000a031916815260200191505b50935050505060405180910390a35050505056fea26469706673582212203d9f45c29506c8c199ce81032c006cde5975e63dc70bb1906b8721b09d6f73b864736f6c63430006040033\"}},\"version\":\"0.6.4+commit.1dca32f3.Windows.msvc\"}\n"
     ]
    }
   ],
   "source": [
    "!type ..\\src\\OrderGethBIN.json"
   ]
  },
  {
   "cell_type": "code",
   "execution_count": 27,
   "metadata": {},
   "outputs": [
    {
     "name": "stdout",
     "output_type": "stream",
     "text": [
      "Overwriting ..\\src\\OrderGethBIN.json\n"
     ]
    }
   ],
   "source": [
    "%%writefile ..\\src\\OrderGethBIN.json\n",
    "{\"contracts\":{\"../src/Order.sol:Order\":{\"bin\":\"6080604052600a60005534801561001557600080fd5b5033600160006101000a81548173ffffffffffffffffffffffffffffffffffffffff021916908373ffffffffffffffffffffffffffffffffffffffff1602179055506102f9806100666000396000f3fe6080604052600436106100295760003560e01c806312065fe01461002e5780637a59a92914610059575b600080fd5b34801561003a57600080fd5b50610043610149565b6040518082815260200191505060405180910390f35b6101476004803603606081101561006f57600080fd5b8101908080357dffffffffffffffffffffffffffffffffffffffffffffffffffffffffffff1916906020019092919080359060200190929190803590602001906401000000008111156100c157600080fd5b8201836020820111156100d357600080fd5b803590602001918460018302840111640100000000831117156100f557600080fd5b91908080601f016020809104026020016040519081016040528093929190818152602001838380828437600081840152601f19601f820116905080830192505050505050509192919290505050610151565b005b600047905090565b600160009054906101000a900473ffffffffffffffffffffffffffffffffffffffff1673ffffffffffffffffffffffffffffffffffffffff163373ffffffffffffffffffffffffffffffffffffffff16146101ab57600080fd5b60008054830290508034146101bf57600080fd5b823373ffffffffffffffffffffffffffffffffffffffff167f0cee52e22e6b387c4183ee502522fa33f030e118cc6065c7a842e8b7c00e4a6a868560405180837dffffffffffffffffffffffffffffffffffffffffffffffffffffffffffff19167dffffffffffffffffffffffffffffffffffffffffffffffffffffffffffff1916815260200180602001828103825283818151815260200191508051906020019080838360005b83811015610282578082015181840152602081019050610267565b50505050905090810190601f1680156102af5780820380516001836020036101000a031916815260200191505b50935050505060405180910390a35050505056fea26469706673582212200118e129125705772c70cde480a91185588696347bc65514cf812f41a93d10b064736f6c63430006030033\"}},\"version\":\"0.6.4+commit.1dca32f3.Windows.msvc\"}"
   ]
  },
  {
   "cell_type": "markdown",
   "metadata": {},
   "source": [
    "### geth 배포"
   ]
  },
  {
   "cell_type": "code",
   "execution_count": 28,
   "metadata": {},
   "outputs": [
    {
     "name": "stdout",
     "output_type": "stream",
     "text": [
      "Overwriting ../src/OrderGethDeploy.js\n"
     ]
    }
   ],
   "source": [
    "%%writefile ../src/OrderGethDeploy.js\n",
    "var Web3=require('web3');\n",
    "var _abiJson = require('./OrderABI.json');\n",
    "var _binJson = require('./OrderGethBIN.json');\n",
    "\n",
    "var web3;\n",
    "web3 = new Web3(new Web3.providers.HttpProvider(\"http://localhost:8445\"));\n",
    "\n",
    "\n",
    "contractName=Object.keys(_abiJson.contracts); \n",
    "console.log(\"- contract name: \", contractName[0]);\n",
    "_abiArray=JSON.parse(_abiJson.contracts[contractName].abi);\n",
    "_bin=_binJson.contracts[contractName].bin;\n",
    "\n",
    "async function deploy() {\n",
    "    const accounts = await web3.eth.getAccounts();\n",
    "    console.log(\"Deploying the contract from \" + accounts[0]);\n",
    "    var deployed = await new web3.eth.Contract(_abiArray)\n",
    "        .deploy({data: \"0x\" + _bin})\n",
    "        .send({from: accounts[0], gas: 364124, gasPrice: '1000000000'}, function(err, transactionHash) {\n",
    "                if(!err) console.log(\"hash: \" + transactionHash); \n",
    "        })\n",
    "    console.log(\"---> The contract deployed to: \" + deployed.options.address)\n",
    "}\n",
    "deploy()"
   ]
  },
  {
   "cell_type": "markdown",
   "metadata": {},
   "source": [
    "```\n",
    "geth --exec \"personal.unlockAccount(eth.accounts[0], '1111')\" attach http://localhost:8445\n",
    "miner.start(1);admin.sleepBlocks(1);miner.stop()\n",
    "```"
   ]
  },
  {
   "cell_type": "code",
   "execution_count": 29,
   "metadata": {},
   "outputs": [
    {
     "name": "stdout",
     "output_type": "stream",
     "text": [
      "- contract name:  ../src/Order.sol:Order\n",
      "Deploying the contract from 0x5C46B33Dc12cF6ebbb834310EF235730f6C8449e\n",
      "hash: 0x3d70901d4fc233fa1fe4450994641a5aa4edfc4e3ab98ef47090ef45eb41db2f\n",
      "---> The contract deployed to: 0xAe4cbe46c5f8F04463D9B1C266FB8a60249d8Bf0\n"
     ]
    }
   ],
   "source": [
    "!node ../src/OrderGethDeploy.js"
   ]
  },
  {
   "cell_type": "markdown",
   "metadata": {},
   "source": [
    "### geth 사용"
   ]
  },
  {
   "cell_type": "code",
   "execution_count": 38,
   "metadata": {},
   "outputs": [
    {
     "name": "stdout",
     "output_type": "stream",
     "text": [
      "Overwriting ../src/OrderGethUse.js\n"
     ]
    }
   ],
   "source": [
    "%%writefile ../src/OrderGethUse.js\n",
    "var Web3=require('web3');\n",
    "var fs=require('fs')\n",
    "var _abiJson = require('./OrderABI.json');\n",
    "\n",
    "var web3;\n",
    "var web3 = new Web3(new Web3.providers.WebsocketProvider(\"ws://localhost:8546\"));\n",
    "contractName=Object.keys(_abiJson.contracts); \n",
    "console.log(\"- contract name: \", contractName[0]); \n",
    "_abiArray=JSON.parse(_abiJson.contracts[contractName].abi);\n",
    "\n",
    "var _order = new web3.eth.Contract(_abiArray, '0xe5673EA8992cb4ea3b25ff7448eD3861abA4C184');\n",
    "\n",
    "var event = _order.events.OrderLog({filter: {_from: web3.eth.accounts[0], _value: 30}, fromBlock: 0}, function (error, result) {\n",
    "    if (!error) {\n",
    "        var log = JSON.stringify(result.returnValues)\n",
    "        console.log(\"Event fired: \" + log);\n",
    "        console.log()\n",
    "        \n",
    "        fs.writeFile(\"../src/OrderLog.txt\", log, \"utf-8\", function(e) {\n",
    "            if(!e) {\n",
    "                console.log(\">> Writing to file\\n\");\n",
    "            }\n",
    "        });\n",
    "        \n",
    "        //대기 후 종료\n",
    "        setTimeout(function() {\n",
    "          process.exit(1);\n",
    "        }, 1000);\n",
    "    }\n",
    "});\n",
    "\n",
    "async function doIt() {\n",
    "    const accounts = await web3.eth.getAccounts();\n",
    "\n",
    "    var value;\n",
    "    const balanceBefore = await web3.eth.getBalance(accounts[0]);\n",
    "    \n",
    "    // this will fire an event\n",
    "    my = await _order.methods.order(\"0x1234\", 3, \"20 2-gil Hongji-dong Jongro-gu Busan\")\n",
    "        .send({from: accounts[0], gas: 100000, value:30})\n",
    "    console.log(\"---> MyFunction called \");\n",
    "\n",
    "    const balanceAfter = await web3.eth.getBalance(accounts[0]);\n",
    "    console.log(\"Balance after: \" + balanceAfter);\n",
    "    console.log(\"Balance diff: \" + (balanceBefore - balanceAfter));\n",
    "    \n",
    "    \n",
    "    //대기 후 종료\n",
    "    setTimeout(function() {\n",
    "      process.exit(1);\n",
    "    }, 1000);\n",
    "}\n",
    "\n",
    "doIt()"
   ]
  },
  {
   "cell_type": "code",
   "execution_count": 42,
   "metadata": {},
   "outputs": [
    {
     "name": "stdout",
     "output_type": "stream",
     "text": [
      "- contract name:  ../src/Order.sol:Order\n",
      "---> MyFunction called \n",
      "Balance after: 9999999999999999970\n",
      "Balance diff: -5000000000000000000\n"
     ]
    }
   ],
   "source": [
    "!node ../src/OrderGethUse.js"
   ]
  },
  {
   "cell_type": "code",
   "execution_count": null,
   "metadata": {},
   "outputs": [],
   "source": []
  }
 ],
 "metadata": {
  "kernelspec": {
   "display_name": "Python 3",
   "language": "python",
   "name": "python3"
  },
  "language_info": {
   "codemirror_mode": {
    "name": "ipython",
    "version": 3
   },
   "file_extension": ".py",
   "mimetype": "text/x-python",
   "name": "python",
   "nbconvert_exporter": "python",
   "pygments_lexer": "ipython3",
   "version": "3.6.6"
  }
 },
 "nbformat": 4,
 "nbformat_minor": 4
}
