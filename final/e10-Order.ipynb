{
 "cells": [
  {
   "cell_type": "code",
   "execution_count": 2,
   "metadata": {},
   "outputs": [
    {
     "name": "stdout",
     "output_type": "stream",
     "text": [
      "Overwriting ../src/OrderEvent.sol\n"
     ]
    }
   ],
   "source": [
    "%%writefile ../src/OrderEvent.sol\n",
    "pragma solidity ^0.6.0;\n",
    "\n",
    "contract OrderEvent {\n",
    "    uint unitPrice = 10;\n",
    "    \n",
    "    event OrderLog(string);\n",
    "    event OrderLog(bytes2 _itemId, uint _value);\n",
    "    event OrderLog(uint256 timestamp);\n",
    "    event OrderLog(address indexed _from, bytes2 _itemId, uint indexed _value);\n",
    "\n",
    "    function order(bytes2 _itemId, uint quantity) public payable {\n",
    "        uint256 orderTime = now;\n",
    "        uint256 orderAmount = quantity * unitPrice;\n",
    "        require(msg.value == orderAmount);\n",
    "        emit OrderLog(\"Ordered\");\n",
    "        emit OrderLog(orderTime);\n",
    "        emit OrderLog(msg.sender, _itemId, msg.value);\n",
    "    }\n",
    "}"
   ]
  },
  {
   "cell_type": "code",
   "execution_count": 3,
   "metadata": {},
   "outputs": [],
   "source": [
    "!solc ../src/OrderEvent.sol --combined-json abi > ..\\src\\OrderEventABI.json"
   ]
  },
  {
   "cell_type": "code",
   "execution_count": 4,
   "metadata": {},
   "outputs": [],
   "source": [
    "!solc ../src/OrderEvent.sol --combined-json bin > ..\\src\\OrderEventBIN.json"
   ]
  },
  {
   "cell_type": "markdown",
   "metadata": {},
   "source": [
    "## 배포"
   ]
  },
  {
   "cell_type": "code",
   "execution_count": 49,
   "metadata": {},
   "outputs": [
    {
     "name": "stdout",
     "output_type": "stream",
     "text": [
      "Overwriting ../src/OrderEventDeploy.js\n"
     ]
    }
   ],
   "source": [
    "%%writefile ../src/OrderEventDeploy.js\n",
    "var Web3=require('web3');\n",
    "var _abiJson = require('./OrderEventABI.json');\n",
    "var _binJson = require('./OrderEventBIN.json');\n",
    "\n",
    "var web3;\n",
    "web3 = new Web3(new Web3.providers.HttpProvider(\"http://localhost:8345\"));\n",
    "\n",
    "\n",
    "contractName=Object.keys(_abiJson.contracts); \n",
    "console.log(\"- contract name: \", contractName[0]);\n",
    "_abiArray=JSON.parse(_abiJson.contracts[contractName].abi);\n",
    "_bin=_binJson.contracts[contractName].bin;\n",
    "\n",
    "async function deploy() {\n",
    "    const accounts = await web3.eth.getAccounts();\n",
    "    console.log(\"Deploying the contract from \" + accounts[0]);\n",
    "    var deployed = await new web3.eth.Contract(_abiArray)\n",
    "        .deploy({data: _bin})\n",
    "        .send({from: accounts[0], gas: 364124, gasPrice: '1000000000'}, function(err, transactionHash) {\n",
    "                if(!err) console.log(\"hash: \" + transactionHash); \n",
    "        })\n",
    "    console.log(\"---> The contract deployed to: \" + deployed.options.address)\n",
    "}\n",
    "deploy()"
   ]
  },
  {
   "cell_type": "code",
   "execution_count": 50,
   "metadata": {},
   "outputs": [
    {
     "name": "stdout",
     "output_type": "stream",
     "text": [
      "- contract name:  ../src/OrderEvent.sol:OrderEvent\n",
      "Deploying the contract from 0xb8b7BCf69088077b8EE587E481A3F862fAb4E1Bf\n",
      "hash: 0x2f75b791465c0342ff380daf574ecb84eedb93638994ae9f9da6b27969522549\n",
      "---> The contract deployed to: 0xa1B8B096b473103c709483905E28914fCf48748b\n"
     ]
    }
   ],
   "source": [
    "!node ../src/OrderEventDeploy.js"
   ]
  },
  {
   "cell_type": "markdown",
   "metadata": {},
   "source": [
    "## 사용"
   ]
  },
  {
   "cell_type": "code",
   "execution_count": 51,
   "metadata": {},
   "outputs": [
    {
     "name": "stdout",
     "output_type": "stream",
     "text": [
      "Overwriting ../src/OrderEventUse.js\n"
     ]
    }
   ],
   "source": [
    "%%writefile ../src/OrderEventUse.js\n",
    "var Web3=require('web3');\n",
    "var fs=require('fs');\n",
    "var _abiJson = require('./OrderEventABI.json');\n",
    "var _binJson = require('./OrderEventBIN.json');\n",
    "\n",
    "\n",
    "var web3;\n",
    "var web3 = new Web3(new Web3.providers.WebsocketProvider(\"http://localhost:8345\"));\n",
    "contractName=Object.keys(_abiJson.contracts); \n",
    "console.log(\"- contract name: \", contractName[0]); \n",
    "_abiArray=JSON.parse(_abiJson.contracts[contractName].abi);\n",
    "\n",
    "var _order = new web3.eth.Contract(_abiArray, '0xa1B8B096b473103c709483905E28914fCf48748b');\n",
    "\n",
    "var event = _order.events.OrderLog({filter: {_from: web3.eth.accounts[0], _value: 30}, fromBlock: 0}, function (error, result) {\n",
    "    if (!error) {\n",
    "        var log = JSON.stringify(result.returnValues)\n",
    "        console.log(\"Event fired: \" + log);\n",
    "        \n",
    "        fs.writeFile(\"../src/OrderEventLog.txt\", log, \"utf-8\", function(e) {\n",
    "            if(!e) {\n",
    "                console.log(\">> Writing to file\");\n",
    "            }\n",
    "        });\n",
    "        \n",
    "        //대기 후 종료\n",
    "        setTimeout(function() {\n",
    "          process.exit(1);\n",
    "        }, 1000);\n",
    "    }\n",
    "});\n",
    "\n",
    "async function doIt() {\n",
    "    const accounts = await web3.eth.getAccounts();\n",
    "    console.log(\"Account: \" + accounts[0]);\n",
    "\n",
    "    var value;\n",
    "    const balanceBefore = await web3.eth.getBalance(accounts[0]);\n",
    "    console.log(\"Balance before: \" + balanceBefore);\n",
    "    \n",
    "    // this will fire an event\n",
    "    my = await _order.methods.order(\"0x1234\", 3)\n",
    "        .send({from: accounts[0], gas: 100000, value:30})\n",
    "    console.log(\"---> MyFunction called \" + JSON.stringify(my.events.OrderLog.returnValues));\n",
    "    \n",
    "    \n",
    "    // this will fire another event\n",
    "    my = await _order.methods.order(\"0x1234\", 4).send({from: accounts[0], gas: 100000, value:40});\n",
    "    console.log(\"---> MyFunction called \" + JSON.stringify(my.events.OrderLog.returnValues));\n",
    "    \n",
    "    \n",
    "    // this will NOT fire another event\n",
    "    my = await _order.methods.order(\"0x1234\", 10).send({from: accounts[0], gas: 100000, value:100});\n",
    "    console.log(\"---> MyFunction called \" + JSON.stringify(my.events.OrderLog.returnValues));\n",
    "    \n",
    "    \n",
    "    const balanceAfter = await web3.eth.getBalance(accounts[0]);\n",
    "    console.log(\"Balance after: \" + balanceAfter);\n",
    "    console.log(\"Balance diff: \" + (balanceBefore - balanceAfter));\n",
    "}\n",
    "\n",
    "doIt()"
   ]
  },
  {
   "cell_type": "code",
   "execution_count": 52,
   "metadata": {},
   "outputs": [
    {
     "name": "stdout",
     "output_type": "stream",
     "text": [
      "- contract name:  ../src/OrderEvent.sol:OrderEvent\n",
      "Account: 0xb8b7BCf69088077b8EE587E481A3F862fAb4E1Bf\n",
      "Balance before: 99999815993000000000\n",
      "Event fired: {\"0\":\"0xb8b7BCf69088077b8EE587E481A3F862fAb4E1Bf\",\"1\":\"0x1234\",\"2\":\"30\",\"_from\":\"0xb8b7BCf69088077b8EE587E481A3F862fAb4E1Bf\",\"_itemId\":\"0x1234\",\"_value\":\"30\"}\n",
      ">> Writing to file\n",
      "---> MyFunction called undefined\n",
      "---> MyFunction called undefined\n",
      "---> MyFunction called undefined\n",
      "Balance after: 99998198572999999830\n",
      "Balance diff: 1617420000002048\n"
     ]
    }
   ],
   "source": [
    "!node ../src/OrderEventUse.js"
   ]
  },
  {
   "cell_type": "code",
   "execution_count": 53,
   "metadata": {},
   "outputs": [
    {
     "name": "stdout",
     "output_type": "stream",
     "text": [
      "{\"0\":\"0xb8b7BCf69088077b8EE587E481A3F862fAb4E1Bf\",\"1\":\"0x1234\",\"2\":\"30\",\"_from\":\"0xb8b7BCf69088077b8EE587E481A3F862fAb4E1Bf\",\"_itemId\":\"0x1234\",\"_value\":\"30\"}\n"
     ]
    }
   ],
   "source": [
    "!type ..\\src\\OrderEventLog.txt"
   ]
  },
  {
   "cell_type": "code",
   "execution_count": null,
   "metadata": {},
   "outputs": [],
   "source": []
  }
 ],
 "metadata": {
  "kernelspec": {
   "display_name": "Python 3",
   "language": "python",
   "name": "python3"
  },
  "language_info": {
   "codemirror_mode": {
    "name": "ipython",
    "version": 3
   },
   "file_extension": ".py",
   "mimetype": "text/x-python",
   "name": "python",
   "nbconvert_exporter": "python",
   "pygments_lexer": "ipython3",
   "version": "3.6.6"
  }
 },
 "nbformat": 4,
 "nbformat_minor": 4
}
